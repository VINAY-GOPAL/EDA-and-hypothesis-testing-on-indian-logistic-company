{
  "nbformat": 4,
  "nbformat_minor": 0,
  "metadata": {
    "colab": {
      "provenance": [],
      "collapsed_sections": [],
      "authorship_tag": "ABX9TyNeSueF7rPY9Zng1XmDaT1f",
      "include_colab_link": true
    },
    "kernelspec": {
      "name": "python3",
      "display_name": "Python 3"
    },
    "language_info": {
      "name": "python"
    }
  },
  "cells": [
    {
      "cell_type": "markdown",
      "metadata": {
        "id": "view-in-github",
        "colab_type": "text"
      },
      "source": [
        "<a href=\"https://colab.research.google.com/github/VINAY-GOPAL/EDA-and-hypothesis-testing-on-indian-logistic-company/blob/main/delhivery_feature_engineering.ipynb\" target=\"_parent\"><img src=\"https://colab.research.google.com/assets/colab-badge.svg\" alt=\"Open In Colab\"/></a>"
      ]
    },
    {
      "cell_type": "markdown",
      "source": [
        "The data is about the india's fastest-growing logistic company. They aim to build the operating system for commerce, through a combination of world-class infrastructure, logistics operations of the highest quality, and cutting-edge engineering and technology capabilities.\n",
        "\n",
        "The Data team builds intelligence and capabilities using this data that helps them to widen the gap between the quality, efficiency, and profitability of their business versus their competitors.\n",
        "\n",
        "# Problem statement:\n",
        "\n",
        "The company wants to understand and process the data coming out of data engineering pipelines:\n",
        "\n",
        "• Clean, sanitize and manipulate data to get useful features out of raw fields\n",
        "\n",
        "• Make sense out of the raw data and help the data science team to build forecasting models on it\n",
        "\n",
        "\n",
        "**Column Profiling:**\n",
        "\n",
        "data - tells whether the data is testing or training data\n",
        "\n",
        "trip_creation_time – Timestamp of trip creation\n",
        "\n",
        "route_schedule_uuid – Unique Id for a particular route schedule\n",
        "\n",
        "route_type – Transportation type\n",
        "\n",
        "FTL – Full Truck Load: FTL shipments get to the destination sooner, as the truck is making no other pickups or drop-offs along the way\n",
        "\n",
        "Carting: Handling system consisting of small vehicles (carts)\n",
        "\n",
        "trip_uuid - Unique ID given to a particular trip (A trip may include different source and destination centers)\n",
        "\n",
        "source_center - Source ID of trip origin\n",
        "\n",
        "source_name - Source Name of trip origin\n",
        "\n",
        "destination_cente – Destination ID\n",
        "\n",
        "destination_name – Destination Name\n",
        "\n",
        "od_start_time – Trip start time\n",
        "\n",
        "od_end_time – Trip end time\n",
        "\n",
        "start_scan_to_end_scan – Time taken to deliver from source to destination\n",
        "\n",
        "is_cutoff – Unknown field\n",
        "\n",
        "cutoff_factor – Unknown field\n",
        "\n",
        "cutoff_timestamp – Unknown field\n",
        "\n",
        "actual_distance_to_destination – Distance in Kms between source and destination warehouse\n",
        "\n",
        "actual_time – Actual time taken to complete the delivery (Cumulative)\n",
        "\n",
        "osrm_time – An open-source routing engine time calculator which computes the shortest path between points in a given map (Includes usual traffic, distance through major and minor roads) and gives the time (Cumulative)\n",
        "\n",
        "osrm_distance – An open-source routing engine which computes the shortest path between points in a given map (Includes usual traffic, distance through major and minor roads) (Cumulative)\n",
        "\n",
        "factor – Unknown field\n",
        "\n",
        "segment_actual_time – This is a segment time. Time taken by the subset of the package delivery\n",
        "\n",
        "segment_osrm_time – This is the OSRM segment time. Time taken by the subset of the package delivery\n",
        "\n",
        "segment_osrm_distance – This is the OSRM distance. Distance covered by subset of the package delivery\n",
        "\n",
        "segment_factor – Unknown field"
      ],
      "metadata": {
        "id": "QfDPhGL0wGtK"
      }
    },
    {
      "cell_type": "code",
      "execution_count": 3,
      "metadata": {
        "id": "BegNbt4otKMx"
      },
      "outputs": [],
      "source": [
        "import pandas as pd\n",
        "import seaborn as sns\n",
        "import numpy as np\n",
        "import matplotlib.pyplot as plt\n",
        "import scipy.stats as st\n",
        "from statsmodels.stats.weightstats import ztest\n",
        "from scipy.stats import ttest_ind, f_oneway, chi2_contingency\n",
        "from statsmodels.graphics.gofplots import qqplot,qqplot_2samples"
      ]
    },
    {
      "cell_type": "code",
      "source": [
        "df = pd.read_csv(\"data.csv\")\n",
        "df.head()"
      ],
      "metadata": {
        "colab": {
          "base_uri": "https://localhost:8080/",
          "height": 473
        },
        "id": "YQOjwZmgtMma",
        "outputId": "5dd15ad9-df60-4fb3-8c04-f6a11968a505"
      },
      "execution_count": 4,
      "outputs": [
        {
          "output_type": "execute_result",
          "data": {
            "text/plain": [
              "       data          trip_creation_time  \\\n",
              "0  training  2018-09-20 02:35:36.476840   \n",
              "1  training  2018-09-20 02:35:36.476840   \n",
              "2  training  2018-09-20 02:35:36.476840   \n",
              "3  training  2018-09-20 02:35:36.476840   \n",
              "4  training  2018-09-20 02:35:36.476840   \n",
              "\n",
              "                                 route_schedule_uuid route_type  \\\n",
              "0  thanos::sroute:eb7bfc78-b351-4c0e-a951-fa3d5c3...    Carting   \n",
              "1  thanos::sroute:eb7bfc78-b351-4c0e-a951-fa3d5c3...    Carting   \n",
              "2  thanos::sroute:eb7bfc78-b351-4c0e-a951-fa3d5c3...    Carting   \n",
              "3  thanos::sroute:eb7bfc78-b351-4c0e-a951-fa3d5c3...    Carting   \n",
              "4  thanos::sroute:eb7bfc78-b351-4c0e-a951-fa3d5c3...    Carting   \n",
              "\n",
              "                 trip_uuid source_center                 source_name  \\\n",
              "0  trip-153741093647649320  IND388121AAA  Anand_VUNagar_DC (Gujarat)   \n",
              "1  trip-153741093647649320  IND388121AAA  Anand_VUNagar_DC (Gujarat)   \n",
              "2  trip-153741093647649320  IND388121AAA  Anand_VUNagar_DC (Gujarat)   \n",
              "3  trip-153741093647649320  IND388121AAA  Anand_VUNagar_DC (Gujarat)   \n",
              "4  trip-153741093647649320  IND388121AAA  Anand_VUNagar_DC (Gujarat)   \n",
              "\n",
              "  destination_center               destination_name  \\\n",
              "0       IND388620AAB  Khambhat_MotvdDPP_D (Gujarat)   \n",
              "1       IND388620AAB  Khambhat_MotvdDPP_D (Gujarat)   \n",
              "2       IND388620AAB  Khambhat_MotvdDPP_D (Gujarat)   \n",
              "3       IND388620AAB  Khambhat_MotvdDPP_D (Gujarat)   \n",
              "4       IND388620AAB  Khambhat_MotvdDPP_D (Gujarat)   \n",
              "\n",
              "                od_start_time  ...            cutoff_timestamp  \\\n",
              "0  2018-09-20 03:21:32.418600  ...         2018-09-20 04:27:55   \n",
              "1  2018-09-20 03:21:32.418600  ...         2018-09-20 04:17:55   \n",
              "2  2018-09-20 03:21:32.418600  ...  2018-09-20 04:01:19.505586   \n",
              "3  2018-09-20 03:21:32.418600  ...         2018-09-20 03:39:57   \n",
              "4  2018-09-20 03:21:32.418600  ...         2018-09-20 03:33:55   \n",
              "\n",
              "   actual_distance_to_destination  actual_time  osrm_time osrm_distance  \\\n",
              "0                       10.435660         14.0       11.0       11.9653   \n",
              "1                       18.936842         24.0       20.0       21.7243   \n",
              "2                       27.637279         40.0       28.0       32.5395   \n",
              "3                       36.118028         62.0       40.0       45.5620   \n",
              "4                       39.386040         68.0       44.0       54.2181   \n",
              "\n",
              "     factor  segment_actual_time  segment_osrm_time  segment_osrm_distance  \\\n",
              "0  1.272727                 14.0               11.0                11.9653   \n",
              "1  1.200000                 10.0                9.0                 9.7590   \n",
              "2  1.428571                 16.0                7.0                10.8152   \n",
              "3  1.550000                 21.0               12.0                13.0224   \n",
              "4  1.545455                  6.0                5.0                 3.9153   \n",
              "\n",
              "   segment_factor  \n",
              "0        1.272727  \n",
              "1        1.111111  \n",
              "2        2.285714  \n",
              "3        1.750000  \n",
              "4        1.200000  \n",
              "\n",
              "[5 rows x 24 columns]"
            ],
            "text/html": [
              "\n",
              "  <div id=\"df-f4b39e95-62b4-4cfd-b649-1ec740182759\">\n",
              "    <div class=\"colab-df-container\">\n",
              "      <div>\n",
              "<style scoped>\n",
              "    .dataframe tbody tr th:only-of-type {\n",
              "        vertical-align: middle;\n",
              "    }\n",
              "\n",
              "    .dataframe tbody tr th {\n",
              "        vertical-align: top;\n",
              "    }\n",
              "\n",
              "    .dataframe thead th {\n",
              "        text-align: right;\n",
              "    }\n",
              "</style>\n",
              "<table border=\"1\" class=\"dataframe\">\n",
              "  <thead>\n",
              "    <tr style=\"text-align: right;\">\n",
              "      <th></th>\n",
              "      <th>data</th>\n",
              "      <th>trip_creation_time</th>\n",
              "      <th>route_schedule_uuid</th>\n",
              "      <th>route_type</th>\n",
              "      <th>trip_uuid</th>\n",
              "      <th>source_center</th>\n",
              "      <th>source_name</th>\n",
              "      <th>destination_center</th>\n",
              "      <th>destination_name</th>\n",
              "      <th>od_start_time</th>\n",
              "      <th>...</th>\n",
              "      <th>cutoff_timestamp</th>\n",
              "      <th>actual_distance_to_destination</th>\n",
              "      <th>actual_time</th>\n",
              "      <th>osrm_time</th>\n",
              "      <th>osrm_distance</th>\n",
              "      <th>factor</th>\n",
              "      <th>segment_actual_time</th>\n",
              "      <th>segment_osrm_time</th>\n",
              "      <th>segment_osrm_distance</th>\n",
              "      <th>segment_factor</th>\n",
              "    </tr>\n",
              "  </thead>\n",
              "  <tbody>\n",
              "    <tr>\n",
              "      <th>0</th>\n",
              "      <td>training</td>\n",
              "      <td>2018-09-20 02:35:36.476840</td>\n",
              "      <td>thanos::sroute:eb7bfc78-b351-4c0e-a951-fa3d5c3...</td>\n",
              "      <td>Carting</td>\n",
              "      <td>trip-153741093647649320</td>\n",
              "      <td>IND388121AAA</td>\n",
              "      <td>Anand_VUNagar_DC (Gujarat)</td>\n",
              "      <td>IND388620AAB</td>\n",
              "      <td>Khambhat_MotvdDPP_D (Gujarat)</td>\n",
              "      <td>2018-09-20 03:21:32.418600</td>\n",
              "      <td>...</td>\n",
              "      <td>2018-09-20 04:27:55</td>\n",
              "      <td>10.435660</td>\n",
              "      <td>14.0</td>\n",
              "      <td>11.0</td>\n",
              "      <td>11.9653</td>\n",
              "      <td>1.272727</td>\n",
              "      <td>14.0</td>\n",
              "      <td>11.0</td>\n",
              "      <td>11.9653</td>\n",
              "      <td>1.272727</td>\n",
              "    </tr>\n",
              "    <tr>\n",
              "      <th>1</th>\n",
              "      <td>training</td>\n",
              "      <td>2018-09-20 02:35:36.476840</td>\n",
              "      <td>thanos::sroute:eb7bfc78-b351-4c0e-a951-fa3d5c3...</td>\n",
              "      <td>Carting</td>\n",
              "      <td>trip-153741093647649320</td>\n",
              "      <td>IND388121AAA</td>\n",
              "      <td>Anand_VUNagar_DC (Gujarat)</td>\n",
              "      <td>IND388620AAB</td>\n",
              "      <td>Khambhat_MotvdDPP_D (Gujarat)</td>\n",
              "      <td>2018-09-20 03:21:32.418600</td>\n",
              "      <td>...</td>\n",
              "      <td>2018-09-20 04:17:55</td>\n",
              "      <td>18.936842</td>\n",
              "      <td>24.0</td>\n",
              "      <td>20.0</td>\n",
              "      <td>21.7243</td>\n",
              "      <td>1.200000</td>\n",
              "      <td>10.0</td>\n",
              "      <td>9.0</td>\n",
              "      <td>9.7590</td>\n",
              "      <td>1.111111</td>\n",
              "    </tr>\n",
              "    <tr>\n",
              "      <th>2</th>\n",
              "      <td>training</td>\n",
              "      <td>2018-09-20 02:35:36.476840</td>\n",
              "      <td>thanos::sroute:eb7bfc78-b351-4c0e-a951-fa3d5c3...</td>\n",
              "      <td>Carting</td>\n",
              "      <td>trip-153741093647649320</td>\n",
              "      <td>IND388121AAA</td>\n",
              "      <td>Anand_VUNagar_DC (Gujarat)</td>\n",
              "      <td>IND388620AAB</td>\n",
              "      <td>Khambhat_MotvdDPP_D (Gujarat)</td>\n",
              "      <td>2018-09-20 03:21:32.418600</td>\n",
              "      <td>...</td>\n",
              "      <td>2018-09-20 04:01:19.505586</td>\n",
              "      <td>27.637279</td>\n",
              "      <td>40.0</td>\n",
              "      <td>28.0</td>\n",
              "      <td>32.5395</td>\n",
              "      <td>1.428571</td>\n",
              "      <td>16.0</td>\n",
              "      <td>7.0</td>\n",
              "      <td>10.8152</td>\n",
              "      <td>2.285714</td>\n",
              "    </tr>\n",
              "    <tr>\n",
              "      <th>3</th>\n",
              "      <td>training</td>\n",
              "      <td>2018-09-20 02:35:36.476840</td>\n",
              "      <td>thanos::sroute:eb7bfc78-b351-4c0e-a951-fa3d5c3...</td>\n",
              "      <td>Carting</td>\n",
              "      <td>trip-153741093647649320</td>\n",
              "      <td>IND388121AAA</td>\n",
              "      <td>Anand_VUNagar_DC (Gujarat)</td>\n",
              "      <td>IND388620AAB</td>\n",
              "      <td>Khambhat_MotvdDPP_D (Gujarat)</td>\n",
              "      <td>2018-09-20 03:21:32.418600</td>\n",
              "      <td>...</td>\n",
              "      <td>2018-09-20 03:39:57</td>\n",
              "      <td>36.118028</td>\n",
              "      <td>62.0</td>\n",
              "      <td>40.0</td>\n",
              "      <td>45.5620</td>\n",
              "      <td>1.550000</td>\n",
              "      <td>21.0</td>\n",
              "      <td>12.0</td>\n",
              "      <td>13.0224</td>\n",
              "      <td>1.750000</td>\n",
              "    </tr>\n",
              "    <tr>\n",
              "      <th>4</th>\n",
              "      <td>training</td>\n",
              "      <td>2018-09-20 02:35:36.476840</td>\n",
              "      <td>thanos::sroute:eb7bfc78-b351-4c0e-a951-fa3d5c3...</td>\n",
              "      <td>Carting</td>\n",
              "      <td>trip-153741093647649320</td>\n",
              "      <td>IND388121AAA</td>\n",
              "      <td>Anand_VUNagar_DC (Gujarat)</td>\n",
              "      <td>IND388620AAB</td>\n",
              "      <td>Khambhat_MotvdDPP_D (Gujarat)</td>\n",
              "      <td>2018-09-20 03:21:32.418600</td>\n",
              "      <td>...</td>\n",
              "      <td>2018-09-20 03:33:55</td>\n",
              "      <td>39.386040</td>\n",
              "      <td>68.0</td>\n",
              "      <td>44.0</td>\n",
              "      <td>54.2181</td>\n",
              "      <td>1.545455</td>\n",
              "      <td>6.0</td>\n",
              "      <td>5.0</td>\n",
              "      <td>3.9153</td>\n",
              "      <td>1.200000</td>\n",
              "    </tr>\n",
              "  </tbody>\n",
              "</table>\n",
              "<p>5 rows × 24 columns</p>\n",
              "</div>\n",
              "      <button class=\"colab-df-convert\" onclick=\"convertToInteractive('df-f4b39e95-62b4-4cfd-b649-1ec740182759')\"\n",
              "              title=\"Convert this dataframe to an interactive table.\"\n",
              "              style=\"display:none;\">\n",
              "        \n",
              "  <svg xmlns=\"http://www.w3.org/2000/svg\" height=\"24px\"viewBox=\"0 0 24 24\"\n",
              "       width=\"24px\">\n",
              "    <path d=\"M0 0h24v24H0V0z\" fill=\"none\"/>\n",
              "    <path d=\"M18.56 5.44l.94 2.06.94-2.06 2.06-.94-2.06-.94-.94-2.06-.94 2.06-2.06.94zm-11 1L8.5 8.5l.94-2.06 2.06-.94-2.06-.94L8.5 2.5l-.94 2.06-2.06.94zm10 10l.94 2.06.94-2.06 2.06-.94-2.06-.94-.94-2.06-.94 2.06-2.06.94z\"/><path d=\"M17.41 7.96l-1.37-1.37c-.4-.4-.92-.59-1.43-.59-.52 0-1.04.2-1.43.59L10.3 9.45l-7.72 7.72c-.78.78-.78 2.05 0 2.83L4 21.41c.39.39.9.59 1.41.59.51 0 1.02-.2 1.41-.59l7.78-7.78 2.81-2.81c.8-.78.8-2.07 0-2.86zM5.41 20L4 18.59l7.72-7.72 1.47 1.35L5.41 20z\"/>\n",
              "  </svg>\n",
              "      </button>\n",
              "      \n",
              "  <style>\n",
              "    .colab-df-container {\n",
              "      display:flex;\n",
              "      flex-wrap:wrap;\n",
              "      gap: 12px;\n",
              "    }\n",
              "\n",
              "    .colab-df-convert {\n",
              "      background-color: #E8F0FE;\n",
              "      border: none;\n",
              "      border-radius: 50%;\n",
              "      cursor: pointer;\n",
              "      display: none;\n",
              "      fill: #1967D2;\n",
              "      height: 32px;\n",
              "      padding: 0 0 0 0;\n",
              "      width: 32px;\n",
              "    }\n",
              "\n",
              "    .colab-df-convert:hover {\n",
              "      background-color: #E2EBFA;\n",
              "      box-shadow: 0px 1px 2px rgba(60, 64, 67, 0.3), 0px 1px 3px 1px rgba(60, 64, 67, 0.15);\n",
              "      fill: #174EA6;\n",
              "    }\n",
              "\n",
              "    [theme=dark] .colab-df-convert {\n",
              "      background-color: #3B4455;\n",
              "      fill: #D2E3FC;\n",
              "    }\n",
              "\n",
              "    [theme=dark] .colab-df-convert:hover {\n",
              "      background-color: #434B5C;\n",
              "      box-shadow: 0px 1px 3px 1px rgba(0, 0, 0, 0.15);\n",
              "      filter: drop-shadow(0px 1px 2px rgba(0, 0, 0, 0.3));\n",
              "      fill: #FFFFFF;\n",
              "    }\n",
              "  </style>\n",
              "\n",
              "      <script>\n",
              "        const buttonEl =\n",
              "          document.querySelector('#df-f4b39e95-62b4-4cfd-b649-1ec740182759 button.colab-df-convert');\n",
              "        buttonEl.style.display =\n",
              "          google.colab.kernel.accessAllowed ? 'block' : 'none';\n",
              "\n",
              "        async function convertToInteractive(key) {\n",
              "          const element = document.querySelector('#df-f4b39e95-62b4-4cfd-b649-1ec740182759');\n",
              "          const dataTable =\n",
              "            await google.colab.kernel.invokeFunction('convertToInteractive',\n",
              "                                                     [key], {});\n",
              "          if (!dataTable) return;\n",
              "\n",
              "          const docLinkHtml = 'Like what you see? Visit the ' +\n",
              "            '<a target=\"_blank\" href=https://colab.research.google.com/notebooks/data_table.ipynb>data table notebook</a>'\n",
              "            + ' to learn more about interactive tables.';\n",
              "          element.innerHTML = '';\n",
              "          dataTable['output_type'] = 'display_data';\n",
              "          await google.colab.output.renderOutput(dataTable, element);\n",
              "          const docLink = document.createElement('div');\n",
              "          docLink.innerHTML = docLinkHtml;\n",
              "          element.appendChild(docLink);\n",
              "        }\n",
              "      </script>\n",
              "    </div>\n",
              "  </div>\n",
              "  "
            ]
          },
          "metadata": {},
          "execution_count": 4
        }
      ]
    },
    {
      "cell_type": "code",
      "source": [
        "df.shape"
      ],
      "metadata": {
        "colab": {
          "base_uri": "https://localhost:8080/"
        },
        "id": "jn4Vf9ydxg6e",
        "outputId": "041e3814-0359-4f90-ca46-d9480addee18"
      },
      "execution_count": 5,
      "outputs": [
        {
          "output_type": "execute_result",
          "data": {
            "text/plain": [
              "(144867, 24)"
            ]
          },
          "metadata": {},
          "execution_count": 5
        }
      ]
    },
    {
      "cell_type": "code",
      "source": [
        "df.info()"
      ],
      "metadata": {
        "colab": {
          "base_uri": "https://localhost:8080/"
        },
        "id": "TGxoZDPHxwNq",
        "outputId": "d88c825b-7707-4a94-989c-3a93b691df02"
      },
      "execution_count": 6,
      "outputs": [
        {
          "output_type": "stream",
          "name": "stdout",
          "text": [
            "<class 'pandas.core.frame.DataFrame'>\n",
            "RangeIndex: 144867 entries, 0 to 144866\n",
            "Data columns (total 24 columns):\n",
            " #   Column                          Non-Null Count   Dtype  \n",
            "---  ------                          --------------   -----  \n",
            " 0   data                            144867 non-null  object \n",
            " 1   trip_creation_time              144867 non-null  object \n",
            " 2   route_schedule_uuid             144867 non-null  object \n",
            " 3   route_type                      144867 non-null  object \n",
            " 4   trip_uuid                       144867 non-null  object \n",
            " 5   source_center                   144867 non-null  object \n",
            " 6   source_name                     144574 non-null  object \n",
            " 7   destination_center              144867 non-null  object \n",
            " 8   destination_name                144606 non-null  object \n",
            " 9   od_start_time                   144867 non-null  object \n",
            " 10  od_end_time                     144867 non-null  object \n",
            " 11  start_scan_to_end_scan          144867 non-null  float64\n",
            " 12  is_cutoff                       144867 non-null  bool   \n",
            " 13  cutoff_factor                   144867 non-null  int64  \n",
            " 14  cutoff_timestamp                144867 non-null  object \n",
            " 15  actual_distance_to_destination  144867 non-null  float64\n",
            " 16  actual_time                     144867 non-null  float64\n",
            " 17  osrm_time                       144867 non-null  float64\n",
            " 18  osrm_distance                   144867 non-null  float64\n",
            " 19  factor                          144867 non-null  float64\n",
            " 20  segment_actual_time             144867 non-null  float64\n",
            " 21  segment_osrm_time               144867 non-null  float64\n",
            " 22  segment_osrm_distance           144867 non-null  float64\n",
            " 23  segment_factor                  144867 non-null  float64\n",
            "dtypes: bool(1), float64(10), int64(1), object(12)\n",
            "memory usage: 25.6+ MB\n"
          ]
        }
      ]
    },
    {
      "cell_type": "code",
      "source": [
        "df.describe()"
      ],
      "metadata": {
        "colab": {
          "base_uri": "https://localhost:8080/",
          "height": 364
        },
        "id": "eaP6-PZAxiOC",
        "outputId": "2cef4de4-0e58-4027-d0da-afb15f63745b"
      },
      "execution_count": 7,
      "outputs": [
        {
          "output_type": "execute_result",
          "data": {
            "text/plain": [
              "       start_scan_to_end_scan  cutoff_factor  actual_distance_to_destination  \\\n",
              "count           144867.000000  144867.000000                   144867.000000   \n",
              "mean               961.262986     232.926567                      234.073372   \n",
              "std               1037.012769     344.755577                      344.990009   \n",
              "min                 20.000000       9.000000                        9.000045   \n",
              "25%                161.000000      22.000000                       23.355874   \n",
              "50%                449.000000      66.000000                       66.126571   \n",
              "75%               1634.000000     286.000000                      286.708875   \n",
              "max               7898.000000    1927.000000                     1927.447705   \n",
              "\n",
              "         actual_time      osrm_time  osrm_distance         factor  \\\n",
              "count  144867.000000  144867.000000  144867.000000  144867.000000   \n",
              "mean      416.927527     213.868272     284.771297       2.120107   \n",
              "std       598.103621     308.011085     421.119294       1.715421   \n",
              "min         9.000000       6.000000       9.008200       0.144000   \n",
              "25%        51.000000      27.000000      29.914700       1.604264   \n",
              "50%       132.000000      64.000000      78.525800       1.857143   \n",
              "75%       513.000000     257.000000     343.193250       2.213483   \n",
              "max      4532.000000    1686.000000    2326.199100      77.387097   \n",
              "\n",
              "       segment_actual_time  segment_osrm_time  segment_osrm_distance  \\\n",
              "count        144867.000000      144867.000000           144867.00000   \n",
              "mean             36.196111          18.507548               22.82902   \n",
              "std              53.571158          14.775960               17.86066   \n",
              "min            -244.000000           0.000000                0.00000   \n",
              "25%              20.000000          11.000000               12.07010   \n",
              "50%              29.000000          17.000000               23.51300   \n",
              "75%              40.000000          22.000000               27.81325   \n",
              "max            3051.000000        1611.000000             2191.40370   \n",
              "\n",
              "       segment_factor  \n",
              "count   144867.000000  \n",
              "mean         2.218368  \n",
              "std          4.847530  \n",
              "min        -23.444444  \n",
              "25%          1.347826  \n",
              "50%          1.684211  \n",
              "75%          2.250000  \n",
              "max        574.250000  "
            ],
            "text/html": [
              "\n",
              "  <div id=\"df-062d1561-0a28-4a11-b2bc-728ec26998d8\">\n",
              "    <div class=\"colab-df-container\">\n",
              "      <div>\n",
              "<style scoped>\n",
              "    .dataframe tbody tr th:only-of-type {\n",
              "        vertical-align: middle;\n",
              "    }\n",
              "\n",
              "    .dataframe tbody tr th {\n",
              "        vertical-align: top;\n",
              "    }\n",
              "\n",
              "    .dataframe thead th {\n",
              "        text-align: right;\n",
              "    }\n",
              "</style>\n",
              "<table border=\"1\" class=\"dataframe\">\n",
              "  <thead>\n",
              "    <tr style=\"text-align: right;\">\n",
              "      <th></th>\n",
              "      <th>start_scan_to_end_scan</th>\n",
              "      <th>cutoff_factor</th>\n",
              "      <th>actual_distance_to_destination</th>\n",
              "      <th>actual_time</th>\n",
              "      <th>osrm_time</th>\n",
              "      <th>osrm_distance</th>\n",
              "      <th>factor</th>\n",
              "      <th>segment_actual_time</th>\n",
              "      <th>segment_osrm_time</th>\n",
              "      <th>segment_osrm_distance</th>\n",
              "      <th>segment_factor</th>\n",
              "    </tr>\n",
              "  </thead>\n",
              "  <tbody>\n",
              "    <tr>\n",
              "      <th>count</th>\n",
              "      <td>144867.000000</td>\n",
              "      <td>144867.000000</td>\n",
              "      <td>144867.000000</td>\n",
              "      <td>144867.000000</td>\n",
              "      <td>144867.000000</td>\n",
              "      <td>144867.000000</td>\n",
              "      <td>144867.000000</td>\n",
              "      <td>144867.000000</td>\n",
              "      <td>144867.000000</td>\n",
              "      <td>144867.00000</td>\n",
              "      <td>144867.000000</td>\n",
              "    </tr>\n",
              "    <tr>\n",
              "      <th>mean</th>\n",
              "      <td>961.262986</td>\n",
              "      <td>232.926567</td>\n",
              "      <td>234.073372</td>\n",
              "      <td>416.927527</td>\n",
              "      <td>213.868272</td>\n",
              "      <td>284.771297</td>\n",
              "      <td>2.120107</td>\n",
              "      <td>36.196111</td>\n",
              "      <td>18.507548</td>\n",
              "      <td>22.82902</td>\n",
              "      <td>2.218368</td>\n",
              "    </tr>\n",
              "    <tr>\n",
              "      <th>std</th>\n",
              "      <td>1037.012769</td>\n",
              "      <td>344.755577</td>\n",
              "      <td>344.990009</td>\n",
              "      <td>598.103621</td>\n",
              "      <td>308.011085</td>\n",
              "      <td>421.119294</td>\n",
              "      <td>1.715421</td>\n",
              "      <td>53.571158</td>\n",
              "      <td>14.775960</td>\n",
              "      <td>17.86066</td>\n",
              "      <td>4.847530</td>\n",
              "    </tr>\n",
              "    <tr>\n",
              "      <th>min</th>\n",
              "      <td>20.000000</td>\n",
              "      <td>9.000000</td>\n",
              "      <td>9.000045</td>\n",
              "      <td>9.000000</td>\n",
              "      <td>6.000000</td>\n",
              "      <td>9.008200</td>\n",
              "      <td>0.144000</td>\n",
              "      <td>-244.000000</td>\n",
              "      <td>0.000000</td>\n",
              "      <td>0.00000</td>\n",
              "      <td>-23.444444</td>\n",
              "    </tr>\n",
              "    <tr>\n",
              "      <th>25%</th>\n",
              "      <td>161.000000</td>\n",
              "      <td>22.000000</td>\n",
              "      <td>23.355874</td>\n",
              "      <td>51.000000</td>\n",
              "      <td>27.000000</td>\n",
              "      <td>29.914700</td>\n",
              "      <td>1.604264</td>\n",
              "      <td>20.000000</td>\n",
              "      <td>11.000000</td>\n",
              "      <td>12.07010</td>\n",
              "      <td>1.347826</td>\n",
              "    </tr>\n",
              "    <tr>\n",
              "      <th>50%</th>\n",
              "      <td>449.000000</td>\n",
              "      <td>66.000000</td>\n",
              "      <td>66.126571</td>\n",
              "      <td>132.000000</td>\n",
              "      <td>64.000000</td>\n",
              "      <td>78.525800</td>\n",
              "      <td>1.857143</td>\n",
              "      <td>29.000000</td>\n",
              "      <td>17.000000</td>\n",
              "      <td>23.51300</td>\n",
              "      <td>1.684211</td>\n",
              "    </tr>\n",
              "    <tr>\n",
              "      <th>75%</th>\n",
              "      <td>1634.000000</td>\n",
              "      <td>286.000000</td>\n",
              "      <td>286.708875</td>\n",
              "      <td>513.000000</td>\n",
              "      <td>257.000000</td>\n",
              "      <td>343.193250</td>\n",
              "      <td>2.213483</td>\n",
              "      <td>40.000000</td>\n",
              "      <td>22.000000</td>\n",
              "      <td>27.81325</td>\n",
              "      <td>2.250000</td>\n",
              "    </tr>\n",
              "    <tr>\n",
              "      <th>max</th>\n",
              "      <td>7898.000000</td>\n",
              "      <td>1927.000000</td>\n",
              "      <td>1927.447705</td>\n",
              "      <td>4532.000000</td>\n",
              "      <td>1686.000000</td>\n",
              "      <td>2326.199100</td>\n",
              "      <td>77.387097</td>\n",
              "      <td>3051.000000</td>\n",
              "      <td>1611.000000</td>\n",
              "      <td>2191.40370</td>\n",
              "      <td>574.250000</td>\n",
              "    </tr>\n",
              "  </tbody>\n",
              "</table>\n",
              "</div>\n",
              "      <button class=\"colab-df-convert\" onclick=\"convertToInteractive('df-062d1561-0a28-4a11-b2bc-728ec26998d8')\"\n",
              "              title=\"Convert this dataframe to an interactive table.\"\n",
              "              style=\"display:none;\">\n",
              "        \n",
              "  <svg xmlns=\"http://www.w3.org/2000/svg\" height=\"24px\"viewBox=\"0 0 24 24\"\n",
              "       width=\"24px\">\n",
              "    <path d=\"M0 0h24v24H0V0z\" fill=\"none\"/>\n",
              "    <path d=\"M18.56 5.44l.94 2.06.94-2.06 2.06-.94-2.06-.94-.94-2.06-.94 2.06-2.06.94zm-11 1L8.5 8.5l.94-2.06 2.06-.94-2.06-.94L8.5 2.5l-.94 2.06-2.06.94zm10 10l.94 2.06.94-2.06 2.06-.94-2.06-.94-.94-2.06-.94 2.06-2.06.94z\"/><path d=\"M17.41 7.96l-1.37-1.37c-.4-.4-.92-.59-1.43-.59-.52 0-1.04.2-1.43.59L10.3 9.45l-7.72 7.72c-.78.78-.78 2.05 0 2.83L4 21.41c.39.39.9.59 1.41.59.51 0 1.02-.2 1.41-.59l7.78-7.78 2.81-2.81c.8-.78.8-2.07 0-2.86zM5.41 20L4 18.59l7.72-7.72 1.47 1.35L5.41 20z\"/>\n",
              "  </svg>\n",
              "      </button>\n",
              "      \n",
              "  <style>\n",
              "    .colab-df-container {\n",
              "      display:flex;\n",
              "      flex-wrap:wrap;\n",
              "      gap: 12px;\n",
              "    }\n",
              "\n",
              "    .colab-df-convert {\n",
              "      background-color: #E8F0FE;\n",
              "      border: none;\n",
              "      border-radius: 50%;\n",
              "      cursor: pointer;\n",
              "      display: none;\n",
              "      fill: #1967D2;\n",
              "      height: 32px;\n",
              "      padding: 0 0 0 0;\n",
              "      width: 32px;\n",
              "    }\n",
              "\n",
              "    .colab-df-convert:hover {\n",
              "      background-color: #E2EBFA;\n",
              "      box-shadow: 0px 1px 2px rgba(60, 64, 67, 0.3), 0px 1px 3px 1px rgba(60, 64, 67, 0.15);\n",
              "      fill: #174EA6;\n",
              "    }\n",
              "\n",
              "    [theme=dark] .colab-df-convert {\n",
              "      background-color: #3B4455;\n",
              "      fill: #D2E3FC;\n",
              "    }\n",
              "\n",
              "    [theme=dark] .colab-df-convert:hover {\n",
              "      background-color: #434B5C;\n",
              "      box-shadow: 0px 1px 3px 1px rgba(0, 0, 0, 0.15);\n",
              "      filter: drop-shadow(0px 1px 2px rgba(0, 0, 0, 0.3));\n",
              "      fill: #FFFFFF;\n",
              "    }\n",
              "  </style>\n",
              "\n",
              "      <script>\n",
              "        const buttonEl =\n",
              "          document.querySelector('#df-062d1561-0a28-4a11-b2bc-728ec26998d8 button.colab-df-convert');\n",
              "        buttonEl.style.display =\n",
              "          google.colab.kernel.accessAllowed ? 'block' : 'none';\n",
              "\n",
              "        async function convertToInteractive(key) {\n",
              "          const element = document.querySelector('#df-062d1561-0a28-4a11-b2bc-728ec26998d8');\n",
              "          const dataTable =\n",
              "            await google.colab.kernel.invokeFunction('convertToInteractive',\n",
              "                                                     [key], {});\n",
              "          if (!dataTable) return;\n",
              "\n",
              "          const docLinkHtml = 'Like what you see? Visit the ' +\n",
              "            '<a target=\"_blank\" href=https://colab.research.google.com/notebooks/data_table.ipynb>data table notebook</a>'\n",
              "            + ' to learn more about interactive tables.';\n",
              "          element.innerHTML = '';\n",
              "          dataTable['output_type'] = 'display_data';\n",
              "          await google.colab.output.renderOutput(dataTable, element);\n",
              "          const docLink = document.createElement('div');\n",
              "          docLink.innerHTML = docLinkHtml;\n",
              "          element.appendChild(docLink);\n",
              "        }\n",
              "      </script>\n",
              "    </div>\n",
              "  </div>\n",
              "  "
            ]
          },
          "metadata": {},
          "execution_count": 7
        }
      ]
    },
    {
      "cell_type": "code",
      "source": [
        "df.describe(include=\"object\")"
      ],
      "metadata": {
        "colab": {
          "base_uri": "https://localhost:8080/",
          "height": 273
        },
        "id": "Z_9at_dMxmCG",
        "outputId": "49c635c8-0b6c-490a-b451-88fb8b85f031"
      },
      "execution_count": 8,
      "outputs": [
        {
          "output_type": "execute_result",
          "data": {
            "text/plain": [
              "            data          trip_creation_time  \\\n",
              "count     144867                      144867   \n",
              "unique         2                       14817   \n",
              "top     training  2018-09-28 05:23:15.359220   \n",
              "freq      104858                         101   \n",
              "\n",
              "                                      route_schedule_uuid route_type  \\\n",
              "count                                              144867     144867   \n",
              "unique                                               1504          2   \n",
              "top     thanos::sroute:4029a8a2-6c74-4b7e-a6d8-f9e069f...        FTL   \n",
              "freq                                                 1812      99660   \n",
              "\n",
              "                      trip_uuid source_center                    source_name  \\\n",
              "count                    144867        144867                         144574   \n",
              "unique                    14817          1508                           1498   \n",
              "top     trip-153811219535896559  IND000000ACB  Gurgaon_Bilaspur_HB (Haryana)   \n",
              "freq                        101         23347                          23347   \n",
              "\n",
              "       destination_center               destination_name  \\\n",
              "count              144867                         144606   \n",
              "unique               1481                           1468   \n",
              "top          IND000000ACB  Gurgaon_Bilaspur_HB (Haryana)   \n",
              "freq                15192                          15192   \n",
              "\n",
              "                     od_start_time                 od_end_time  \\\n",
              "count                       144867                      144867   \n",
              "unique                       26369                       26369   \n",
              "top     2018-09-21 18:37:09.322207  2018-09-24 09:59:15.691618   \n",
              "freq                            81                          81   \n",
              "\n",
              "           cutoff_timestamp  \n",
              "count                144867  \n",
              "unique                93180  \n",
              "top     2018-09-24 05:19:20  \n",
              "freq                     40  "
            ],
            "text/html": [
              "\n",
              "  <div id=\"df-feba7968-1b8e-48d9-b926-2f8c5b3dd907\">\n",
              "    <div class=\"colab-df-container\">\n",
              "      <div>\n",
              "<style scoped>\n",
              "    .dataframe tbody tr th:only-of-type {\n",
              "        vertical-align: middle;\n",
              "    }\n",
              "\n",
              "    .dataframe tbody tr th {\n",
              "        vertical-align: top;\n",
              "    }\n",
              "\n",
              "    .dataframe thead th {\n",
              "        text-align: right;\n",
              "    }\n",
              "</style>\n",
              "<table border=\"1\" class=\"dataframe\">\n",
              "  <thead>\n",
              "    <tr style=\"text-align: right;\">\n",
              "      <th></th>\n",
              "      <th>data</th>\n",
              "      <th>trip_creation_time</th>\n",
              "      <th>route_schedule_uuid</th>\n",
              "      <th>route_type</th>\n",
              "      <th>trip_uuid</th>\n",
              "      <th>source_center</th>\n",
              "      <th>source_name</th>\n",
              "      <th>destination_center</th>\n",
              "      <th>destination_name</th>\n",
              "      <th>od_start_time</th>\n",
              "      <th>od_end_time</th>\n",
              "      <th>cutoff_timestamp</th>\n",
              "    </tr>\n",
              "  </thead>\n",
              "  <tbody>\n",
              "    <tr>\n",
              "      <th>count</th>\n",
              "      <td>144867</td>\n",
              "      <td>144867</td>\n",
              "      <td>144867</td>\n",
              "      <td>144867</td>\n",
              "      <td>144867</td>\n",
              "      <td>144867</td>\n",
              "      <td>144574</td>\n",
              "      <td>144867</td>\n",
              "      <td>144606</td>\n",
              "      <td>144867</td>\n",
              "      <td>144867</td>\n",
              "      <td>144867</td>\n",
              "    </tr>\n",
              "    <tr>\n",
              "      <th>unique</th>\n",
              "      <td>2</td>\n",
              "      <td>14817</td>\n",
              "      <td>1504</td>\n",
              "      <td>2</td>\n",
              "      <td>14817</td>\n",
              "      <td>1508</td>\n",
              "      <td>1498</td>\n",
              "      <td>1481</td>\n",
              "      <td>1468</td>\n",
              "      <td>26369</td>\n",
              "      <td>26369</td>\n",
              "      <td>93180</td>\n",
              "    </tr>\n",
              "    <tr>\n",
              "      <th>top</th>\n",
              "      <td>training</td>\n",
              "      <td>2018-09-28 05:23:15.359220</td>\n",
              "      <td>thanos::sroute:4029a8a2-6c74-4b7e-a6d8-f9e069f...</td>\n",
              "      <td>FTL</td>\n",
              "      <td>trip-153811219535896559</td>\n",
              "      <td>IND000000ACB</td>\n",
              "      <td>Gurgaon_Bilaspur_HB (Haryana)</td>\n",
              "      <td>IND000000ACB</td>\n",
              "      <td>Gurgaon_Bilaspur_HB (Haryana)</td>\n",
              "      <td>2018-09-21 18:37:09.322207</td>\n",
              "      <td>2018-09-24 09:59:15.691618</td>\n",
              "      <td>2018-09-24 05:19:20</td>\n",
              "    </tr>\n",
              "    <tr>\n",
              "      <th>freq</th>\n",
              "      <td>104858</td>\n",
              "      <td>101</td>\n",
              "      <td>1812</td>\n",
              "      <td>99660</td>\n",
              "      <td>101</td>\n",
              "      <td>23347</td>\n",
              "      <td>23347</td>\n",
              "      <td>15192</td>\n",
              "      <td>15192</td>\n",
              "      <td>81</td>\n",
              "      <td>81</td>\n",
              "      <td>40</td>\n",
              "    </tr>\n",
              "  </tbody>\n",
              "</table>\n",
              "</div>\n",
              "      <button class=\"colab-df-convert\" onclick=\"convertToInteractive('df-feba7968-1b8e-48d9-b926-2f8c5b3dd907')\"\n",
              "              title=\"Convert this dataframe to an interactive table.\"\n",
              "              style=\"display:none;\">\n",
              "        \n",
              "  <svg xmlns=\"http://www.w3.org/2000/svg\" height=\"24px\"viewBox=\"0 0 24 24\"\n",
              "       width=\"24px\">\n",
              "    <path d=\"M0 0h24v24H0V0z\" fill=\"none\"/>\n",
              "    <path d=\"M18.56 5.44l.94 2.06.94-2.06 2.06-.94-2.06-.94-.94-2.06-.94 2.06-2.06.94zm-11 1L8.5 8.5l.94-2.06 2.06-.94-2.06-.94L8.5 2.5l-.94 2.06-2.06.94zm10 10l.94 2.06.94-2.06 2.06-.94-2.06-.94-.94-2.06-.94 2.06-2.06.94z\"/><path d=\"M17.41 7.96l-1.37-1.37c-.4-.4-.92-.59-1.43-.59-.52 0-1.04.2-1.43.59L10.3 9.45l-7.72 7.72c-.78.78-.78 2.05 0 2.83L4 21.41c.39.39.9.59 1.41.59.51 0 1.02-.2 1.41-.59l7.78-7.78 2.81-2.81c.8-.78.8-2.07 0-2.86zM5.41 20L4 18.59l7.72-7.72 1.47 1.35L5.41 20z\"/>\n",
              "  </svg>\n",
              "      </button>\n",
              "      \n",
              "  <style>\n",
              "    .colab-df-container {\n",
              "      display:flex;\n",
              "      flex-wrap:wrap;\n",
              "      gap: 12px;\n",
              "    }\n",
              "\n",
              "    .colab-df-convert {\n",
              "      background-color: #E8F0FE;\n",
              "      border: none;\n",
              "      border-radius: 50%;\n",
              "      cursor: pointer;\n",
              "      display: none;\n",
              "      fill: #1967D2;\n",
              "      height: 32px;\n",
              "      padding: 0 0 0 0;\n",
              "      width: 32px;\n",
              "    }\n",
              "\n",
              "    .colab-df-convert:hover {\n",
              "      background-color: #E2EBFA;\n",
              "      box-shadow: 0px 1px 2px rgba(60, 64, 67, 0.3), 0px 1px 3px 1px rgba(60, 64, 67, 0.15);\n",
              "      fill: #174EA6;\n",
              "    }\n",
              "\n",
              "    [theme=dark] .colab-df-convert {\n",
              "      background-color: #3B4455;\n",
              "      fill: #D2E3FC;\n",
              "    }\n",
              "\n",
              "    [theme=dark] .colab-df-convert:hover {\n",
              "      background-color: #434B5C;\n",
              "      box-shadow: 0px 1px 3px 1px rgba(0, 0, 0, 0.15);\n",
              "      filter: drop-shadow(0px 1px 2px rgba(0, 0, 0, 0.3));\n",
              "      fill: #FFFFFF;\n",
              "    }\n",
              "  </style>\n",
              "\n",
              "      <script>\n",
              "        const buttonEl =\n",
              "          document.querySelector('#df-feba7968-1b8e-48d9-b926-2f8c5b3dd907 button.colab-df-convert');\n",
              "        buttonEl.style.display =\n",
              "          google.colab.kernel.accessAllowed ? 'block' : 'none';\n",
              "\n",
              "        async function convertToInteractive(key) {\n",
              "          const element = document.querySelector('#df-feba7968-1b8e-48d9-b926-2f8c5b3dd907');\n",
              "          const dataTable =\n",
              "            await google.colab.kernel.invokeFunction('convertToInteractive',\n",
              "                                                     [key], {});\n",
              "          if (!dataTable) return;\n",
              "\n",
              "          const docLinkHtml = 'Like what you see? Visit the ' +\n",
              "            '<a target=\"_blank\" href=https://colab.research.google.com/notebooks/data_table.ipynb>data table notebook</a>'\n",
              "            + ' to learn more about interactive tables.';\n",
              "          element.innerHTML = '';\n",
              "          dataTable['output_type'] = 'display_data';\n",
              "          await google.colab.output.renderOutput(dataTable, element);\n",
              "          const docLink = document.createElement('div');\n",
              "          docLink.innerHTML = docLinkHtml;\n",
              "          element.appendChild(docLink);\n",
              "        }\n",
              "      </script>\n",
              "    </div>\n",
              "  </div>\n",
              "  "
            ]
          },
          "metadata": {},
          "execution_count": 8
        }
      ]
    },
    {
      "cell_type": "markdown",
      "source": [
        "Checking for null values:"
      ],
      "metadata": {
        "id": "444wL3wM5NDZ"
      }
    },
    {
      "cell_type": "code",
      "source": [
        "(df.isna().sum()/len(df)) * 100"
      ],
      "metadata": {
        "id": "OwQpFlevx8nF",
        "colab": {
          "base_uri": "https://localhost:8080/"
        },
        "outputId": "af90ac26-9a42-41f2-92d8-98e04ebc7f59"
      },
      "execution_count": 9,
      "outputs": [
        {
          "output_type": "execute_result",
          "data": {
            "text/plain": [
              "data                              0.000000\n",
              "trip_creation_time                0.000000\n",
              "route_schedule_uuid               0.000000\n",
              "route_type                        0.000000\n",
              "trip_uuid                         0.000000\n",
              "source_center                     0.000000\n",
              "source_name                       0.202254\n",
              "destination_center                0.000000\n",
              "destination_name                  0.180165\n",
              "od_start_time                     0.000000\n",
              "od_end_time                       0.000000\n",
              "start_scan_to_end_scan            0.000000\n",
              "is_cutoff                         0.000000\n",
              "cutoff_factor                     0.000000\n",
              "cutoff_timestamp                  0.000000\n",
              "actual_distance_to_destination    0.000000\n",
              "actual_time                       0.000000\n",
              "osrm_time                         0.000000\n",
              "osrm_distance                     0.000000\n",
              "factor                            0.000000\n",
              "segment_actual_time               0.000000\n",
              "segment_osrm_time                 0.000000\n",
              "segment_osrm_distance             0.000000\n",
              "segment_factor                    0.000000\n",
              "dtype: float64"
            ]
          },
          "metadata": {},
          "execution_count": 9
        }
      ]
    },
    {
      "cell_type": "markdown",
      "source": [
        "We have very few null values in source_name & destination_name so we can drop the data.                      "
      ],
      "metadata": {
        "id": "ZzcHRJg45kvT"
      }
    },
    {
      "cell_type": "code",
      "source": [
        "df = df[df[\"source_name\"].notna()]\n",
        "df = df[df[\"destination_name\"].notna()]   #we are taking the rows which are not null"
      ],
      "metadata": {
        "id": "rgtcaMLu5Vet"
      },
      "execution_count": 10,
      "outputs": []
    },
    {
      "cell_type": "code",
      "source": [
        "(df.isna().sum()/len(df)) * 100"
      ],
      "metadata": {
        "colab": {
          "base_uri": "https://localhost:8080/"
        },
        "id": "N7Oa6yeD7W46",
        "outputId": "023cbef1-f166-4db1-88af-421ba922471a"
      },
      "execution_count": 11,
      "outputs": [
        {
          "output_type": "execute_result",
          "data": {
            "text/plain": [
              "data                              0.0\n",
              "trip_creation_time                0.0\n",
              "route_schedule_uuid               0.0\n",
              "route_type                        0.0\n",
              "trip_uuid                         0.0\n",
              "source_center                     0.0\n",
              "source_name                       0.0\n",
              "destination_center                0.0\n",
              "destination_name                  0.0\n",
              "od_start_time                     0.0\n",
              "od_end_time                       0.0\n",
              "start_scan_to_end_scan            0.0\n",
              "is_cutoff                         0.0\n",
              "cutoff_factor                     0.0\n",
              "cutoff_timestamp                  0.0\n",
              "actual_distance_to_destination    0.0\n",
              "actual_time                       0.0\n",
              "osrm_time                         0.0\n",
              "osrm_distance                     0.0\n",
              "factor                            0.0\n",
              "segment_actual_time               0.0\n",
              "segment_osrm_time                 0.0\n",
              "segment_osrm_distance             0.0\n",
              "segment_factor                    0.0\n",
              "dtype: float64"
            ]
          },
          "metadata": {},
          "execution_count": 11
        }
      ]
    },
    {
      "cell_type": "code",
      "source": [
        "df.shape"
      ],
      "metadata": {
        "colab": {
          "base_uri": "https://localhost:8080/"
        },
        "id": "mIjr94rT8AvX",
        "outputId": "cc50fd07-3b11-4385-91ea-b546d4708e4b"
      },
      "execution_count": 12,
      "outputs": [
        {
          "output_type": "execute_result",
          "data": {
            "text/plain": [
              "(144316, 24)"
            ]
          },
          "metadata": {},
          "execution_count": 12
        }
      ]
    },
    {
      "cell_type": "code",
      "source": [
        "# converting objects to date_columns\n",
        "col_date = ['trip_creation_time', 'od_start_time', 'od_end_time', 'cutoff_timestamp']\n",
        "for i in col_date:\n",
        " df[i] = pd.to_datetime(df[i])"
      ],
      "metadata": {
        "id": "dExr1KVr8OiT"
      },
      "execution_count": 13,
      "outputs": []
    },
    {
      "cell_type": "code",
      "source": [
        "df.info()"
      ],
      "metadata": {
        "colab": {
          "base_uri": "https://localhost:8080/"
        },
        "id": "Ggkhy_rc-oFk",
        "outputId": "d8288cef-0baa-4cbe-bcb2-323494333214"
      },
      "execution_count": 14,
      "outputs": [
        {
          "output_type": "stream",
          "name": "stdout",
          "text": [
            "<class 'pandas.core.frame.DataFrame'>\n",
            "Int64Index: 144316 entries, 0 to 144866\n",
            "Data columns (total 24 columns):\n",
            " #   Column                          Non-Null Count   Dtype         \n",
            "---  ------                          --------------   -----         \n",
            " 0   data                            144316 non-null  object        \n",
            " 1   trip_creation_time              144316 non-null  datetime64[ns]\n",
            " 2   route_schedule_uuid             144316 non-null  object        \n",
            " 3   route_type                      144316 non-null  object        \n",
            " 4   trip_uuid                       144316 non-null  object        \n",
            " 5   source_center                   144316 non-null  object        \n",
            " 6   source_name                     144316 non-null  object        \n",
            " 7   destination_center              144316 non-null  object        \n",
            " 8   destination_name                144316 non-null  object        \n",
            " 9   od_start_time                   144316 non-null  datetime64[ns]\n",
            " 10  od_end_time                     144316 non-null  datetime64[ns]\n",
            " 11  start_scan_to_end_scan          144316 non-null  float64       \n",
            " 12  is_cutoff                       144316 non-null  bool          \n",
            " 13  cutoff_factor                   144316 non-null  int64         \n",
            " 14  cutoff_timestamp                144316 non-null  datetime64[ns]\n",
            " 15  actual_distance_to_destination  144316 non-null  float64       \n",
            " 16  actual_time                     144316 non-null  float64       \n",
            " 17  osrm_time                       144316 non-null  float64       \n",
            " 18  osrm_distance                   144316 non-null  float64       \n",
            " 19  factor                          144316 non-null  float64       \n",
            " 20  segment_actual_time             144316 non-null  float64       \n",
            " 21  segment_osrm_time               144316 non-null  float64       \n",
            " 22  segment_osrm_distance           144316 non-null  float64       \n",
            " 23  segment_factor                  144316 non-null  float64       \n",
            "dtypes: bool(1), datetime64[ns](4), float64(10), int64(1), object(8)\n",
            "memory usage: 26.6+ MB\n"
          ]
        }
      ]
    },
    {
      "cell_type": "code",
      "source": [
        "# Checking for duplicates\n",
        "\n",
        "df.duplicated().sum()"
      ],
      "metadata": {
        "colab": {
          "base_uri": "https://localhost:8080/"
        },
        "id": "klw63z9Xqz4s",
        "outputId": "84145bbf-6f4d-487f-d3e9-3c1a66a2de51"
      },
      "execution_count": 15,
      "outputs": [
        {
          "output_type": "execute_result",
          "data": {
            "text/plain": [
              "0"
            ]
          },
          "metadata": {},
          "execution_count": 15
        }
      ]
    },
    {
      "cell_type": "code",
      "source": [
        "def counts(column_name):\n",
        "  print(column_name, \"value counts\")\n",
        "  print(df[f'{column_name}'].value_counts())\n",
        "  print(\"\\n\")\n"
      ],
      "metadata": {
        "id": "jpwQFeWyrMAJ"
      },
      "execution_count": 16,
      "outputs": []
    },
    {
      "cell_type": "code",
      "source": [
        "obj_col = []\n",
        "for col in df.columns:\n",
        "  if df[col].dtype == 'O':\n",
        "    obj_col.append(col)"
      ],
      "metadata": {
        "id": "dTDT_Luhtg4G"
      },
      "execution_count": 17,
      "outputs": []
    },
    {
      "cell_type": "code",
      "source": [
        "obj_col   #columns whose dtype is object"
      ],
      "metadata": {
        "colab": {
          "base_uri": "https://localhost:8080/"
        },
        "id": "sQMKsT88ucwl",
        "outputId": "512ea194-839f-463c-81fb-63da351eeac0"
      },
      "execution_count": 18,
      "outputs": [
        {
          "output_type": "execute_result",
          "data": {
            "text/plain": [
              "['data',\n",
              " 'route_schedule_uuid',\n",
              " 'route_type',\n",
              " 'trip_uuid',\n",
              " 'source_center',\n",
              " 'source_name',\n",
              " 'destination_center',\n",
              " 'destination_name']"
            ]
          },
          "metadata": {},
          "execution_count": 18
        }
      ]
    },
    {
      "cell_type": "code",
      "source": [
        "for col in obj_col:\n",
        "  counts(col)      #value counts of columns whose dtype is object"
      ],
      "metadata": {
        "colab": {
          "base_uri": "https://localhost:8080/"
        },
        "id": "89kkCI3Yr6Z_",
        "outputId": "4c93d37f-4184-4d6d-84aa-c86cb9d359fd"
      },
      "execution_count": 19,
      "outputs": [
        {
          "output_type": "stream",
          "name": "stdout",
          "text": [
            "data value counts\n",
            "training    104632\n",
            "test         39684\n",
            "Name: data, dtype: int64\n",
            "\n",
            "\n",
            "route_schedule_uuid value counts\n",
            "thanos::sroute:4029a8a2-6c74-4b7e-a6d8-f9e069fbcea9    1812\n",
            "thanos::sroute:0456b740-1dad-4929-bbe0-87d8843f5a10    1608\n",
            "thanos::sroute:dca6268f-741a-4d1a-b1b0-aab13095a366    1605\n",
            "thanos::sroute:a1b25549-1e77-498f-8538-00292e5bd5a2    1285\n",
            "thanos::sroute:de5e208e-7641-45e6-8100-4d9fb1e5720d    1280\n",
            "                                                       ... \n",
            "thanos::sroute:c6403e98-1ffa-49ed-bc55-5adcdc4ad39d       1\n",
            "thanos::sroute:889b9cf5-da6a-48ce-b3bd-6983c8090164       1\n",
            "thanos::sroute:d563d17e-2123-40a4-9eec-40018966caba       1\n",
            "thanos::sroute:afb04bf4-7734-4526-8d66-63ed50bef88b       1\n",
            "thanos::sroute:02447388-0297-4e63-9a71-3589741bd807       1\n",
            "Name: route_schedule_uuid, Length: 1497, dtype: int64\n",
            "\n",
            "\n",
            "route_type value counts\n",
            "FTL        99132\n",
            "Carting    45184\n",
            "Name: route_type, dtype: int64\n",
            "\n",
            "\n",
            "trip_uuid value counts\n",
            "trip-153837029526866991    101\n",
            "trip-153715938946690081    101\n",
            "trip-153811219535896559    101\n",
            "trip-153854305492910872    101\n",
            "trip-153802363942560700    101\n",
            "                          ... \n",
            "trip-153714761197530398      1\n",
            "trip-153733734393817090      1\n",
            "trip-153859235656799725      1\n",
            "trip-153861042148375909      1\n",
            "trip-153860537449292853      1\n",
            "Name: trip_uuid, Length: 14787, dtype: int64\n",
            "\n",
            "\n",
            "source_center value counts\n",
            "IND000000ACB    23267\n",
            "IND562132AAA     9975\n",
            "IND421302AAG     9088\n",
            "IND411033AAA     4061\n",
            "IND501359AAE     3340\n",
            "                ...  \n",
            "IND741121AAA        1\n",
            "IND493445AAB        1\n",
            "IND621112AAA        1\n",
            "IND733202AAC        1\n",
            "IND335501AAA        1\n",
            "Name: source_center, Length: 1496, dtype: int64\n",
            "\n",
            "\n",
            "source_name value counts\n",
            "Gurgaon_Bilaspur_HB (Haryana)            23267\n",
            "Bangalore_Nelmngla_H (Karnataka)          9975\n",
            "Bhiwandi_Mankoli_HB (Maharashtra)         9088\n",
            "Pune_Tathawde_H (Maharashtra)             4061\n",
            "Hyderabad_Shamshbd_H (Telangana)          3340\n",
            "                                         ...  \n",
            "Badkulla_Central_DPP_1 (West Bengal)         1\n",
            "Mahasamund_RajpurRD_D (Chhattisgarh)         1\n",
            "Tiruchi_Samyaprm_D (Tamil Nadu)              1\n",
            "Islampure_Central_DPP_2 (West Bengal)        1\n",
            "Bhadra_GMndiDPP_D (Rajasthan)                1\n",
            "Name: source_name, Length: 1496, dtype: int64\n",
            "\n",
            "\n",
            "destination_center value counts\n",
            "IND000000ACB    15192\n",
            "IND562132AAA    11019\n",
            "IND421302AAG     5492\n",
            "IND501359AAE     5142\n",
            "IND712311AAA     4892\n",
            "                ...  \n",
            "IND490023AAA        1\n",
            "IND221401AAA        1\n",
            "IND520011AAA        1\n",
            "IND396210AAA        1\n",
            "IND761020AAA        1\n",
            "Name: destination_center, Length: 1466, dtype: int64\n",
            "\n",
            "\n",
            "destination_name value counts\n",
            "Gurgaon_Bilaspur_HB (Haryana)        15192\n",
            "Bangalore_Nelmngla_H (Karnataka)     11019\n",
            "Bhiwandi_Mankoli_HB (Maharashtra)     5492\n",
            "Hyderabad_Shamshbd_H (Telangana)      5142\n",
            "Kolkata_Dankuni_HB (West Bengal)      4892\n",
            "                                     ...  \n",
            "Durg_Bhilai_DC (Chhattisgarh)            1\n",
            "Bhadohi_Rajpura_D (Uttar Pradesh)        1\n",
            "Vijayawada (Andhra Pradesh)              1\n",
            "Daman_DC (Daman & Diu)                   1\n",
            "Berhampur_Chatrpr_DC (Orissa)            1\n",
            "Name: destination_name, Length: 1466, dtype: int64\n",
            "\n",
            "\n"
          ]
        }
      ]
    },
    {
      "cell_type": "code",
      "source": [
        "sns.countplot(x=df['data'])"
      ],
      "metadata": {
        "colab": {
          "base_uri": "https://localhost:8080/",
          "height": 296
        },
        "id": "DFD10Pa9r9Hz",
        "outputId": "0d2e623f-2ad4-4e32-ed52-3010fbdb8e10"
      },
      "execution_count": 20,
      "outputs": [
        {
          "output_type": "execute_result",
          "data": {
            "text/plain": [
              "<matplotlib.axes._subplots.AxesSubplot at 0x7f03645c9510>"
            ]
          },
          "metadata": {},
          "execution_count": 20
        },
        {
          "output_type": "display_data",
          "data": {
            "text/plain": [
              "<Figure size 432x288 with 1 Axes>"
            ],
            "image/png": "[encoded data removed]"
          },
          "metadata": {
            "needs_background": "light"
          }
        }
      ]
    },
    {
      "cell_type": "code",
      "source": [
        "sns.countplot(x=df['route_type'])"
      ],
      "metadata": {
        "colab": {
          "base_uri": "https://localhost:8080/",
          "height": 297
        },
        "id": "Muy6wBoxvksq",
        "outputId": "a5708aa9-025d-4967-9a8c-882a290c654b"
      },
      "execution_count": 21,
      "outputs": [
        {
          "output_type": "execute_result",
          "data": {
            "text/plain": [
              "<matplotlib.axes._subplots.AxesSubplot at 0x7f03645cb410>"
            ]
          },
          "metadata": {},
          "execution_count": 21
        },
        {
          "output_type": "display_data",
          "data": {
            "text/plain": [
              "<Figure size 432x288 with 1 Axes>"
            ],
            "image/png": "[encoded data removed]"
          },
          "metadata": {
            "needs_background": "light"
          }
        }
      ]
    },
    {
      "cell_type": "code",
      "source": [
        "sns.histplot(df['segment_actual_time'],kde=True)"
      ],
      "metadata": {
        "colab": {
          "base_uri": "https://localhost:8080/",
          "height": 297
        },
        "id": "St5XCPXUvqRN",
        "outputId": "a153dd38-4662-4eee-a234-851ab9547c4d"
      },
      "execution_count": 22,
      "outputs": [
        {
          "output_type": "execute_result",
          "data": {
            "text/plain": [
              "<matplotlib.axes._subplots.AxesSubplot at 0x7f036409b110>"
            ]
          },
          "metadata": {},
          "execution_count": 22
        },
        {
          "output_type": "display_data",
          "data": {
            "text/plain": [
              "<Figure size 432x288 with 1 Axes>"
            ],
            "image/png": "[encoded data removed]"
          },
          "metadata": {
            "needs_background": "light"
          }
        }
      ]
    },
    {
      "cell_type": "code",
      "source": [
        "sns.histplot(df['actual_time'],kde=True)"
      ],
      "metadata": {
        "colab": {
          "base_uri": "https://localhost:8080/",
          "height": 299
        },
        "id": "uu_oLVYmv7mt",
        "outputId": "34751777-0b51-4910-bc51-c99a62b241c1"
      },
      "execution_count": 23,
      "outputs": [
        {
          "output_type": "execute_result",
          "data": {
            "text/plain": [
              "<matplotlib.axes._subplots.AxesSubplot at 0x7f035eb72c10>"
            ]
          },
          "metadata": {},
          "execution_count": 23
        },
        {
          "output_type": "display_data",
          "data": {
            "text/plain": [
              "<Figure size 432x288 with 1 Axes>"
            ],
            "image/png": "[encoded data removed]"
          },
          "metadata": {
            "needs_background": "light"
          }
        }
      ]
    },
    {
      "cell_type": "markdown",
      "source": [
        "# Preprocessing:\n",
        "\n",
        "Since delivery details of one package are divided into several rows (think of it as connecting flights to reach a particular destination). Now think about how we should treat their fields if we combine these rows? What aggregation would make sense if we merge. What would happen to the numeric fields if we merge the rows?"
      ],
      "metadata": {
        "id": "ZUUfz42xwZXG"
      }
    },
    {
      "cell_type": "code",
      "source": [
        "df_sr_ds = df.groupby([\"trip_uuid\", \"source_center\", \"destination_center\"], as_index=False).agg(\n",
        "    {'data': 'first', 'trip_creation_time': 'first', 'route_type': 'first', 'source_name': 'first', 'destination_name': 'last',\n",
        "     'od_start_time':'first' , 'od_end_time': 'last', \n",
        "     'start_scan_to_end_scan': 'first', 'actual_time': np.max, 'osrm_time': np.max, 'segment_actual_time': np.sum, \n",
        "     'osrm_time': np.max, 'segment_osrm_time': np.sum, 'osrm_distance': np.max, 'segment_osrm_distance': np.sum, 'actual_distance_to_destination': np.max})"
      ],
      "metadata": {
        "id": "-zQTPfXtwBmN"
      },
      "execution_count": 24,
      "outputs": []
    },
    {
      "cell_type": "code",
      "source": [
        "df_sr_ds[df_sr_ds['trip_uuid']=='trip-153741093647649320']"
      ],
      "metadata": {
        "colab": {
          "base_uri": "https://localhost:8080/",
          "height": 211
        },
        "id": "pXXAEkD01kHs",
        "outputId": "e1a8a378-8794-4bad-c440-5cd675e45cf4"
      },
      "execution_count": 25,
      "outputs": [
        {
          "output_type": "execute_result",
          "data": {
            "text/plain": [
              "                     trip_uuid source_center destination_center      data  \\\n",
              "10370  trip-153741093647649320  IND388121AAA       IND388620AAB  training   \n",
              "10371  trip-153741093647649320  IND388620AAB       IND388320AAA  training   \n",
              "\n",
              "              trip_creation_time route_type                    source_name  \\\n",
              "10370 2018-09-20 02:35:36.476840    Carting     Anand_VUNagar_DC (Gujarat)   \n",
              "10371 2018-09-20 02:35:36.476840    Carting  Khambhat_MotvdDPP_D (Gujarat)   \n",
              "\n",
              "                    destination_name              od_start_time  \\\n",
              "10370  Khambhat_MotvdDPP_D (Gujarat) 2018-09-20 03:21:32.418600   \n",
              "10371     Anand_Vaghasi_IP (Gujarat) 2018-09-20 04:47:45.236797   \n",
              "\n",
              "                     od_end_time  start_scan_to_end_scan  actual_time  \\\n",
              "10370 2018-09-20 04:47:45.236797                    86.0         68.0   \n",
              "10371 2018-09-20 06:36:55.627764                   109.0        102.0   \n",
              "\n",
              "       osrm_time  segment_actual_time  segment_osrm_time  osrm_distance  \\\n",
              "10370       44.0                 67.0               44.0        54.2181   \n",
              "10371       45.0                100.0               44.0        53.2334   \n",
              "\n",
              "       segment_osrm_distance  actual_distance_to_destination  \n",
              "10370                49.4772                       39.386040  \n",
              "10371                53.2334                       43.595802  "
            ],
            "text/html": [
              "\n",
              "  <div id=\"df-18c8f3ae-717f-484b-bfd6-eee7087836b4\">\n",
              "    <div class=\"colab-df-container\">\n",
              "      <div>\n",
              "<style scoped>\n",
              "    .dataframe tbody tr th:only-of-type {\n",
              "        vertical-align: middle;\n",
              "    }\n",
              "\n",
              "    .dataframe tbody tr th {\n",
              "        vertical-align: top;\n",
              "    }\n",
              "\n",
              "    .dataframe thead th {\n",
              "        text-align: right;\n",
              "    }\n",
              "</style>\n",
              "<table border=\"1\" class=\"dataframe\">\n",
              "  <thead>\n",
              "    <tr style=\"text-align: right;\">\n",
              "      <th></th>\n",
              "      <th>trip_uuid</th>\n",
              "      <th>source_center</th>\n",
              "      <th>destination_center</th>\n",
              "      <th>data</th>\n",
              "      <th>trip_creation_time</th>\n",
              "      <th>route_type</th>\n",
              "      <th>source_name</th>\n",
              "      <th>destination_name</th>\n",
              "      <th>od_start_time</th>\n",
              "      <th>od_end_time</th>\n",
              "      <th>start_scan_to_end_scan</th>\n",
              "      <th>actual_time</th>\n",
              "      <th>osrm_time</th>\n",
              "      <th>segment_actual_time</th>\n",
              "      <th>segment_osrm_time</th>\n",
              "      <th>osrm_distance</th>\n",
              "      <th>segment_osrm_distance</th>\n",
              "      <th>actual_distance_to_destination</th>\n",
              "    </tr>\n",
              "  </thead>\n",
              "  <tbody>\n",
              "    <tr>\n",
              "      <th>10370</th>\n",
              "      <td>trip-153741093647649320</td>\n",
              "      <td>IND388121AAA</td>\n",
              "      <td>IND388620AAB</td>\n",
              "      <td>training</td>\n",
              "      <td>2018-09-20 02:35:36.476840</td>\n",
              "      <td>Carting</td>\n",
              "      <td>Anand_VUNagar_DC (Gujarat)</td>\n",
              "      <td>Khambhat_MotvdDPP_D (Gujarat)</td>\n",
              "      <td>2018-09-20 03:21:32.418600</td>\n",
              "      <td>2018-09-20 04:47:45.236797</td>\n",
              "      <td>86.0</td>\n",
              "      <td>68.0</td>\n",
              "      <td>44.0</td>\n",
              "      <td>67.0</td>\n",
              "      <td>44.0</td>\n",
              "      <td>54.2181</td>\n",
              "      <td>49.4772</td>\n",
              "      <td>39.386040</td>\n",
              "    </tr>\n",
              "    <tr>\n",
              "      <th>10371</th>\n",
              "      <td>trip-153741093647649320</td>\n",
              "      <td>IND388620AAB</td>\n",
              "      <td>IND388320AAA</td>\n",
              "      <td>training</td>\n",
              "      <td>2018-09-20 02:35:36.476840</td>\n",
              "      <td>Carting</td>\n",
              "      <td>Khambhat_MotvdDPP_D (Gujarat)</td>\n",
              "      <td>Anand_Vaghasi_IP (Gujarat)</td>\n",
              "      <td>2018-09-20 04:47:45.236797</td>\n",
              "      <td>2018-09-20 06:36:55.627764</td>\n",
              "      <td>109.0</td>\n",
              "      <td>102.0</td>\n",
              "      <td>45.0</td>\n",
              "      <td>100.0</td>\n",
              "      <td>44.0</td>\n",
              "      <td>53.2334</td>\n",
              "      <td>53.2334</td>\n",
              "      <td>43.595802</td>\n",
              "    </tr>\n",
              "  </tbody>\n",
              "</table>\n",
              "</div>\n",
              "      <button class=\"colab-df-convert\" onclick=\"convertToInteractive('df-18c8f3ae-717f-484b-bfd6-eee7087836b4')\"\n",
              "              title=\"Convert this dataframe to an interactive table.\"\n",
              "              style=\"display:none;\">\n",
              "        \n",
              "  <svg xmlns=\"http://www.w3.org/2000/svg\" height=\"24px\"viewBox=\"0 0 24 24\"\n",
              "       width=\"24px\">\n",
              "    <path d=\"M0 0h24v24H0V0z\" fill=\"none\"/>\n",
              "    <path d=\"M18.56 5.44l.94 2.06.94-2.06 2.06-.94-2.06-.94-.94-2.06-.94 2.06-2.06.94zm-11 1L8.5 8.5l.94-2.06 2.06-.94-2.06-.94L8.5 2.5l-.94 2.06-2.06.94zm10 10l.94 2.06.94-2.06 2.06-.94-2.06-.94-.94-2.06-.94 2.06-2.06.94z\"/><path d=\"M17.41 7.96l-1.37-1.37c-.4-.4-.92-.59-1.43-.59-.52 0-1.04.2-1.43.59L10.3 9.45l-7.72 7.72c-.78.78-.78 2.05 0 2.83L4 21.41c.39.39.9.59 1.41.59.51 0 1.02-.2 1.41-.59l7.78-7.78 2.81-2.81c.8-.78.8-2.07 0-2.86zM5.41 20L4 18.59l7.72-7.72 1.47 1.35L5.41 20z\"/>\n",
              "  </svg>\n",
              "      </button>\n",
              "      \n",
              "  <style>\n",
              "    .colab-df-container {\n",
              "      display:flex;\n",
              "      flex-wrap:wrap;\n",
              "      gap: 12px;\n",
              "    }\n",
              "\n",
              "    .colab-df-convert {\n",
              "      background-color: #E8F0FE;\n",
              "      border: none;\n",
              "      border-radius: 50%;\n",
              "      cursor: pointer;\n",
              "      display: none;\n",
              "      fill: #1967D2;\n",
              "      height: 32px;\n",
              "      padding: 0 0 0 0;\n",
              "      width: 32px;\n",
              "    }\n",
              "\n",
              "    .colab-df-convert:hover {\n",
              "      background-color: #E2EBFA;\n",
              "      box-shadow: 0px 1px 2px rgba(60, 64, 67, 0.3), 0px 1px 3px 1px rgba(60, 64, 67, 0.15);\n",
              "      fill: #174EA6;\n",
              "    }\n",
              "\n",
              "    [theme=dark] .colab-df-convert {\n",
              "      background-color: #3B4455;\n",
              "      fill: #D2E3FC;\n",
              "    }\n",
              "\n",
              "    [theme=dark] .colab-df-convert:hover {\n",
              "      background-color: #434B5C;\n",
              "      box-shadow: 0px 1px 3px 1px rgba(0, 0, 0, 0.15);\n",
              "      filter: drop-shadow(0px 1px 2px rgba(0, 0, 0, 0.3));\n",
              "      fill: #FFFFFF;\n",
              "    }\n",
              "  </style>\n",
              "\n",
              "      <script>\n",
              "        const buttonEl =\n",
              "          document.querySelector('#df-18c8f3ae-717f-484b-bfd6-eee7087836b4 button.colab-df-convert');\n",
              "        buttonEl.style.display =\n",
              "          google.colab.kernel.accessAllowed ? 'block' : 'none';\n",
              "\n",
              "        async function convertToInteractive(key) {\n",
              "          const element = document.querySelector('#df-18c8f3ae-717f-484b-bfd6-eee7087836b4');\n",
              "          const dataTable =\n",
              "            await google.colab.kernel.invokeFunction('convertToInteractive',\n",
              "                                                     [key], {});\n",
              "          if (!dataTable) return;\n",
              "\n",
              "          const docLinkHtml = 'Like what you see? Visit the ' +\n",
              "            '<a target=\"_blank\" href=https://colab.research.google.com/notebooks/data_table.ipynb>data table notebook</a>'\n",
              "            + ' to learn more about interactive tables.';\n",
              "          element.innerHTML = '';\n",
              "          dataTable['output_type'] = 'display_data';\n",
              "          await google.colab.output.renderOutput(dataTable, element);\n",
              "          const docLink = document.createElement('div');\n",
              "          docLink.innerHTML = docLinkHtml;\n",
              "          element.appendChild(docLink);\n",
              "        }\n",
              "      </script>\n",
              "    </div>\n",
              "  </div>\n",
              "  "
            ]
          },
          "metadata": {},
          "execution_count": 25
        }
      ]
    },
    {
      "cell_type": "code",
      "source": [
        "df_sr_ds"
      ],
      "metadata": {
        "colab": {
          "base_uri": "https://localhost:8080/",
          "height": 661
        },
        "id": "fbjd2xqordN6",
        "outputId": "ecdb2117-d399-4828-df8f-dbdb4356878a"
      },
      "execution_count": 26,
      "outputs": [
        {
          "output_type": "execute_result",
          "data": {
            "text/plain": [
              "                     trip_uuid source_center destination_center      data  \\\n",
              "0      trip-153671041653548748  IND209304AAA       IND000000ACB  training   \n",
              "1      trip-153671041653548748  IND462022AAA       IND209304AAA  training   \n",
              "2      trip-153671042288605164  IND561203AAB       IND562101AAA  training   \n",
              "3      trip-153671042288605164  IND572101AAA       IND561203AAB  training   \n",
              "4      trip-153671043369099517  IND000000ACB       IND160002AAC  training   \n",
              "...                        ...           ...                ...       ...   \n",
              "26217  trip-153861115439069069  IND628204AAA       IND627657AAA      test   \n",
              "26218  trip-153861115439069069  IND628613AAA       IND627005AAA      test   \n",
              "26219  trip-153861115439069069  IND628801AAA       IND628204AAA      test   \n",
              "26220  trip-153861118270144424  IND583119AAA       IND583101AAA      test   \n",
              "26221  trip-153861118270144424  IND583201AAA       IND583119AAA      test   \n",
              "\n",
              "              trip_creation_time route_type  \\\n",
              "0     2018-09-12 00:00:16.535741        FTL   \n",
              "1     2018-09-12 00:00:16.535741        FTL   \n",
              "2     2018-09-12 00:00:22.886430    Carting   \n",
              "3     2018-09-12 00:00:22.886430    Carting   \n",
              "4     2018-09-12 00:00:33.691250        FTL   \n",
              "...                          ...        ...   \n",
              "26217 2018-10-03 23:59:14.390954    Carting   \n",
              "26218 2018-10-03 23:59:14.390954    Carting   \n",
              "26219 2018-10-03 23:59:14.390954    Carting   \n",
              "26220 2018-10-03 23:59:42.701692        FTL   \n",
              "26221 2018-10-03 23:59:42.701692        FTL   \n",
              "\n",
              "                              source_name  \\\n",
              "0      Kanpur_Central_H_6 (Uttar Pradesh)   \n",
              "1      Bhopal_Trnsport_H (Madhya Pradesh)   \n",
              "2       Doddablpur_ChikaDPP_D (Karnataka)   \n",
              "3           Tumkur_Veersagr_I (Karnataka)   \n",
              "4           Gurgaon_Bilaspur_HB (Haryana)   \n",
              "...                                   ...   \n",
              "26217  Tirchchndr_Shnmgprm_D (Tamil Nadu)   \n",
              "26218   Peikulam_SriVnktpm_D (Tamil Nadu)   \n",
              "26219        Eral_Busstand_D (Tamil Nadu)   \n",
              "26220       Sandur_WrdN1DPP_D (Karnataka)   \n",
              "26221                  Hospet (Karnataka)   \n",
              "\n",
              "                            destination_name              od_start_time  \\\n",
              "0              Gurgaon_Bilaspur_HB (Haryana) 2018-09-12 16:39:46.858469   \n",
              "1         Kanpur_Central_H_6 (Uttar Pradesh) 2018-09-12 00:00:16.535741   \n",
              "2          Chikblapur_ShntiSgr_D (Karnataka) 2018-09-12 02:03:09.655591   \n",
              "3          Doddablpur_ChikaDPP_D (Karnataka) 2018-09-12 00:00:22.886430   \n",
              "4             Chandigarh_Mehmdpur_H (Punjab) 2018-09-14 03:40:17.106733   \n",
              "...                                      ...                        ...   \n",
              "26217  Thisayanvilai_UdnkdiRD_D (Tamil Nadu) 2018-10-04 02:29:04.272194   \n",
              "26218    Tirunelveli_VdkkuSrt_I (Tamil Nadu) 2018-10-04 04:16:39.894872   \n",
              "26219     Tirchchndr_Shnmgprm_D (Tamil Nadu) 2018-10-04 01:44:53.808000   \n",
              "26220                 Bellary_Dc (Karnataka) 2018-10-04 03:58:40.726547   \n",
              "26221          Sandur_WrdN1DPP_D (Karnataka) 2018-10-04 02:51:44.712656   \n",
              "\n",
              "                     od_end_time  start_scan_to_end_scan  actual_time  \\\n",
              "0     2018-09-13 13:40:23.123744                  1260.0        732.0   \n",
              "1     2018-09-12 16:39:46.858469                   999.0        830.0   \n",
              "2     2018-09-12 03:01:59.598855                    58.0         47.0   \n",
              "3     2018-09-12 02:03:09.655591                   122.0         96.0   \n",
              "4     2018-09-14 17:34:55.442454                   834.0        611.0   \n",
              "...                          ...                     ...          ...   \n",
              "26217 2018-10-04 03:31:11.183797                    62.0         51.0   \n",
              "26218 2018-10-04 05:47:45.162682                    91.0         90.0   \n",
              "26219 2018-10-04 02:29:04.272194                    44.0         30.0   \n",
              "26220 2018-10-04 08:46:09.166940                   287.0        233.0   \n",
              "26221 2018-10-04 03:58:40.726547                    66.0         42.0   \n",
              "\n",
              "       osrm_time  segment_actual_time  segment_osrm_time  osrm_distance  \\\n",
              "0          349.0                728.0              534.0       446.5496   \n",
              "1          394.0                820.0              474.0       544.8027   \n",
              "2           26.0                 46.0               26.0        28.1994   \n",
              "3           42.0                 95.0               39.0        56.9116   \n",
              "4          212.0                608.0              231.0       281.2109   \n",
              "...          ...                  ...                ...            ...   \n",
              "26217       41.0                 49.0               42.0        42.5213   \n",
              "26218       48.0                 89.0               77.0        40.6080   \n",
              "26219       14.0                 29.0               14.0        16.0185   \n",
              "26220       42.0                233.0               42.0        52.5303   \n",
              "26221       26.0                 41.0               25.0        28.0484   \n",
              "\n",
              "       segment_osrm_distance  actual_distance_to_destination  \n",
              "0                   670.6205                      383.759164  \n",
              "1                   649.8528                      440.973689  \n",
              "2                    28.1995                       24.644021  \n",
              "3                    55.9899                       48.542890  \n",
              "4                   317.7408                      242.309306  \n",
              "...                      ...                             ...  \n",
              "26217                42.1431                       33.627182  \n",
              "26218                78.5869                       33.673835  \n",
              "26219                16.0184                       12.661945  \n",
              "26220                52.5303                       40.546740  \n",
              "26221                28.0484                       25.534793  \n",
              "\n",
              "[26222 rows x 18 columns]"
            ],
            "text/html": [
              "\n",
              "  <div id=\"df-8967ca2f-587c-4328-aba1-bd0dd9ee34fe\">\n",
              "    <div class=\"colab-df-container\">\n",
              "      <div>\n",
              "<style scoped>\n",
              "    .dataframe tbody tr th:only-of-type {\n",
              "        vertical-align: middle;\n",
              "    }\n",
              "\n",
              "    .dataframe tbody tr th {\n",
              "        vertical-align: top;\n",
              "    }\n",
              "\n",
              "    .dataframe thead th {\n",
              "        text-align: right;\n",
              "    }\n",
              "</style>\n",
              "<table border=\"1\" class=\"dataframe\">\n",
              "  <thead>\n",
              "    <tr style=\"text-align: right;\">\n",
              "      <th></th>\n",
              "      <th>trip_uuid</th>\n",
              "      <th>source_center</th>\n",
              "      <th>destination_center</th>\n",
              "      <th>data</th>\n",
              "      <th>trip_creation_time</th>\n",
              "      <th>route_type</th>\n",
              "      <th>source_name</th>\n",
              "      <th>destination_name</th>\n",
              "      <th>od_start_time</th>\n",
              "      <th>od_end_time</th>\n",
              "      <th>start_scan_to_end_scan</th>\n",
              "      <th>actual_time</th>\n",
              "      <th>osrm_time</th>\n",
              "      <th>segment_actual_time</th>\n",
              "      <th>segment_osrm_time</th>\n",
              "      <th>osrm_distance</th>\n",
              "      <th>segment_osrm_distance</th>\n",
              "      <th>actual_distance_to_destination</th>\n",
              "    </tr>\n",
              "  </thead>\n",
              "  <tbody>\n",
              "    <tr>\n",
              "      <th>0</th>\n",
              "      <td>trip-153671041653548748</td>\n",
              "      <td>IND209304AAA</td>\n",
              "      <td>IND000000ACB</td>\n",
              "      <td>training</td>\n",
              "      <td>2018-09-12 00:00:16.535741</td>\n",
              "      <td>FTL</td>\n",
              "      <td>Kanpur_Central_H_6 (Uttar Pradesh)</td>\n",
              "      <td>Gurgaon_Bilaspur_HB (Haryana)</td>\n",
              "      <td>2018-09-12 16:39:46.858469</td>\n",
              "      <td>2018-09-13 13:40:23.123744</td>\n",
              "      <td>1260.0</td>\n",
              "      <td>732.0</td>\n",
              "      <td>349.0</td>\n",
              "      <td>728.0</td>\n",
              "      <td>534.0</td>\n",
              "      <td>446.5496</td>\n",
              "      <td>670.6205</td>\n",
              "      <td>383.759164</td>\n",
              "    </tr>\n",
              "    <tr>\n",
              "      <th>1</th>\n",
              "      <td>trip-153671041653548748</td>\n",
              "      <td>IND462022AAA</td>\n",
              "      <td>IND209304AAA</td>\n",
              "      <td>training</td>\n",
              "      <td>2018-09-12 00:00:16.535741</td>\n",
              "      <td>FTL</td>\n",
              "      <td>Bhopal_Trnsport_H (Madhya Pradesh)</td>\n",
              "      <td>Kanpur_Central_H_6 (Uttar Pradesh)</td>\n",
              "      <td>2018-09-12 00:00:16.535741</td>\n",
              "      <td>2018-09-12 16:39:46.858469</td>\n",
              "      <td>999.0</td>\n",
              "      <td>830.0</td>\n",
              "      <td>394.0</td>\n",
              "      <td>820.0</td>\n",
              "      <td>474.0</td>\n",
              "      <td>544.8027</td>\n",
              "      <td>649.8528</td>\n",
              "      <td>440.973689</td>\n",
              "    </tr>\n",
              "    <tr>\n",
              "      <th>2</th>\n",
              "      <td>trip-153671042288605164</td>\n",
              "      <td>IND561203AAB</td>\n",
              "      <td>IND562101AAA</td>\n",
              "      <td>training</td>\n",
              "      <td>2018-09-12 00:00:22.886430</td>\n",
              "      <td>Carting</td>\n",
              "      <td>Doddablpur_ChikaDPP_D (Karnataka)</td>\n",
              "      <td>Chikblapur_ShntiSgr_D (Karnataka)</td>\n",
              "      <td>2018-09-12 02:03:09.655591</td>\n",
              "      <td>2018-09-12 03:01:59.598855</td>\n",
              "      <td>58.0</td>\n",
              "      <td>47.0</td>\n",
              "      <td>26.0</td>\n",
              "      <td>46.0</td>\n",
              "      <td>26.0</td>\n",
              "      <td>28.1994</td>\n",
              "      <td>28.1995</td>\n",
              "      <td>24.644021</td>\n",
              "    </tr>\n",
              "    <tr>\n",
              "      <th>3</th>\n",
              "      <td>trip-153671042288605164</td>\n",
              "      <td>IND572101AAA</td>\n",
              "      <td>IND561203AAB</td>\n",
              "      <td>training</td>\n",
              "      <td>2018-09-12 00:00:22.886430</td>\n",
              "      <td>Carting</td>\n",
              "      <td>Tumkur_Veersagr_I (Karnataka)</td>\n",
              "      <td>Doddablpur_ChikaDPP_D (Karnataka)</td>\n",
              "      <td>2018-09-12 00:00:22.886430</td>\n",
              "      <td>2018-09-12 02:03:09.655591</td>\n",
              "      <td>122.0</td>\n",
              "      <td>96.0</td>\n",
              "      <td>42.0</td>\n",
              "      <td>95.0</td>\n",
              "      <td>39.0</td>\n",
              "      <td>56.9116</td>\n",
              "      <td>55.9899</td>\n",
              "      <td>48.542890</td>\n",
              "    </tr>\n",
              "    <tr>\n",
              "      <th>4</th>\n",
              "      <td>trip-153671043369099517</td>\n",
              "      <td>IND000000ACB</td>\n",
              "      <td>IND160002AAC</td>\n",
              "      <td>training</td>\n",
              "      <td>2018-09-12 00:00:33.691250</td>\n",
              "      <td>FTL</td>\n",
              "      <td>Gurgaon_Bilaspur_HB (Haryana)</td>\n",
              "      <td>Chandigarh_Mehmdpur_H (Punjab)</td>\n",
              "      <td>2018-09-14 03:40:17.106733</td>\n",
              "      <td>2018-09-14 17:34:55.442454</td>\n",
              "      <td>834.0</td>\n",
              "      <td>611.0</td>\n",
              "      <td>212.0</td>\n",
              "      <td>608.0</td>\n",
              "      <td>231.0</td>\n",
              "      <td>281.2109</td>\n",
              "      <td>317.7408</td>\n",
              "      <td>242.309306</td>\n",
              "    </tr>\n",
              "    <tr>\n",
              "      <th>...</th>\n",
              "      <td>...</td>\n",
              "      <td>...</td>\n",
              "      <td>...</td>\n",
              "      <td>...</td>\n",
              "      <td>...</td>\n",
              "      <td>...</td>\n",
              "      <td>...</td>\n",
              "      <td>...</td>\n",
              "      <td>...</td>\n",
              "      <td>...</td>\n",
              "      <td>...</td>\n",
              "      <td>...</td>\n",
              "      <td>...</td>\n",
              "      <td>...</td>\n",
              "      <td>...</td>\n",
              "      <td>...</td>\n",
              "      <td>...</td>\n",
              "      <td>...</td>\n",
              "    </tr>\n",
              "    <tr>\n",
              "      <th>26217</th>\n",
              "      <td>trip-153861115439069069</td>\n",
              "      <td>IND628204AAA</td>\n",
              "      <td>IND627657AAA</td>\n",
              "      <td>test</td>\n",
              "      <td>2018-10-03 23:59:14.390954</td>\n",
              "      <td>Carting</td>\n",
              "      <td>Tirchchndr_Shnmgprm_D (Tamil Nadu)</td>\n",
              "      <td>Thisayanvilai_UdnkdiRD_D (Tamil Nadu)</td>\n",
              "      <td>2018-10-04 02:29:04.272194</td>\n",
              "      <td>2018-10-04 03:31:11.183797</td>\n",
              "      <td>62.0</td>\n",
              "      <td>51.0</td>\n",
              "      <td>41.0</td>\n",
              "      <td>49.0</td>\n",
              "      <td>42.0</td>\n",
              "      <td>42.5213</td>\n",
              "      <td>42.1431</td>\n",
              "      <td>33.627182</td>\n",
              "    </tr>\n",
              "    <tr>\n",
              "      <th>26218</th>\n",
              "      <td>trip-153861115439069069</td>\n",
              "      <td>IND628613AAA</td>\n",
              "      <td>IND627005AAA</td>\n",
              "      <td>test</td>\n",
              "      <td>2018-10-03 23:59:14.390954</td>\n",
              "      <td>Carting</td>\n",
              "      <td>Peikulam_SriVnktpm_D (Tamil Nadu)</td>\n",
              "      <td>Tirunelveli_VdkkuSrt_I (Tamil Nadu)</td>\n",
              "      <td>2018-10-04 04:16:39.894872</td>\n",
              "      <td>2018-10-04 05:47:45.162682</td>\n",
              "      <td>91.0</td>\n",
              "      <td>90.0</td>\n",
              "      <td>48.0</td>\n",
              "      <td>89.0</td>\n",
              "      <td>77.0</td>\n",
              "      <td>40.6080</td>\n",
              "      <td>78.5869</td>\n",
              "      <td>33.673835</td>\n",
              "    </tr>\n",
              "    <tr>\n",
              "      <th>26219</th>\n",
              "      <td>trip-153861115439069069</td>\n",
              "      <td>IND628801AAA</td>\n",
              "      <td>IND628204AAA</td>\n",
              "      <td>test</td>\n",
              "      <td>2018-10-03 23:59:14.390954</td>\n",
              "      <td>Carting</td>\n",
              "      <td>Eral_Busstand_D (Tamil Nadu)</td>\n",
              "      <td>Tirchchndr_Shnmgprm_D (Tamil Nadu)</td>\n",
              "      <td>2018-10-04 01:44:53.808000</td>\n",
              "      <td>2018-10-04 02:29:04.272194</td>\n",
              "      <td>44.0</td>\n",
              "      <td>30.0</td>\n",
              "      <td>14.0</td>\n",
              "      <td>29.0</td>\n",
              "      <td>14.0</td>\n",
              "      <td>16.0185</td>\n",
              "      <td>16.0184</td>\n",
              "      <td>12.661945</td>\n",
              "    </tr>\n",
              "    <tr>\n",
              "      <th>26220</th>\n",
              "      <td>trip-153861118270144424</td>\n",
              "      <td>IND583119AAA</td>\n",
              "      <td>IND583101AAA</td>\n",
              "      <td>test</td>\n",
              "      <td>2018-10-03 23:59:42.701692</td>\n",
              "      <td>FTL</td>\n",
              "      <td>Sandur_WrdN1DPP_D (Karnataka)</td>\n",
              "      <td>Bellary_Dc (Karnataka)</td>\n",
              "      <td>2018-10-04 03:58:40.726547</td>\n",
              "      <td>2018-10-04 08:46:09.166940</td>\n",
              "      <td>287.0</td>\n",
              "      <td>233.0</td>\n",
              "      <td>42.0</td>\n",
              "      <td>233.0</td>\n",
              "      <td>42.0</td>\n",
              "      <td>52.5303</td>\n",
              "      <td>52.5303</td>\n",
              "      <td>40.546740</td>\n",
              "    </tr>\n",
              "    <tr>\n",
              "      <th>26221</th>\n",
              "      <td>trip-153861118270144424</td>\n",
              "      <td>IND583201AAA</td>\n",
              "      <td>IND583119AAA</td>\n",
              "      <td>test</td>\n",
              "      <td>2018-10-03 23:59:42.701692</td>\n",
              "      <td>FTL</td>\n",
              "      <td>Hospet (Karnataka)</td>\n",
              "      <td>Sandur_WrdN1DPP_D (Karnataka)</td>\n",
              "      <td>2018-10-04 02:51:44.712656</td>\n",
              "      <td>2018-10-04 03:58:40.726547</td>\n",
              "      <td>66.0</td>\n",
              "      <td>42.0</td>\n",
              "      <td>26.0</td>\n",
              "      <td>41.0</td>\n",
              "      <td>25.0</td>\n",
              "      <td>28.0484</td>\n",
              "      <td>28.0484</td>\n",
              "      <td>25.534793</td>\n",
              "    </tr>\n",
              "  </tbody>\n",
              "</table>\n",
              "<p>26222 rows × 18 columns</p>\n",
              "</div>\n",
              "      <button class=\"colab-df-convert\" onclick=\"convertToInteractive('df-8967ca2f-587c-4328-aba1-bd0dd9ee34fe')\"\n",
              "              title=\"Convert this dataframe to an interactive table.\"\n",
              "              style=\"display:none;\">\n",
              "        \n",
              "  <svg xmlns=\"http://www.w3.org/2000/svg\" height=\"24px\"viewBox=\"0 0 24 24\"\n",
              "       width=\"24px\">\n",
              "    <path d=\"M0 0h24v24H0V0z\" fill=\"none\"/>\n",
              "    <path d=\"M18.56 5.44l.94 2.06.94-2.06 2.06-.94-2.06-.94-.94-2.06-.94 2.06-2.06.94zm-11 1L8.5 8.5l.94-2.06 2.06-.94-2.06-.94L8.5 2.5l-.94 2.06-2.06.94zm10 10l.94 2.06.94-2.06 2.06-.94-2.06-.94-.94-2.06-.94 2.06-2.06.94z\"/><path d=\"M17.41 7.96l-1.37-1.37c-.4-.4-.92-.59-1.43-.59-.52 0-1.04.2-1.43.59L10.3 9.45l-7.72 7.72c-.78.78-.78 2.05 0 2.83L4 21.41c.39.39.9.59 1.41.59.51 0 1.02-.2 1.41-.59l7.78-7.78 2.81-2.81c.8-.78.8-2.07 0-2.86zM5.41 20L4 18.59l7.72-7.72 1.47 1.35L5.41 20z\"/>\n",
              "  </svg>\n",
              "      </button>\n",
              "      \n",
              "  <style>\n",
              "    .colab-df-container {\n",
              "      display:flex;\n",
              "      flex-wrap:wrap;\n",
              "      gap: 12px;\n",
              "    }\n",
              "\n",
              "    .colab-df-convert {\n",
              "      background-color: #E8F0FE;\n",
              "      border: none;\n",
              "      border-radius: 50%;\n",
              "      cursor: pointer;\n",
              "      display: none;\n",
              "      fill: #1967D2;\n",
              "      height: 32px;\n",
              "      padding: 0 0 0 0;\n",
              "      width: 32px;\n",
              "    }\n",
              "\n",
              "    .colab-df-convert:hover {\n",
              "      background-color: #E2EBFA;\n",
              "      box-shadow: 0px 1px 2px rgba(60, 64, 67, 0.3), 0px 1px 3px 1px rgba(60, 64, 67, 0.15);\n",
              "      fill: #174EA6;\n",
              "    }\n",
              "\n",
              "    [theme=dark] .colab-df-convert {\n",
              "      background-color: #3B4455;\n",
              "      fill: #D2E3FC;\n",
              "    }\n",
              "\n",
              "    [theme=dark] .colab-df-convert:hover {\n",
              "      background-color: #434B5C;\n",
              "      box-shadow: 0px 1px 3px 1px rgba(0, 0, 0, 0.15);\n",
              "      filter: drop-shadow(0px 1px 2px rgba(0, 0, 0, 0.3));\n",
              "      fill: #FFFFFF;\n",
              "    }\n",
              "  </style>\n",
              "\n",
              "      <script>\n",
              "        const buttonEl =\n",
              "          document.querySelector('#df-8967ca2f-587c-4328-aba1-bd0dd9ee34fe button.colab-df-convert');\n",
              "        buttonEl.style.display =\n",
              "          google.colab.kernel.accessAllowed ? 'block' : 'none';\n",
              "\n",
              "        async function convertToInteractive(key) {\n",
              "          const element = document.querySelector('#df-8967ca2f-587c-4328-aba1-bd0dd9ee34fe');\n",
              "          const dataTable =\n",
              "            await google.colab.kernel.invokeFunction('convertToInteractive',\n",
              "                                                     [key], {});\n",
              "          if (!dataTable) return;\n",
              "\n",
              "          const docLinkHtml = 'Like what you see? Visit the ' +\n",
              "            '<a target=\"_blank\" href=https://colab.research.google.com/notebooks/data_table.ipynb>data table notebook</a>'\n",
              "            + ' to learn more about interactive tables.';\n",
              "          element.innerHTML = '';\n",
              "          dataTable['output_type'] = 'display_data';\n",
              "          await google.colab.output.renderOutput(dataTable, element);\n",
              "          const docLink = document.createElement('div');\n",
              "          docLink.innerHTML = docLinkHtml;\n",
              "          element.appendChild(docLink);\n",
              "        }\n",
              "      </script>\n",
              "    </div>\n",
              "  </div>\n",
              "  "
            ]
          },
          "metadata": {},
          "execution_count": 26
        }
      ]
    },
    {
      "cell_type": "code",
      "source": [
        "df_sr_ds.shape"
      ],
      "metadata": {
        "colab": {
          "base_uri": "https://localhost:8080/"
        },
        "id": "b9BXlpO1rea0",
        "outputId": "6805f8e8-cb3e-406c-f39e-4baa33bac36e"
      },
      "execution_count": 27,
      "outputs": [
        {
          "output_type": "execute_result",
          "data": {
            "text/plain": [
              "(26222, 18)"
            ]
          },
          "metadata": {},
          "execution_count": 27
        }
      ]
    },
    {
      "cell_type": "markdown",
      "source": [
        "Let's sort based on od_start_time & trip uuid."
      ],
      "metadata": {
        "id": "2dZKwfGRs649"
      }
    },
    {
      "cell_type": "code",
      "source": [
        "df_sr_ds.sort_values(['trip_uuid', 'od_start_time'])"
      ],
      "metadata": {
        "colab": {
          "base_uri": "https://localhost:8080/",
          "height": 661
        },
        "id": "noIWZREVrmii",
        "outputId": "3a697fc9-4cd7-46ed-c1b1-f4af63a1efcd"
      },
      "execution_count": 28,
      "outputs": [
        {
          "output_type": "execute_result",
          "data": {
            "text/plain": [
              "                     trip_uuid source_center destination_center      data  \\\n",
              "1      trip-153671041653548748  IND462022AAA       IND209304AAA  training   \n",
              "0      trip-153671041653548748  IND209304AAA       IND000000ACB  training   \n",
              "3      trip-153671042288605164  IND572101AAA       IND561203AAB  training   \n",
              "2      trip-153671042288605164  IND561203AAB       IND562101AAA  training   \n",
              "5      trip-153671043369099517  IND562132AAA       IND000000ACB  training   \n",
              "...                        ...           ...                ...       ...   \n",
              "26217  trip-153861115439069069  IND628204AAA       IND627657AAA      test   \n",
              "26216  trip-153861115439069069  IND627657AAA       IND628613AAA      test   \n",
              "26218  trip-153861115439069069  IND628613AAA       IND627005AAA      test   \n",
              "26221  trip-153861118270144424  IND583201AAA       IND583119AAA      test   \n",
              "26220  trip-153861118270144424  IND583119AAA       IND583101AAA      test   \n",
              "\n",
              "              trip_creation_time route_type  \\\n",
              "1     2018-09-12 00:00:16.535741        FTL   \n",
              "0     2018-09-12 00:00:16.535741        FTL   \n",
              "3     2018-09-12 00:00:22.886430    Carting   \n",
              "2     2018-09-12 00:00:22.886430    Carting   \n",
              "5     2018-09-12 00:00:33.691250        FTL   \n",
              "...                          ...        ...   \n",
              "26217 2018-10-03 23:59:14.390954    Carting   \n",
              "26216 2018-10-03 23:59:14.390954    Carting   \n",
              "26218 2018-10-03 23:59:14.390954    Carting   \n",
              "26221 2018-10-03 23:59:42.701692        FTL   \n",
              "26220 2018-10-03 23:59:42.701692        FTL   \n",
              "\n",
              "                                 source_name  \\\n",
              "1         Bhopal_Trnsport_H (Madhya Pradesh)   \n",
              "0         Kanpur_Central_H_6 (Uttar Pradesh)   \n",
              "3              Tumkur_Veersagr_I (Karnataka)   \n",
              "2          Doddablpur_ChikaDPP_D (Karnataka)   \n",
              "5           Bangalore_Nelmngla_H (Karnataka)   \n",
              "...                                      ...   \n",
              "26217     Tirchchndr_Shnmgprm_D (Tamil Nadu)   \n",
              "26216  Thisayanvilai_UdnkdiRD_D (Tamil Nadu)   \n",
              "26218      Peikulam_SriVnktpm_D (Tamil Nadu)   \n",
              "26221                     Hospet (Karnataka)   \n",
              "26220          Sandur_WrdN1DPP_D (Karnataka)   \n",
              "\n",
              "                            destination_name              od_start_time  \\\n",
              "1         Kanpur_Central_H_6 (Uttar Pradesh) 2018-09-12 00:00:16.535741   \n",
              "0              Gurgaon_Bilaspur_HB (Haryana) 2018-09-12 16:39:46.858469   \n",
              "3          Doddablpur_ChikaDPP_D (Karnataka) 2018-09-12 00:00:22.886430   \n",
              "2          Chikblapur_ShntiSgr_D (Karnataka) 2018-09-12 02:03:09.655591   \n",
              "5              Gurgaon_Bilaspur_HB (Haryana) 2018-09-12 00:00:33.691250   \n",
              "...                                      ...                        ...   \n",
              "26217  Thisayanvilai_UdnkdiRD_D (Tamil Nadu) 2018-10-04 02:29:04.272194   \n",
              "26216      Peikulam_SriVnktpm_D (Tamil Nadu) 2018-10-04 03:31:11.183797   \n",
              "26218    Tirunelveli_VdkkuSrt_I (Tamil Nadu) 2018-10-04 04:16:39.894872   \n",
              "26221          Sandur_WrdN1DPP_D (Karnataka) 2018-10-04 02:51:44.712656   \n",
              "26220                 Bellary_Dc (Karnataka) 2018-10-04 03:58:40.726547   \n",
              "\n",
              "                     od_end_time  start_scan_to_end_scan  actual_time  \\\n",
              "1     2018-09-12 16:39:46.858469                   999.0        830.0   \n",
              "0     2018-09-13 13:40:23.123744                  1260.0        732.0   \n",
              "3     2018-09-12 02:03:09.655591                   122.0         96.0   \n",
              "2     2018-09-12 03:01:59.598855                    58.0         47.0   \n",
              "5     2018-09-14 03:40:17.106733                  3099.0       2736.0   \n",
              "...                          ...                     ...          ...   \n",
              "26217 2018-10-04 03:31:11.183797                    62.0         51.0   \n",
              "26216 2018-10-04 04:16:39.894872                    45.0         33.0   \n",
              "26218 2018-10-04 05:47:45.162682                    91.0         90.0   \n",
              "26221 2018-10-04 03:58:40.726547                    66.0         42.0   \n",
              "26220 2018-10-04 08:46:09.166940                   287.0        233.0   \n",
              "\n",
              "       osrm_time  segment_actual_time  segment_osrm_time  osrm_distance  \\\n",
              "1          394.0                820.0              474.0       544.8027   \n",
              "0          349.0                728.0              534.0       446.5496   \n",
              "3           42.0                 95.0               39.0        56.9116   \n",
              "2           26.0                 46.0               26.0        28.1994   \n",
              "5         1529.0               2700.0             1710.0      2090.8743   \n",
              "...          ...                  ...                ...            ...   \n",
              "26217       41.0                 49.0               42.0        42.5213   \n",
              "26216       31.0                 32.0               30.0        25.7087   \n",
              "26218       48.0                 89.0               77.0        40.6080   \n",
              "26221       26.0                 41.0               25.0        28.0484   \n",
              "26220       42.0                233.0               42.0        52.5303   \n",
              "\n",
              "       segment_osrm_distance  actual_distance_to_destination  \n",
              "1                   649.8528                      440.973689  \n",
              "0                   670.6205                      383.759164  \n",
              "3                    55.9899                       48.542890  \n",
              "2                    28.1995                       24.644021  \n",
              "5                  2227.5270                     1689.964663  \n",
              "...                      ...                             ...  \n",
              "26217                42.1431                       33.627182  \n",
              "26216                25.7087                       17.373209  \n",
              "26218                78.5869                       33.673835  \n",
              "26221                28.0484                       25.534793  \n",
              "26220                52.5303                       40.546740  \n",
              "\n",
              "[26222 rows x 18 columns]"
            ],
            "text/html": [
              "\n",
              "  <div id=\"df-7c7f4939-d64c-4fbc-8d41-a3b7974466e5\">\n",
              "    <div class=\"colab-df-container\">\n",
              "      <div>\n",
              "<style scoped>\n",
              "    .dataframe tbody tr th:only-of-type {\n",
              "        vertical-align: middle;\n",
              "    }\n",
              "\n",
              "    .dataframe tbody tr th {\n",
              "        vertical-align: top;\n",
              "    }\n",
              "\n",
              "    .dataframe thead th {\n",
              "        text-align: right;\n",
              "    }\n",
              "</style>\n",
              "<table border=\"1\" class=\"dataframe\">\n",
              "  <thead>\n",
              "    <tr style=\"text-align: right;\">\n",
              "      <th></th>\n",
              "      <th>trip_uuid</th>\n",
              "      <th>source_center</th>\n",
              "      <th>destination_center</th>\n",
              "      <th>data</th>\n",
              "      <th>trip_creation_time</th>\n",
              "      <th>route_type</th>\n",
              "      <th>source_name</th>\n",
              "      <th>destination_name</th>\n",
              "      <th>od_start_time</th>\n",
              "      <th>od_end_time</th>\n",
              "      <th>start_scan_to_end_scan</th>\n",
              "      <th>actual_time</th>\n",
              "      <th>osrm_time</th>\n",
              "      <th>segment_actual_time</th>\n",
              "      <th>segment_osrm_time</th>\n",
              "      <th>osrm_distance</th>\n",
              "      <th>segment_osrm_distance</th>\n",
              "      <th>actual_distance_to_destination</th>\n",
              "    </tr>\n",
              "  </thead>\n",
              "  <tbody>\n",
              "    <tr>\n",
              "      <th>1</th>\n",
              "      <td>trip-153671041653548748</td>\n",
              "      <td>IND462022AAA</td>\n",
              "      <td>IND209304AAA</td>\n",
              "      <td>training</td>\n",
              "      <td>2018-09-12 00:00:16.535741</td>\n",
              "      <td>FTL</td>\n",
              "      <td>Bhopal_Trnsport_H (Madhya Pradesh)</td>\n",
              "      <td>Kanpur_Central_H_6 (Uttar Pradesh)</td>\n",
              "      <td>2018-09-12 00:00:16.535741</td>\n",
              "      <td>2018-09-12 16:39:46.858469</td>\n",
              "      <td>999.0</td>\n",
              "      <td>830.0</td>\n",
              "      <td>394.0</td>\n",
              "      <td>820.0</td>\n",
              "      <td>474.0</td>\n",
              "      <td>544.8027</td>\n",
              "      <td>649.8528</td>\n",
              "      <td>440.973689</td>\n",
              "    </tr>\n",
              "    <tr>\n",
              "      <th>0</th>\n",
              "      <td>trip-153671041653548748</td>\n",
              "      <td>IND209304AAA</td>\n",
              "      <td>IND000000ACB</td>\n",
              "      <td>training</td>\n",
              "      <td>2018-09-12 00:00:16.535741</td>\n",
              "      <td>FTL</td>\n",
              "      <td>Kanpur_Central_H_6 (Uttar Pradesh)</td>\n",
              "      <td>Gurgaon_Bilaspur_HB (Haryana)</td>\n",
              "      <td>2018-09-12 16:39:46.858469</td>\n",
              "      <td>2018-09-13 13:40:23.123744</td>\n",
              "      <td>1260.0</td>\n",
              "      <td>732.0</td>\n",
              "      <td>349.0</td>\n",
              "      <td>728.0</td>\n",
              "      <td>534.0</td>\n",
              "      <td>446.5496</td>\n",
              "      <td>670.6205</td>\n",
              "      <td>383.759164</td>\n",
              "    </tr>\n",
              "    <tr>\n",
              "      <th>3</th>\n",
              "      <td>trip-153671042288605164</td>\n",
              "      <td>IND572101AAA</td>\n",
              "      <td>IND561203AAB</td>\n",
              "      <td>training</td>\n",
              "      <td>2018-09-12 00:00:22.886430</td>\n",
              "      <td>Carting</td>\n",
              "      <td>Tumkur_Veersagr_I (Karnataka)</td>\n",
              "      <td>Doddablpur_ChikaDPP_D (Karnataka)</td>\n",
              "      <td>2018-09-12 00:00:22.886430</td>\n",
              "      <td>2018-09-12 02:03:09.655591</td>\n",
              "      <td>122.0</td>\n",
              "      <td>96.0</td>\n",
              "      <td>42.0</td>\n",
              "      <td>95.0</td>\n",
              "      <td>39.0</td>\n",
              "      <td>56.9116</td>\n",
              "      <td>55.9899</td>\n",
              "      <td>48.542890</td>\n",
              "    </tr>\n",
              "    <tr>\n",
              "      <th>2</th>\n",
              "      <td>trip-153671042288605164</td>\n",
              "      <td>IND561203AAB</td>\n",
              "      <td>IND562101AAA</td>\n",
              "      <td>training</td>\n",
              "      <td>2018-09-12 00:00:22.886430</td>\n",
              "      <td>Carting</td>\n",
              "      <td>Doddablpur_ChikaDPP_D (Karnataka)</td>\n",
              "      <td>Chikblapur_ShntiSgr_D (Karnataka)</td>\n",
              "      <td>2018-09-12 02:03:09.655591</td>\n",
              "      <td>2018-09-12 03:01:59.598855</td>\n",
              "      <td>58.0</td>\n",
              "      <td>47.0</td>\n",
              "      <td>26.0</td>\n",
              "      <td>46.0</td>\n",
              "      <td>26.0</td>\n",
              "      <td>28.1994</td>\n",
              "      <td>28.1995</td>\n",
              "      <td>24.644021</td>\n",
              "    </tr>\n",
              "    <tr>\n",
              "      <th>5</th>\n",
              "      <td>trip-153671043369099517</td>\n",
              "      <td>IND562132AAA</td>\n",
              "      <td>IND000000ACB</td>\n",
              "      <td>training</td>\n",
              "      <td>2018-09-12 00:00:33.691250</td>\n",
              "      <td>FTL</td>\n",
              "      <td>Bangalore_Nelmngla_H (Karnataka)</td>\n",
              "      <td>Gurgaon_Bilaspur_HB (Haryana)</td>\n",
              "      <td>2018-09-12 00:00:33.691250</td>\n",
              "      <td>2018-09-14 03:40:17.106733</td>\n",
              "      <td>3099.0</td>\n",
              "      <td>2736.0</td>\n",
              "      <td>1529.0</td>\n",
              "      <td>2700.0</td>\n",
              "      <td>1710.0</td>\n",
              "      <td>2090.8743</td>\n",
              "      <td>2227.5270</td>\n",
              "      <td>1689.964663</td>\n",
              "    </tr>\n",
              "    <tr>\n",
              "      <th>...</th>\n",
              "      <td>...</td>\n",
              "      <td>...</td>\n",
              "      <td>...</td>\n",
              "      <td>...</td>\n",
              "      <td>...</td>\n",
              "      <td>...</td>\n",
              "      <td>...</td>\n",
              "      <td>...</td>\n",
              "      <td>...</td>\n",
              "      <td>...</td>\n",
              "      <td>...</td>\n",
              "      <td>...</td>\n",
              "      <td>...</td>\n",
              "      <td>...</td>\n",
              "      <td>...</td>\n",
              "      <td>...</td>\n",
              "      <td>...</td>\n",
              "      <td>...</td>\n",
              "    </tr>\n",
              "    <tr>\n",
              "      <th>26217</th>\n",
              "      <td>trip-153861115439069069</td>\n",
              "      <td>IND628204AAA</td>\n",
              "      <td>IND627657AAA</td>\n",
              "      <td>test</td>\n",
              "      <td>2018-10-03 23:59:14.390954</td>\n",
              "      <td>Carting</td>\n",
              "      <td>Tirchchndr_Shnmgprm_D (Tamil Nadu)</td>\n",
              "      <td>Thisayanvilai_UdnkdiRD_D (Tamil Nadu)</td>\n",
              "      <td>2018-10-04 02:29:04.272194</td>\n",
              "      <td>2018-10-04 03:31:11.183797</td>\n",
              "      <td>62.0</td>\n",
              "      <td>51.0</td>\n",
              "      <td>41.0</td>\n",
              "      <td>49.0</td>\n",
              "      <td>42.0</td>\n",
              "      <td>42.5213</td>\n",
              "      <td>42.1431</td>\n",
              "      <td>33.627182</td>\n",
              "    </tr>\n",
              "    <tr>\n",
              "      <th>26216</th>\n",
              "      <td>trip-153861115439069069</td>\n",
              "      <td>IND627657AAA</td>\n",
              "      <td>IND628613AAA</td>\n",
              "      <td>test</td>\n",
              "      <td>2018-10-03 23:59:14.390954</td>\n",
              "      <td>Carting</td>\n",
              "      <td>Thisayanvilai_UdnkdiRD_D (Tamil Nadu)</td>\n",
              "      <td>Peikulam_SriVnktpm_D (Tamil Nadu)</td>\n",
              "      <td>2018-10-04 03:31:11.183797</td>\n",
              "      <td>2018-10-04 04:16:39.894872</td>\n",
              "      <td>45.0</td>\n",
              "      <td>33.0</td>\n",
              "      <td>31.0</td>\n",
              "      <td>32.0</td>\n",
              "      <td>30.0</td>\n",
              "      <td>25.7087</td>\n",
              "      <td>25.7087</td>\n",
              "      <td>17.373209</td>\n",
              "    </tr>\n",
              "    <tr>\n",
              "      <th>26218</th>\n",
              "      <td>trip-153861115439069069</td>\n",
              "      <td>IND628613AAA</td>\n",
              "      <td>IND627005AAA</td>\n",
              "      <td>test</td>\n",
              "      <td>2018-10-03 23:59:14.390954</td>\n",
              "      <td>Carting</td>\n",
              "      <td>Peikulam_SriVnktpm_D (Tamil Nadu)</td>\n",
              "      <td>Tirunelveli_VdkkuSrt_I (Tamil Nadu)</td>\n",
              "      <td>2018-10-04 04:16:39.894872</td>\n",
              "      <td>2018-10-04 05:47:45.162682</td>\n",
              "      <td>91.0</td>\n",
              "      <td>90.0</td>\n",
              "      <td>48.0</td>\n",
              "      <td>89.0</td>\n",
              "      <td>77.0</td>\n",
              "      <td>40.6080</td>\n",
              "      <td>78.5869</td>\n",
              "      <td>33.673835</td>\n",
              "    </tr>\n",
              "    <tr>\n",
              "      <th>26221</th>\n",
              "      <td>trip-153861118270144424</td>\n",
              "      <td>IND583201AAA</td>\n",
              "      <td>IND583119AAA</td>\n",
              "      <td>test</td>\n",
              "      <td>2018-10-03 23:59:42.701692</td>\n",
              "      <td>FTL</td>\n",
              "      <td>Hospet (Karnataka)</td>\n",
              "      <td>Sandur_WrdN1DPP_D (Karnataka)</td>\n",
              "      <td>2018-10-04 02:51:44.712656</td>\n",
              "      <td>2018-10-04 03:58:40.726547</td>\n",
              "      <td>66.0</td>\n",
              "      <td>42.0</td>\n",
              "      <td>26.0</td>\n",
              "      <td>41.0</td>\n",
              "      <td>25.0</td>\n",
              "      <td>28.0484</td>\n",
              "      <td>28.0484</td>\n",
              "      <td>25.534793</td>\n",
              "    </tr>\n",
              "    <tr>\n",
              "      <th>26220</th>\n",
              "      <td>trip-153861118270144424</td>\n",
              "      <td>IND583119AAA</td>\n",
              "      <td>IND583101AAA</td>\n",
              "      <td>test</td>\n",
              "      <td>2018-10-03 23:59:42.701692</td>\n",
              "      <td>FTL</td>\n",
              "      <td>Sandur_WrdN1DPP_D (Karnataka)</td>\n",
              "      <td>Bellary_Dc (Karnataka)</td>\n",
              "      <td>2018-10-04 03:58:40.726547</td>\n",
              "      <td>2018-10-04 08:46:09.166940</td>\n",
              "      <td>287.0</td>\n",
              "      <td>233.0</td>\n",
              "      <td>42.0</td>\n",
              "      <td>233.0</td>\n",
              "      <td>42.0</td>\n",
              "      <td>52.5303</td>\n",
              "      <td>52.5303</td>\n",
              "      <td>40.546740</td>\n",
              "    </tr>\n",
              "  </tbody>\n",
              "</table>\n",
              "<p>26222 rows × 18 columns</p>\n",
              "</div>\n",
              "      <button class=\"colab-df-convert\" onclick=\"convertToInteractive('df-7c7f4939-d64c-4fbc-8d41-a3b7974466e5')\"\n",
              "              title=\"Convert this dataframe to an interactive table.\"\n",
              "              style=\"display:none;\">\n",
              "        \n",
              "  <svg xmlns=\"http://www.w3.org/2000/svg\" height=\"24px\"viewBox=\"0 0 24 24\"\n",
              "       width=\"24px\">\n",
              "    <path d=\"M0 0h24v24H0V0z\" fill=\"none\"/>\n",
              "    <path d=\"M18.56 5.44l.94 2.06.94-2.06 2.06-.94-2.06-.94-.94-2.06-.94 2.06-2.06.94zm-11 1L8.5 8.5l.94-2.06 2.06-.94-2.06-.94L8.5 2.5l-.94 2.06-2.06.94zm10 10l.94 2.06.94-2.06 2.06-.94-2.06-.94-.94-2.06-.94 2.06-2.06.94z\"/><path d=\"M17.41 7.96l-1.37-1.37c-.4-.4-.92-.59-1.43-.59-.52 0-1.04.2-1.43.59L10.3 9.45l-7.72 7.72c-.78.78-.78 2.05 0 2.83L4 21.41c.39.39.9.59 1.41.59.51 0 1.02-.2 1.41-.59l7.78-7.78 2.81-2.81c.8-.78.8-2.07 0-2.86zM5.41 20L4 18.59l7.72-7.72 1.47 1.35L5.41 20z\"/>\n",
              "  </svg>\n",
              "      </button>\n",
              "      \n",
              "  <style>\n",
              "    .colab-df-container {\n",
              "      display:flex;\n",
              "      flex-wrap:wrap;\n",
              "      gap: 12px;\n",
              "    }\n",
              "\n",
              "    .colab-df-convert {\n",
              "      background-color: #E8F0FE;\n",
              "      border: none;\n",
              "      border-radius: 50%;\n",
              "      cursor: pointer;\n",
              "      display: none;\n",
              "      fill: #1967D2;\n",
              "      height: 32px;\n",
              "      padding: 0 0 0 0;\n",
              "      width: 32px;\n",
              "    }\n",
              "\n",
              "    .colab-df-convert:hover {\n",
              "      background-color: #E2EBFA;\n",
              "      box-shadow: 0px 1px 2px rgba(60, 64, 67, 0.3), 0px 1px 3px 1px rgba(60, 64, 67, 0.15);\n",
              "      fill: #174EA6;\n",
              "    }\n",
              "\n",
              "    [theme=dark] .colab-df-convert {\n",
              "      background-color: #3B4455;\n",
              "      fill: #D2E3FC;\n",
              "    }\n",
              "\n",
              "    [theme=dark] .colab-df-convert:hover {\n",
              "      background-color: #434B5C;\n",
              "      box-shadow: 0px 1px 3px 1px rgba(0, 0, 0, 0.15);\n",
              "      filter: drop-shadow(0px 1px 2px rgba(0, 0, 0, 0.3));\n",
              "      fill: #FFFFFF;\n",
              "    }\n",
              "  </style>\n",
              "\n",
              "      <script>\n",
              "        const buttonEl =\n",
              "          document.querySelector('#df-7c7f4939-d64c-4fbc-8d41-a3b7974466e5 button.colab-df-convert');\n",
              "        buttonEl.style.display =\n",
              "          google.colab.kernel.accessAllowed ? 'block' : 'none';\n",
              "\n",
              "        async function convertToInteractive(key) {\n",
              "          const element = document.querySelector('#df-7c7f4939-d64c-4fbc-8d41-a3b7974466e5');\n",
              "          const dataTable =\n",
              "            await google.colab.kernel.invokeFunction('convertToInteractive',\n",
              "                                                     [key], {});\n",
              "          if (!dataTable) return;\n",
              "\n",
              "          const docLinkHtml = 'Like what you see? Visit the ' +\n",
              "            '<a target=\"_blank\" href=https://colab.research.google.com/notebooks/data_table.ipynb>data table notebook</a>'\n",
              "            + ' to learn more about interactive tables.';\n",
              "          element.innerHTML = '';\n",
              "          dataTable['output_type'] = 'display_data';\n",
              "          await google.colab.output.renderOutput(dataTable, element);\n",
              "          const docLink = document.createElement('div');\n",
              "          docLink.innerHTML = docLinkHtml;\n",
              "          element.appendChild(docLink);\n",
              "        }\n",
              "      </script>\n",
              "    </div>\n",
              "  </div>\n",
              "  "
            ]
          },
          "metadata": {},
          "execution_count": 28
        }
      ]
    },
    {
      "cell_type": "code",
      "source": [
        "df_t = df_sr_ds.sort_values(['trip_uuid', 'od_start_time']).groupby(\"trip_uuid\", as_index=False).agg({\n",
        "    'trip_creation_time': 'first',\n",
        "    'route_type': 'first',\n",
        "    'source_center': 'first',\n",
        "    'destination_center': 'last',\n",
        "    'source_name': 'first',\n",
        "    'destination_name': 'last',\n",
        "    'od_start_time': 'first',\n",
        "    'od_end_time': 'last',\n",
        "    'start_scan_to_end_scan': np.sum,\n",
        "    'actual_time': np.sum,\n",
        "    'osrm_time': np.sum,\n",
        "    'segment_actual_time': np.sum,\n",
        "    'segment_osrm_time': np.sum,\n",
        "    'osrm_distance': np.sum, \n",
        "    'segment_osrm_distance': np.sum,\n",
        "    'actual_distance_to_destination': np.sum\n",
        "    \n",
        "})"
      ],
      "metadata": {
        "id": "ymeW5k_ztHjd"
      },
      "execution_count": 29,
      "outputs": []
    },
    {
      "cell_type": "code",
      "source": [
        "df_t.head()"
      ],
      "metadata": {
        "colab": {
          "base_uri": "https://localhost:8080/",
          "height": 357
        },
        "id": "hgPgWy4otTn6",
        "outputId": "ae548e1c-11dc-4866-af7e-385f915ed317"
      },
      "execution_count": 35,
      "outputs": [
        {
          "output_type": "execute_result",
          "data": {
            "text/plain": [
              "                 trip_uuid         trip_creation_time route_type  \\\n",
              "0  trip-153671041653548748 2018-09-12 00:00:16.535741        FTL   \n",
              "1  trip-153671042288605164 2018-09-12 00:00:22.886430    Carting   \n",
              "2  trip-153671043369099517 2018-09-12 00:00:33.691250        FTL   \n",
              "3  trip-153671046011330457 2018-09-12 00:01:00.113710    Carting   \n",
              "4  trip-153671052974046625 2018-09-12 00:02:09.740725        FTL   \n",
              "\n",
              "  source_center destination_center                         source_name  \\\n",
              "0  IND462022AAA       IND000000ACB  Bhopal_Trnsport_H (Madhya Pradesh)   \n",
              "1  IND572101AAA       IND562101AAA       Tumkur_Veersagr_I (Karnataka)   \n",
              "2  IND562132AAA       IND160002AAC    Bangalore_Nelmngla_H (Karnataka)   \n",
              "3  IND400072AAB       IND401104AAA            Mumbai Hub (Maharashtra)   \n",
              "4  IND583101AAA       IND583101AAA              Bellary_Dc (Karnataka)   \n",
              "\n",
              "                    destination_name              od_start_time  \\\n",
              "0      Gurgaon_Bilaspur_HB (Haryana) 2018-09-12 00:00:16.535741   \n",
              "1  Chikblapur_ShntiSgr_D (Karnataka) 2018-09-12 00:00:22.886430   \n",
              "2     Chandigarh_Mehmdpur_H (Punjab) 2018-09-12 00:00:33.691250   \n",
              "3     Mumbai_MiraRd_IP (Maharashtra) 2018-09-12 00:01:00.113710   \n",
              "4             Bellary_Dc (Karnataka) 2018-09-12 00:02:09.740725   \n",
              "\n",
              "                 od_end_time  start_scan_to_end_scan  actual_time  osrm_time  \\\n",
              "0 2018-09-13 13:40:23.123744                  2259.0       1562.0      743.0   \n",
              "1 2018-09-12 03:01:59.598855                   180.0        143.0       68.0   \n",
              "2 2018-09-14 17:34:55.442454                  3933.0       3347.0     1741.0   \n",
              "3 2018-09-12 01:41:29.809822                   100.0         59.0       15.0   \n",
              "4 2018-09-12 12:00:30.683231                   717.0        341.0      117.0   \n",
              "\n",
              "   segment_actual_time  segment_osrm_time  osrm_distance  \\\n",
              "0               1548.0             1008.0       991.3523   \n",
              "1                141.0               65.0        85.1110   \n",
              "2               3308.0             1941.0      2372.0852   \n",
              "3                 59.0               16.0        19.6800   \n",
              "4                340.0              115.0       146.7918   \n",
              "\n",
              "   segment_osrm_distance  actual_distance_to_destination  \n",
              "0              1320.4733                      824.732854  \n",
              "1                84.1894                       73.186911  \n",
              "2              2545.2678                     1932.273969  \n",
              "3                19.8766                       17.175274  \n",
              "4               146.7919                      127.448500  "
            ],
            "text/html": [
              "\n",
              "  <div id=\"df-37195ef0-8bc4-4251-bf52-72fda90876c1\">\n",
              "    <div class=\"colab-df-container\">\n",
              "      <div>\n",
              "<style scoped>\n",
              "    .dataframe tbody tr th:only-of-type {\n",
              "        vertical-align: middle;\n",
              "    }\n",
              "\n",
              "    .dataframe tbody tr th {\n",
              "        vertical-align: top;\n",
              "    }\n",
              "\n",
              "    .dataframe thead th {\n",
              "        text-align: right;\n",
              "    }\n",
              "</style>\n",
              "<table border=\"1\" class=\"dataframe\">\n",
              "  <thead>\n",
              "    <tr style=\"text-align: right;\">\n",
              "      <th></th>\n",
              "      <th>trip_uuid</th>\n",
              "      <th>trip_creation_time</th>\n",
              "      <th>route_type</th>\n",
              "      <th>source_center</th>\n",
              "      <th>destination_center</th>\n",
              "      <th>source_name</th>\n",
              "      <th>destination_name</th>\n",
              "      <th>od_start_time</th>\n",
              "      <th>od_end_time</th>\n",
              "      <th>start_scan_to_end_scan</th>\n",
              "      <th>actual_time</th>\n",
              "      <th>osrm_time</th>\n",
              "      <th>segment_actual_time</th>\n",
              "      <th>segment_osrm_time</th>\n",
              "      <th>osrm_distance</th>\n",
              "      <th>segment_osrm_distance</th>\n",
              "      <th>actual_distance_to_destination</th>\n",
              "    </tr>\n",
              "  </thead>\n",
              "  <tbody>\n",
              "    <tr>\n",
              "      <th>0</th>\n",
              "      <td>trip-153671041653548748</td>\n",
              "      <td>2018-09-12 00:00:16.535741</td>\n",
              "      <td>FTL</td>\n",
              "      <td>IND462022AAA</td>\n",
              "      <td>IND000000ACB</td>\n",
              "      <td>Bhopal_Trnsport_H (Madhya Pradesh)</td>\n",
              "      <td>Gurgaon_Bilaspur_HB (Haryana)</td>\n",
              "      <td>2018-09-12 00:00:16.535741</td>\n",
              "      <td>2018-09-13 13:40:23.123744</td>\n",
              "      <td>2259.0</td>\n",
              "      <td>1562.0</td>\n",
              "      <td>743.0</td>\n",
              "      <td>1548.0</td>\n",
              "      <td>1008.0</td>\n",
              "      <td>991.3523</td>\n",
              "      <td>1320.4733</td>\n",
              "      <td>824.732854</td>\n",
              "    </tr>\n",
              "    <tr>\n",
              "      <th>1</th>\n",
              "      <td>trip-153671042288605164</td>\n",
              "      <td>2018-09-12 00:00:22.886430</td>\n",
              "      <td>Carting</td>\n",
              "      <td>IND572101AAA</td>\n",
              "      <td>IND562101AAA</td>\n",
              "      <td>Tumkur_Veersagr_I (Karnataka)</td>\n",
              "      <td>Chikblapur_ShntiSgr_D (Karnataka)</td>\n",
              "      <td>2018-09-12 00:00:22.886430</td>\n",
              "      <td>2018-09-12 03:01:59.598855</td>\n",
              "      <td>180.0</td>\n",
              "      <td>143.0</td>\n",
              "      <td>68.0</td>\n",
              "      <td>141.0</td>\n",
              "      <td>65.0</td>\n",
              "      <td>85.1110</td>\n",
              "      <td>84.1894</td>\n",
              "      <td>73.186911</td>\n",
              "    </tr>\n",
              "    <tr>\n",
              "      <th>2</th>\n",
              "      <td>trip-153671043369099517</td>\n",
              "      <td>2018-09-12 00:00:33.691250</td>\n",
              "      <td>FTL</td>\n",
              "      <td>IND562132AAA</td>\n",
              "      <td>IND160002AAC</td>\n",
              "      <td>Bangalore_Nelmngla_H (Karnataka)</td>\n",
              "      <td>Chandigarh_Mehmdpur_H (Punjab)</td>\n",
              "      <td>2018-09-12 00:00:33.691250</td>\n",
              "      <td>2018-09-14 17:34:55.442454</td>\n",
              "      <td>3933.0</td>\n",
              "      <td>3347.0</td>\n",
              "      <td>1741.0</td>\n",
              "      <td>3308.0</td>\n",
              "      <td>1941.0</td>\n",
              "      <td>2372.0852</td>\n",
              "      <td>2545.2678</td>\n",
              "      <td>1932.273969</td>\n",
              "    </tr>\n",
              "    <tr>\n",
              "      <th>3</th>\n",
              "      <td>trip-153671046011330457</td>\n",
              "      <td>2018-09-12 00:01:00.113710</td>\n",
              "      <td>Carting</td>\n",
              "      <td>IND400072AAB</td>\n",
              "      <td>IND401104AAA</td>\n",
              "      <td>Mumbai Hub (Maharashtra)</td>\n",
              "      <td>Mumbai_MiraRd_IP (Maharashtra)</td>\n",
              "      <td>2018-09-12 00:01:00.113710</td>\n",
              "      <td>2018-09-12 01:41:29.809822</td>\n",
              "      <td>100.0</td>\n",
              "      <td>59.0</td>\n",
              "      <td>15.0</td>\n",
              "      <td>59.0</td>\n",
              "      <td>16.0</td>\n",
              "      <td>19.6800</td>\n",
              "      <td>19.8766</td>\n",
              "      <td>17.175274</td>\n",
              "    </tr>\n",
              "    <tr>\n",
              "      <th>4</th>\n",
              "      <td>trip-153671052974046625</td>\n",
              "      <td>2018-09-12 00:02:09.740725</td>\n",
              "      <td>FTL</td>\n",
              "      <td>IND583101AAA</td>\n",
              "      <td>IND583101AAA</td>\n",
              "      <td>Bellary_Dc (Karnataka)</td>\n",
              "      <td>Bellary_Dc (Karnataka)</td>\n",
              "      <td>2018-09-12 00:02:09.740725</td>\n",
              "      <td>2018-09-12 12:00:30.683231</td>\n",
              "      <td>717.0</td>\n",
              "      <td>341.0</td>\n",
              "      <td>117.0</td>\n",
              "      <td>340.0</td>\n",
              "      <td>115.0</td>\n",
              "      <td>146.7918</td>\n",
              "      <td>146.7919</td>\n",
              "      <td>127.448500</td>\n",
              "    </tr>\n",
              "  </tbody>\n",
              "</table>\n",
              "</div>\n",
              "      <button class=\"colab-df-convert\" onclick=\"convertToInteractive('df-37195ef0-8bc4-4251-bf52-72fda90876c1')\"\n",
              "              title=\"Convert this dataframe to an interactive table.\"\n",
              "              style=\"display:none;\">\n",
              "        \n",
              "  <svg xmlns=\"http://www.w3.org/2000/svg\" height=\"24px\"viewBox=\"0 0 24 24\"\n",
              "       width=\"24px\">\n",
              "    <path d=\"M0 0h24v24H0V0z\" fill=\"none\"/>\n",
              "    <path d=\"M18.56 5.44l.94 2.06.94-2.06 2.06-.94-2.06-.94-.94-2.06-.94 2.06-2.06.94zm-11 1L8.5 8.5l.94-2.06 2.06-.94-2.06-.94L8.5 2.5l-.94 2.06-2.06.94zm10 10l.94 2.06.94-2.06 2.06-.94-2.06-.94-.94-2.06-.94 2.06-2.06.94z\"/><path d=\"M17.41 7.96l-1.37-1.37c-.4-.4-.92-.59-1.43-.59-.52 0-1.04.2-1.43.59L10.3 9.45l-7.72 7.72c-.78.78-.78 2.05 0 2.83L4 21.41c.39.39.9.59 1.41.59.51 0 1.02-.2 1.41-.59l7.78-7.78 2.81-2.81c.8-.78.8-2.07 0-2.86zM5.41 20L4 18.59l7.72-7.72 1.47 1.35L5.41 20z\"/>\n",
              "  </svg>\n",
              "      </button>\n",
              "      \n",
              "  <style>\n",
              "    .colab-df-container {\n",
              "      display:flex;\n",
              "      flex-wrap:wrap;\n",
              "      gap: 12px;\n",
              "    }\n",
              "\n",
              "    .colab-df-convert {\n",
              "      background-color: #E8F0FE;\n",
              "      border: none;\n",
              "      border-radius: 50%;\n",
              "      cursor: pointer;\n",
              "      display: none;\n",
              "      fill: #1967D2;\n",
              "      height: 32px;\n",
              "      padding: 0 0 0 0;\n",
              "      width: 32px;\n",
              "    }\n",
              "\n",
              "    .colab-df-convert:hover {\n",
              "      background-color: #E2EBFA;\n",
              "      box-shadow: 0px 1px 2px rgba(60, 64, 67, 0.3), 0px 1px 3px 1px rgba(60, 64, 67, 0.15);\n",
              "      fill: #174EA6;\n",
              "    }\n",
              "\n",
              "    [theme=dark] .colab-df-convert {\n",
              "      background-color: #3B4455;\n",
              "      fill: #D2E3FC;\n",
              "    }\n",
              "\n",
              "    [theme=dark] .colab-df-convert:hover {\n",
              "      background-color: #434B5C;\n",
              "      box-shadow: 0px 1px 3px 1px rgba(0, 0, 0, 0.15);\n",
              "      filter: drop-shadow(0px 1px 2px rgba(0, 0, 0, 0.3));\n",
              "      fill: #FFFFFF;\n",
              "    }\n",
              "  </style>\n",
              "\n",
              "      <script>\n",
              "        const buttonEl =\n",
              "          document.querySelector('#df-37195ef0-8bc4-4251-bf52-72fda90876c1 button.colab-df-convert');\n",
              "        buttonEl.style.display =\n",
              "          google.colab.kernel.accessAllowed ? 'block' : 'none';\n",
              "\n",
              "        async function convertToInteractive(key) {\n",
              "          const element = document.querySelector('#df-37195ef0-8bc4-4251-bf52-72fda90876c1');\n",
              "          const dataTable =\n",
              "            await google.colab.kernel.invokeFunction('convertToInteractive',\n",
              "                                                     [key], {});\n",
              "          if (!dataTable) return;\n",
              "\n",
              "          const docLinkHtml = 'Like what you see? Visit the ' +\n",
              "            '<a target=\"_blank\" href=https://colab.research.google.com/notebooks/data_table.ipynb>data table notebook</a>'\n",
              "            + ' to learn more about interactive tables.';\n",
              "          element.innerHTML = '';\n",
              "          dataTable['output_type'] = 'display_data';\n",
              "          await google.colab.output.renderOutput(dataTable, element);\n",
              "          const docLink = document.createElement('div');\n",
              "          docLink.innerHTML = docLinkHtml;\n",
              "          element.appendChild(docLink);\n",
              "        }\n",
              "      </script>\n",
              "    </div>\n",
              "  </div>\n",
              "  "
            ]
          },
          "metadata": {},
          "execution_count": 35
        }
      ]
    },
    {
      "cell_type": "code",
      "source": [
        "df_t.shape"
      ],
      "metadata": {
        "colab": {
          "base_uri": "https://localhost:8080/"
        },
        "id": "4DRH-AzYtdJm",
        "outputId": "73d3887e-97ba-4187-bdcb-0275c53d4d54"
      },
      "execution_count": 31,
      "outputs": [
        {
          "output_type": "execute_result",
          "data": {
            "text/plain": [
              "(14787, 17)"
            ]
          },
          "metadata": {},
          "execution_count": 31
        }
      ]
    },
    {
      "cell_type": "code",
      "source": [
        "df_t['trip_uuid'].nunique()"
      ],
      "metadata": {
        "colab": {
          "base_uri": "https://localhost:8080/"
        },
        "id": "sMeqRwzYtWdH",
        "outputId": "e3e579e9-8d86-4bc0-860b-9c79a7bb96e4"
      },
      "execution_count": 32,
      "outputs": [
        {
          "output_type": "execute_result",
          "data": {
            "text/plain": [
              "14787"
            ]
          },
          "metadata": {},
          "execution_count": 32
        }
      ]
    },
    {
      "cell_type": "markdown",
      "source": [
        "**Build some features to prepare the data for actual analysis. Extract features from the below fields:**\n",
        "\n",
        "\n",
        "\n",
        "*   Destination Name: Split and extract features out of destination.\n",
        "City-place-code (State)\n",
        "\n",
        "*   Source Name: Split and extract features out of destination. City-place-code (State)\n",
        "\n",
        "\n",
        "*   Trip_creation_time: Extract features like month, year and day etc\n",
        "\n",
        "\n",
        " \n",
        "\n",
        "\n",
        "\n",
        "\n",
        "\n"
      ],
      "metadata": {
        "id": "LHYkyTWtZ5s9"
      }
    },
    {
      "cell_type": "code",
      "source": [
        "#Destination Name: Split and extract features out of destination.\n",
        "\n",
        "import re\n",
        "\n",
        "def split_dest(des_name):\n",
        "    match = re.match(r\"(.*) \\((.*)\\)\", des_name)\n",
        "    c_p_c = match.group(1)\n",
        "    state = match.group(2)\n",
        "    split_codes = c_p_c.rsplit('_', 2)\n",
        "    if len(split_codes) == 3:\n",
        "        city, place, code = split_codes\n",
        "    if len(split_codes) == 2:\n",
        "        city, place =  split_codes\n",
        "        code = \"\"\n",
        "    if len(split_codes) == 1:\n",
        "        city = split_codes[0]\n",
        "        place = \"\"\n",
        "        code = \"\"\n",
        "    return \",\".join([city, place, code, state])\n",
        "\n",
        "print(split_dest(\"Gurgaon_Bilaspur_HB (Haryana)\"))"
      ],
      "metadata": {
        "colab": {
          "base_uri": "https://localhost:8080/"
        },
        "id": "Whw7VYm-ZcB-",
        "outputId": "6059e0fd-5de3-489d-fc1d-e0f2b1a2ae63"
      },
      "execution_count": 42,
      "outputs": [
        {
          "output_type": "stream",
          "name": "stdout",
          "text": [
            "Gurgaon,Bilaspur,HB,Haryana\n"
          ]
        }
      ]
    },
    {
      "cell_type": "code",
      "source": [
        "df_t[[\"des_city\", \"des_place\", \"des_code\", \"des_state\"]] = df_t['destination_name'].apply(lambda x: split_dest(x)).str.split(\",\", expand=True)\n",
        "df_t.head()"
      ],
      "metadata": {
        "colab": {
          "base_uri": "https://localhost:8080/",
          "height": 386
        },
        "id": "nq8LZBGubtUT",
        "outputId": "d156538d-93a9-4598-f357-0a3cd966fe37"
      },
      "execution_count": 44,
      "outputs": [
        {
          "output_type": "execute_result",
          "data": {
            "text/plain": [
              "                 trip_uuid         trip_creation_time route_type  \\\n",
              "0  trip-153671041653548748 2018-09-12 00:00:16.535741        FTL   \n",
              "1  trip-153671042288605164 2018-09-12 00:00:22.886430    Carting   \n",
              "2  trip-153671043369099517 2018-09-12 00:00:33.691250        FTL   \n",
              "3  trip-153671046011330457 2018-09-12 00:01:00.113710    Carting   \n",
              "4  trip-153671052974046625 2018-09-12 00:02:09.740725        FTL   \n",
              "\n",
              "  source_center destination_center                         source_name  \\\n",
              "0  IND462022AAA       IND000000ACB  Bhopal_Trnsport_H (Madhya Pradesh)   \n",
              "1  IND572101AAA       IND562101AAA       Tumkur_Veersagr_I (Karnataka)   \n",
              "2  IND562132AAA       IND160002AAC    Bangalore_Nelmngla_H (Karnataka)   \n",
              "3  IND400072AAB       IND401104AAA            Mumbai Hub (Maharashtra)   \n",
              "4  IND583101AAA       IND583101AAA              Bellary_Dc (Karnataka)   \n",
              "\n",
              "                    destination_name              od_start_time  \\\n",
              "0      Gurgaon_Bilaspur_HB (Haryana) 2018-09-12 00:00:16.535741   \n",
              "1  Chikblapur_ShntiSgr_D (Karnataka) 2018-09-12 00:00:22.886430   \n",
              "2     Chandigarh_Mehmdpur_H (Punjab) 2018-09-12 00:00:33.691250   \n",
              "3     Mumbai_MiraRd_IP (Maharashtra) 2018-09-12 00:01:00.113710   \n",
              "4             Bellary_Dc (Karnataka) 2018-09-12 00:02:09.740725   \n",
              "\n",
              "                 od_end_time  start_scan_to_end_scan  ...  \\\n",
              "0 2018-09-13 13:40:23.123744                  2259.0  ...   \n",
              "1 2018-09-12 03:01:59.598855                   180.0  ...   \n",
              "2 2018-09-14 17:34:55.442454                  3933.0  ...   \n",
              "3 2018-09-12 01:41:29.809822                   100.0  ...   \n",
              "4 2018-09-12 12:00:30.683231                   717.0  ...   \n",
              "\n",
              "   segment_osrm_distance  actual_distance_to_destination        city  \\\n",
              "0              1320.4733                      824.732854     Gurgaon   \n",
              "1                84.1894                       73.186911  Chikblapur   \n",
              "2              2545.2678                     1932.273969  Chandigarh   \n",
              "3                19.8766                       17.175274      Mumbai   \n",
              "4               146.7919                      127.448500     Bellary   \n",
              "\n",
              "      place  code        state    des_city des_place des_code    des_state  \n",
              "0  Bilaspur    HB      Haryana     Gurgaon  Bilaspur       HB      Haryana  \n",
              "1  ShntiSgr     D    Karnataka  Chikblapur  ShntiSgr        D    Karnataka  \n",
              "2  Mehmdpur     H       Punjab  Chandigarh  Mehmdpur        H       Punjab  \n",
              "3    MiraRd    IP  Maharashtra      Mumbai    MiraRd       IP  Maharashtra  \n",
              "4        Dc          Karnataka     Bellary        Dc             Karnataka  \n",
              "\n",
              "[5 rows x 25 columns]"
            ],
            "text/html": [
              "\n",
              "  <div id=\"df-102de584-d1e8-42e2-b82a-fed4fbe90588\">\n",
              "    <div class=\"colab-df-container\">\n",
              "      <div>\n",
              "<style scoped>\n",
              "    .dataframe tbody tr th:only-of-type {\n",
              "        vertical-align: middle;\n",
              "    }\n",
              "\n",
              "    .dataframe tbody tr th {\n",
              "        vertical-align: top;\n",
              "    }\n",
              "\n",
              "    .dataframe thead th {\n",
              "        text-align: right;\n",
              "    }\n",
              "</style>\n",
              "<table border=\"1\" class=\"dataframe\">\n",
              "  <thead>\n",
              "    <tr style=\"text-align: right;\">\n",
              "      <th></th>\n",
              "      <th>trip_uuid</th>\n",
              "      <th>trip_creation_time</th>\n",
              "      <th>route_type</th>\n",
              "      <th>source_center</th>\n",
              "      <th>destination_center</th>\n",
              "      <th>source_name</th>\n",
              "      <th>destination_name</th>\n",
              "      <th>od_start_time</th>\n",
              "      <th>od_end_time</th>\n",
              "      <th>start_scan_to_end_scan</th>\n",
              "      <th>...</th>\n",
              "      <th>segment_osrm_distance</th>\n",
              "      <th>actual_distance_to_destination</th>\n",
              "      <th>city</th>\n",
              "      <th>place</th>\n",
              "      <th>code</th>\n",
              "      <th>state</th>\n",
              "      <th>des_city</th>\n",
              "      <th>des_place</th>\n",
              "      <th>des_code</th>\n",
              "      <th>des_state</th>\n",
              "    </tr>\n",
              "  </thead>\n",
              "  <tbody>\n",
              "    <tr>\n",
              "      <th>0</th>\n",
              "      <td>trip-153671041653548748</td>\n",
              "      <td>2018-09-12 00:00:16.535741</td>\n",
              "      <td>FTL</td>\n",
              "      <td>IND462022AAA</td>\n",
              "      <td>IND000000ACB</td>\n",
              "      <td>Bhopal_Trnsport_H (Madhya Pradesh)</td>\n",
              "      <td>Gurgaon_Bilaspur_HB (Haryana)</td>\n",
              "      <td>2018-09-12 00:00:16.535741</td>\n",
              "      <td>2018-09-13 13:40:23.123744</td>\n",
              "      <td>2259.0</td>\n",
              "      <td>...</td>\n",
              "      <td>1320.4733</td>\n",
              "      <td>824.732854</td>\n",
              "      <td>Gurgaon</td>\n",
              "      <td>Bilaspur</td>\n",
              "      <td>HB</td>\n",
              "      <td>Haryana</td>\n",
              "      <td>Gurgaon</td>\n",
              "      <td>Bilaspur</td>\n",
              "      <td>HB</td>\n",
              "      <td>Haryana</td>\n",
              "    </tr>\n",
              "    <tr>\n",
              "      <th>1</th>\n",
              "      <td>trip-153671042288605164</td>\n",
              "      <td>2018-09-12 00:00:22.886430</td>\n",
              "      <td>Carting</td>\n",
              "      <td>IND572101AAA</td>\n",
              "      <td>IND562101AAA</td>\n",
              "      <td>Tumkur_Veersagr_I (Karnataka)</td>\n",
              "      <td>Chikblapur_ShntiSgr_D (Karnataka)</td>\n",
              "      <td>2018-09-12 00:00:22.886430</td>\n",
              "      <td>2018-09-12 03:01:59.598855</td>\n",
              "      <td>180.0</td>\n",
              "      <td>...</td>\n",
              "      <td>84.1894</td>\n",
              "      <td>73.186911</td>\n",
              "      <td>Chikblapur</td>\n",
              "      <td>ShntiSgr</td>\n",
              "      <td>D</td>\n",
              "      <td>Karnataka</td>\n",
              "      <td>Chikblapur</td>\n",
              "      <td>ShntiSgr</td>\n",
              "      <td>D</td>\n",
              "      <td>Karnataka</td>\n",
              "    </tr>\n",
              "    <tr>\n",
              "      <th>2</th>\n",
              "      <td>trip-153671043369099517</td>\n",
              "      <td>2018-09-12 00:00:33.691250</td>\n",
              "      <td>FTL</td>\n",
              "      <td>IND562132AAA</td>\n",
              "      <td>IND160002AAC</td>\n",
              "      <td>Bangalore_Nelmngla_H (Karnataka)</td>\n",
              "      <td>Chandigarh_Mehmdpur_H (Punjab)</td>\n",
              "      <td>2018-09-12 00:00:33.691250</td>\n",
              "      <td>2018-09-14 17:34:55.442454</td>\n",
              "      <td>3933.0</td>\n",
              "      <td>...</td>\n",
              "      <td>2545.2678</td>\n",
              "      <td>1932.273969</td>\n",
              "      <td>Chandigarh</td>\n",
              "      <td>Mehmdpur</td>\n",
              "      <td>H</td>\n",
              "      <td>Punjab</td>\n",
              "      <td>Chandigarh</td>\n",
              "      <td>Mehmdpur</td>\n",
              "      <td>H</td>\n",
              "      <td>Punjab</td>\n",
              "    </tr>\n",
              "    <tr>\n",
              "      <th>3</th>\n",
              "      <td>trip-153671046011330457</td>\n",
              "      <td>2018-09-12 00:01:00.113710</td>\n",
              "      <td>Carting</td>\n",
              "      <td>IND400072AAB</td>\n",
              "      <td>IND401104AAA</td>\n",
              "      <td>Mumbai Hub (Maharashtra)</td>\n",
              "      <td>Mumbai_MiraRd_IP (Maharashtra)</td>\n",
              "      <td>2018-09-12 00:01:00.113710</td>\n",
              "      <td>2018-09-12 01:41:29.809822</td>\n",
              "      <td>100.0</td>\n",
              "      <td>...</td>\n",
              "      <td>19.8766</td>\n",
              "      <td>17.175274</td>\n",
              "      <td>Mumbai</td>\n",
              "      <td>MiraRd</td>\n",
              "      <td>IP</td>\n",
              "      <td>Maharashtra</td>\n",
              "      <td>Mumbai</td>\n",
              "      <td>MiraRd</td>\n",
              "      <td>IP</td>\n",
              "      <td>Maharashtra</td>\n",
              "    </tr>\n",
              "    <tr>\n",
              "      <th>4</th>\n",
              "      <td>trip-153671052974046625</td>\n",
              "      <td>2018-09-12 00:02:09.740725</td>\n",
              "      <td>FTL</td>\n",
              "      <td>IND583101AAA</td>\n",
              "      <td>IND583101AAA</td>\n",
              "      <td>Bellary_Dc (Karnataka)</td>\n",
              "      <td>Bellary_Dc (Karnataka)</td>\n",
              "      <td>2018-09-12 00:02:09.740725</td>\n",
              "      <td>2018-09-12 12:00:30.683231</td>\n",
              "      <td>717.0</td>\n",
              "      <td>...</td>\n",
              "      <td>146.7919</td>\n",
              "      <td>127.448500</td>\n",
              "      <td>Bellary</td>\n",
              "      <td>Dc</td>\n",
              "      <td></td>\n",
              "      <td>Karnataka</td>\n",
              "      <td>Bellary</td>\n",
              "      <td>Dc</td>\n",
              "      <td></td>\n",
              "      <td>Karnataka</td>\n",
              "    </tr>\n",
              "  </tbody>\n",
              "</table>\n",
              "<p>5 rows × 25 columns</p>\n",
              "</div>\n",
              "      <button class=\"colab-df-convert\" onclick=\"convertToInteractive('df-102de584-d1e8-42e2-b82a-fed4fbe90588')\"\n",
              "              title=\"Convert this dataframe to an interactive table.\"\n",
              "              style=\"display:none;\">\n",
              "        \n",
              "  <svg xmlns=\"http://www.w3.org/2000/svg\" height=\"24px\"viewBox=\"0 0 24 24\"\n",
              "       width=\"24px\">\n",
              "    <path d=\"M0 0h24v24H0V0z\" fill=\"none\"/>\n",
              "    <path d=\"M18.56 5.44l.94 2.06.94-2.06 2.06-.94-2.06-.94-.94-2.06-.94 2.06-2.06.94zm-11 1L8.5 8.5l.94-2.06 2.06-.94-2.06-.94L8.5 2.5l-.94 2.06-2.06.94zm10 10l.94 2.06.94-2.06 2.06-.94-2.06-.94-.94-2.06-.94 2.06-2.06.94z\"/><path d=\"M17.41 7.96l-1.37-1.37c-.4-.4-.92-.59-1.43-.59-.52 0-1.04.2-1.43.59L10.3 9.45l-7.72 7.72c-.78.78-.78 2.05 0 2.83L4 21.41c.39.39.9.59 1.41.59.51 0 1.02-.2 1.41-.59l7.78-7.78 2.81-2.81c.8-.78.8-2.07 0-2.86zM5.41 20L4 18.59l7.72-7.72 1.47 1.35L5.41 20z\"/>\n",
              "  </svg>\n",
              "      </button>\n",
              "      \n",
              "  <style>\n",
              "    .colab-df-container {\n",
              "      display:flex;\n",
              "      flex-wrap:wrap;\n",
              "      gap: 12px;\n",
              "    }\n",
              "\n",
              "    .colab-df-convert {\n",
              "      background-color: #E8F0FE;\n",
              "      border: none;\n",
              "      border-radius: 50%;\n",
              "      cursor: pointer;\n",
              "      display: none;\n",
              "      fill: #1967D2;\n",
              "      height: 32px;\n",
              "      padding: 0 0 0 0;\n",
              "      width: 32px;\n",
              "    }\n",
              "\n",
              "    .colab-df-convert:hover {\n",
              "      background-color: #E2EBFA;\n",
              "      box-shadow: 0px 1px 2px rgba(60, 64, 67, 0.3), 0px 1px 3px 1px rgba(60, 64, 67, 0.15);\n",
              "      fill: #174EA6;\n",
              "    }\n",
              "\n",
              "    [theme=dark] .colab-df-convert {\n",
              "      background-color: #3B4455;\n",
              "      fill: #D2E3FC;\n",
              "    }\n",
              "\n",
              "    [theme=dark] .colab-df-convert:hover {\n",
              "      background-color: #434B5C;\n",
              "      box-shadow: 0px 1px 3px 1px rgba(0, 0, 0, 0.15);\n",
              "      filter: drop-shadow(0px 1px 2px rgba(0, 0, 0, 0.3));\n",
              "      fill: #FFFFFF;\n",
              "    }\n",
              "  </style>\n",
              "\n",
              "      <script>\n",
              "        const buttonEl =\n",
              "          document.querySelector('#df-102de584-d1e8-42e2-b82a-fed4fbe90588 button.colab-df-convert');\n",
              "        buttonEl.style.display =\n",
              "          google.colab.kernel.accessAllowed ? 'block' : 'none';\n",
              "\n",
              "        async function convertToInteractive(key) {\n",
              "          const element = document.querySelector('#df-102de584-d1e8-42e2-b82a-fed4fbe90588');\n",
              "          const dataTable =\n",
              "            await google.colab.kernel.invokeFunction('convertToInteractive',\n",
              "                                                     [key], {});\n",
              "          if (!dataTable) return;\n",
              "\n",
              "          const docLinkHtml = 'Like what you see? Visit the ' +\n",
              "            '<a target=\"_blank\" href=https://colab.research.google.com/notebooks/data_table.ipynb>data table notebook</a>'\n",
              "            + ' to learn more about interactive tables.';\n",
              "          element.innerHTML = '';\n",
              "          dataTable['output_type'] = 'display_data';\n",
              "          await google.colab.output.renderOutput(dataTable, element);\n",
              "          const docLink = document.createElement('div');\n",
              "          docLink.innerHTML = docLinkHtml;\n",
              "          element.appendChild(docLink);\n",
              "        }\n",
              "      </script>\n",
              "    </div>\n",
              "  </div>\n",
              "  "
            ]
          },
          "metadata": {},
          "execution_count": 44
        }
      ]
    },
    {
      "cell_type": "code",
      "source": [
        "#Source Name: Split and extract features out of destination. City-place-code (State)\n",
        "\n",
        "df_t[[\"sr_city\", \"sr_place\", \"sr_code\", \"sr_state\"]] = df_t['source_name'].apply(lambda x: split_dest(x)).str.split(\",\", expand=True)\n",
        "df_t.head()"
      ],
      "metadata": {
        "colab": {
          "base_uri": "https://localhost:8080/",
          "height": 386
        },
        "id": "wEi9iPekcTWI",
        "outputId": "11bdf2b5-225d-40c8-8865-27a7ffd0569d"
      },
      "execution_count": 45,
      "outputs": [
        {
          "output_type": "execute_result",
          "data": {
            "text/plain": [
              "                 trip_uuid         trip_creation_time route_type  \\\n",
              "0  trip-153671041653548748 2018-09-12 00:00:16.535741        FTL   \n",
              "1  trip-153671042288605164 2018-09-12 00:00:22.886430    Carting   \n",
              "2  trip-153671043369099517 2018-09-12 00:00:33.691250        FTL   \n",
              "3  trip-153671046011330457 2018-09-12 00:01:00.113710    Carting   \n",
              "4  trip-153671052974046625 2018-09-12 00:02:09.740725        FTL   \n",
              "\n",
              "  source_center destination_center                         source_name  \\\n",
              "0  IND462022AAA       IND000000ACB  Bhopal_Trnsport_H (Madhya Pradesh)   \n",
              "1  IND572101AAA       IND562101AAA       Tumkur_Veersagr_I (Karnataka)   \n",
              "2  IND562132AAA       IND160002AAC    Bangalore_Nelmngla_H (Karnataka)   \n",
              "3  IND400072AAB       IND401104AAA            Mumbai Hub (Maharashtra)   \n",
              "4  IND583101AAA       IND583101AAA              Bellary_Dc (Karnataka)   \n",
              "\n",
              "                    destination_name              od_start_time  \\\n",
              "0      Gurgaon_Bilaspur_HB (Haryana) 2018-09-12 00:00:16.535741   \n",
              "1  Chikblapur_ShntiSgr_D (Karnataka) 2018-09-12 00:00:22.886430   \n",
              "2     Chandigarh_Mehmdpur_H (Punjab) 2018-09-12 00:00:33.691250   \n",
              "3     Mumbai_MiraRd_IP (Maharashtra) 2018-09-12 00:01:00.113710   \n",
              "4             Bellary_Dc (Karnataka) 2018-09-12 00:02:09.740725   \n",
              "\n",
              "                 od_end_time  start_scan_to_end_scan  ...  code        state  \\\n",
              "0 2018-09-13 13:40:23.123744                  2259.0  ...    HB      Haryana   \n",
              "1 2018-09-12 03:01:59.598855                   180.0  ...     D    Karnataka   \n",
              "2 2018-09-14 17:34:55.442454                  3933.0  ...     H       Punjab   \n",
              "3 2018-09-12 01:41:29.809822                   100.0  ...    IP  Maharashtra   \n",
              "4 2018-09-12 12:00:30.683231                   717.0  ...          Karnataka   \n",
              "\n",
              "     des_city  des_place  des_code    des_state     sr_city  sr_place sr_code  \\\n",
              "0     Gurgaon   Bilaspur        HB      Haryana      Bhopal  Trnsport       H   \n",
              "1  Chikblapur   ShntiSgr         D    Karnataka      Tumkur  Veersagr       I   \n",
              "2  Chandigarh   Mehmdpur         H       Punjab   Bangalore  Nelmngla       H   \n",
              "3      Mumbai     MiraRd        IP  Maharashtra  Mumbai Hub                     \n",
              "4     Bellary         Dc              Karnataka     Bellary        Dc           \n",
              "\n",
              "         sr_state  \n",
              "0  Madhya Pradesh  \n",
              "1       Karnataka  \n",
              "2       Karnataka  \n",
              "3     Maharashtra  \n",
              "4       Karnataka  \n",
              "\n",
              "[5 rows x 29 columns]"
            ],
            "text/html": [
              "\n",
              "  <div id=\"df-d7d76523-f5fa-40cf-ba54-f7fd53633d76\">\n",
              "    <div class=\"colab-df-container\">\n",
              "      <div>\n",
              "<style scoped>\n",
              "    .dataframe tbody tr th:only-of-type {\n",
              "        vertical-align: middle;\n",
              "    }\n",
              "\n",
              "    .dataframe tbody tr th {\n",
              "        vertical-align: top;\n",
              "    }\n",
              "\n",
              "    .dataframe thead th {\n",
              "        text-align: right;\n",
              "    }\n",
              "</style>\n",
              "<table border=\"1\" class=\"dataframe\">\n",
              "  <thead>\n",
              "    <tr style=\"text-align: right;\">\n",
              "      <th></th>\n",
              "      <th>trip_uuid</th>\n",
              "      <th>trip_creation_time</th>\n",
              "      <th>route_type</th>\n",
              "      <th>source_center</th>\n",
              "      <th>destination_center</th>\n",
              "      <th>source_name</th>\n",
              "      <th>destination_name</th>\n",
              "      <th>od_start_time</th>\n",
              "      <th>od_end_time</th>\n",
              "      <th>start_scan_to_end_scan</th>\n",
              "      <th>...</th>\n",
              "      <th>code</th>\n",
              "      <th>state</th>\n",
              "      <th>des_city</th>\n",
              "      <th>des_place</th>\n",
              "      <th>des_code</th>\n",
              "      <th>des_state</th>\n",
              "      <th>sr_city</th>\n",
              "      <th>sr_place</th>\n",
              "      <th>sr_code</th>\n",
              "      <th>sr_state</th>\n",
              "    </tr>\n",
              "  </thead>\n",
              "  <tbody>\n",
              "    <tr>\n",
              "      <th>0</th>\n",
              "      <td>trip-153671041653548748</td>\n",
              "      <td>2018-09-12 00:00:16.535741</td>\n",
              "      <td>FTL</td>\n",
              "      <td>IND462022AAA</td>\n",
              "      <td>IND000000ACB</td>\n",
              "      <td>Bhopal_Trnsport_H (Madhya Pradesh)</td>\n",
              "      <td>Gurgaon_Bilaspur_HB (Haryana)</td>\n",
              "      <td>2018-09-12 00:00:16.535741</td>\n",
              "      <td>2018-09-13 13:40:23.123744</td>\n",
              "      <td>2259.0</td>\n",
              "      <td>...</td>\n",
              "      <td>HB</td>\n",
              "      <td>Haryana</td>\n",
              "      <td>Gurgaon</td>\n",
              "      <td>Bilaspur</td>\n",
              "      <td>HB</td>\n",
              "      <td>Haryana</td>\n",
              "      <td>Bhopal</td>\n",
              "      <td>Trnsport</td>\n",
              "      <td>H</td>\n",
              "      <td>Madhya Pradesh</td>\n",
              "    </tr>\n",
              "    <tr>\n",
              "      <th>1</th>\n",
              "      <td>trip-153671042288605164</td>\n",
              "      <td>2018-09-12 00:00:22.886430</td>\n",
              "      <td>Carting</td>\n",
              "      <td>IND572101AAA</td>\n",
              "      <td>IND562101AAA</td>\n",
              "      <td>Tumkur_Veersagr_I (Karnataka)</td>\n",
              "      <td>Chikblapur_ShntiSgr_D (Karnataka)</td>\n",
              "      <td>2018-09-12 00:00:22.886430</td>\n",
              "      <td>2018-09-12 03:01:59.598855</td>\n",
              "      <td>180.0</td>\n",
              "      <td>...</td>\n",
              "      <td>D</td>\n",
              "      <td>Karnataka</td>\n",
              "      <td>Chikblapur</td>\n",
              "      <td>ShntiSgr</td>\n",
              "      <td>D</td>\n",
              "      <td>Karnataka</td>\n",
              "      <td>Tumkur</td>\n",
              "      <td>Veersagr</td>\n",
              "      <td>I</td>\n",
              "      <td>Karnataka</td>\n",
              "    </tr>\n",
              "    <tr>\n",
              "      <th>2</th>\n",
              "      <td>trip-153671043369099517</td>\n",
              "      <td>2018-09-12 00:00:33.691250</td>\n",
              "      <td>FTL</td>\n",
              "      <td>IND562132AAA</td>\n",
              "      <td>IND160002AAC</td>\n",
              "      <td>Bangalore_Nelmngla_H (Karnataka)</td>\n",
              "      <td>Chandigarh_Mehmdpur_H (Punjab)</td>\n",
              "      <td>2018-09-12 00:00:33.691250</td>\n",
              "      <td>2018-09-14 17:34:55.442454</td>\n",
              "      <td>3933.0</td>\n",
              "      <td>...</td>\n",
              "      <td>H</td>\n",
              "      <td>Punjab</td>\n",
              "      <td>Chandigarh</td>\n",
              "      <td>Mehmdpur</td>\n",
              "      <td>H</td>\n",
              "      <td>Punjab</td>\n",
              "      <td>Bangalore</td>\n",
              "      <td>Nelmngla</td>\n",
              "      <td>H</td>\n",
              "      <td>Karnataka</td>\n",
              "    </tr>\n",
              "    <tr>\n",
              "      <th>3</th>\n",
              "      <td>trip-153671046011330457</td>\n",
              "      <td>2018-09-12 00:01:00.113710</td>\n",
              "      <td>Carting</td>\n",
              "      <td>IND400072AAB</td>\n",
              "      <td>IND401104AAA</td>\n",
              "      <td>Mumbai Hub (Maharashtra)</td>\n",
              "      <td>Mumbai_MiraRd_IP (Maharashtra)</td>\n",
              "      <td>2018-09-12 00:01:00.113710</td>\n",
              "      <td>2018-09-12 01:41:29.809822</td>\n",
              "      <td>100.0</td>\n",
              "      <td>...</td>\n",
              "      <td>IP</td>\n",
              "      <td>Maharashtra</td>\n",
              "      <td>Mumbai</td>\n",
              "      <td>MiraRd</td>\n",
              "      <td>IP</td>\n",
              "      <td>Maharashtra</td>\n",
              "      <td>Mumbai Hub</td>\n",
              "      <td></td>\n",
              "      <td></td>\n",
              "      <td>Maharashtra</td>\n",
              "    </tr>\n",
              "    <tr>\n",
              "      <th>4</th>\n",
              "      <td>trip-153671052974046625</td>\n",
              "      <td>2018-09-12 00:02:09.740725</td>\n",
              "      <td>FTL</td>\n",
              "      <td>IND583101AAA</td>\n",
              "      <td>IND583101AAA</td>\n",
              "      <td>Bellary_Dc (Karnataka)</td>\n",
              "      <td>Bellary_Dc (Karnataka)</td>\n",
              "      <td>2018-09-12 00:02:09.740725</td>\n",
              "      <td>2018-09-12 12:00:30.683231</td>\n",
              "      <td>717.0</td>\n",
              "      <td>...</td>\n",
              "      <td></td>\n",
              "      <td>Karnataka</td>\n",
              "      <td>Bellary</td>\n",
              "      <td>Dc</td>\n",
              "      <td></td>\n",
              "      <td>Karnataka</td>\n",
              "      <td>Bellary</td>\n",
              "      <td>Dc</td>\n",
              "      <td></td>\n",
              "      <td>Karnataka</td>\n",
              "    </tr>\n",
              "  </tbody>\n",
              "</table>\n",
              "<p>5 rows × 29 columns</p>\n",
              "</div>\n",
              "      <button class=\"colab-df-convert\" onclick=\"convertToInteractive('df-d7d76523-f5fa-40cf-ba54-f7fd53633d76')\"\n",
              "              title=\"Convert this dataframe to an interactive table.\"\n",
              "              style=\"display:none;\">\n",
              "        \n",
              "  <svg xmlns=\"http://www.w3.org/2000/svg\" height=\"24px\"viewBox=\"0 0 24 24\"\n",
              "       width=\"24px\">\n",
              "    <path d=\"M0 0h24v24H0V0z\" fill=\"none\"/>\n",
              "    <path d=\"M18.56 5.44l.94 2.06.94-2.06 2.06-.94-2.06-.94-.94-2.06-.94 2.06-2.06.94zm-11 1L8.5 8.5l.94-2.06 2.06-.94-2.06-.94L8.5 2.5l-.94 2.06-2.06.94zm10 10l.94 2.06.94-2.06 2.06-.94-2.06-.94-.94-2.06-.94 2.06-2.06.94z\"/><path d=\"M17.41 7.96l-1.37-1.37c-.4-.4-.92-.59-1.43-.59-.52 0-1.04.2-1.43.59L10.3 9.45l-7.72 7.72c-.78.78-.78 2.05 0 2.83L4 21.41c.39.39.9.59 1.41.59.51 0 1.02-.2 1.41-.59l7.78-7.78 2.81-2.81c.8-.78.8-2.07 0-2.86zM5.41 20L4 18.59l7.72-7.72 1.47 1.35L5.41 20z\"/>\n",
              "  </svg>\n",
              "      </button>\n",
              "      \n",
              "  <style>\n",
              "    .colab-df-container {\n",
              "      display:flex;\n",
              "      flex-wrap:wrap;\n",
              "      gap: 12px;\n",
              "    }\n",
              "\n",
              "    .colab-df-convert {\n",
              "      background-color: #E8F0FE;\n",
              "      border: none;\n",
              "      border-radius: 50%;\n",
              "      cursor: pointer;\n",
              "      display: none;\n",
              "      fill: #1967D2;\n",
              "      height: 32px;\n",
              "      padding: 0 0 0 0;\n",
              "      width: 32px;\n",
              "    }\n",
              "\n",
              "    .colab-df-convert:hover {\n",
              "      background-color: #E2EBFA;\n",
              "      box-shadow: 0px 1px 2px rgba(60, 64, 67, 0.3), 0px 1px 3px 1px rgba(60, 64, 67, 0.15);\n",
              "      fill: #174EA6;\n",
              "    }\n",
              "\n",
              "    [theme=dark] .colab-df-convert {\n",
              "      background-color: #3B4455;\n",
              "      fill: #D2E3FC;\n",
              "    }\n",
              "\n",
              "    [theme=dark] .colab-df-convert:hover {\n",
              "      background-color: #434B5C;\n",
              "      box-shadow: 0px 1px 3px 1px rgba(0, 0, 0, 0.15);\n",
              "      filter: drop-shadow(0px 1px 2px rgba(0, 0, 0, 0.3));\n",
              "      fill: #FFFFFF;\n",
              "    }\n",
              "  </style>\n",
              "\n",
              "      <script>\n",
              "        const buttonEl =\n",
              "          document.querySelector('#df-d7d76523-f5fa-40cf-ba54-f7fd53633d76 button.colab-df-convert');\n",
              "        buttonEl.style.display =\n",
              "          google.colab.kernel.accessAllowed ? 'block' : 'none';\n",
              "\n",
              "        async function convertToInteractive(key) {\n",
              "          const element = document.querySelector('#df-d7d76523-f5fa-40cf-ba54-f7fd53633d76');\n",
              "          const dataTable =\n",
              "            await google.colab.kernel.invokeFunction('convertToInteractive',\n",
              "                                                     [key], {});\n",
              "          if (!dataTable) return;\n",
              "\n",
              "          const docLinkHtml = 'Like what you see? Visit the ' +\n",
              "            '<a target=\"_blank\" href=https://colab.research.google.com/notebooks/data_table.ipynb>data table notebook</a>'\n",
              "            + ' to learn more about interactive tables.';\n",
              "          element.innerHTML = '';\n",
              "          dataTable['output_type'] = 'display_data';\n",
              "          await google.colab.output.renderOutput(dataTable, element);\n",
              "          const docLink = document.createElement('div');\n",
              "          docLink.innerHTML = docLinkHtml;\n",
              "          element.appendChild(docLink);\n",
              "        }\n",
              "      </script>\n",
              "    </div>\n",
              "  </div>\n",
              "  "
            ]
          },
          "metadata": {},
          "execution_count": 45
        }
      ]
    },
    {
      "cell_type": "code",
      "source": [
        "#Trip_creation_time: Extract features like month, year and day etc\n",
        "\n",
        "df_t[\"t_year\"] = pd.DatetimeIndex(df_t[\"trip_creation_time\"]).year\n",
        "df_t['t_month'] = pd.DatetimeIndex(df_t[\"trip_creation_time\"]).month\n",
        "df_t['t_day'] = pd.DatetimeIndex(df_t[\"trip_creation_time\"]).day"
      ],
      "metadata": {
        "id": "3h6Uc2Ildd-x"
      },
      "execution_count": 46,
      "outputs": []
    },
    {
      "cell_type": "code",
      "source": [
        "df_t.head()"
      ],
      "metadata": {
        "colab": {
          "base_uri": "https://localhost:8080/",
          "height": 386
        },
        "id": "Xka8-2y5eL43",
        "outputId": "57687e68-4296-4fbb-81cf-e03f1a5ce2ae"
      },
      "execution_count": 47,
      "outputs": [
        {
          "output_type": "execute_result",
          "data": {
            "text/plain": [
              "                 trip_uuid         trip_creation_time route_type  \\\n",
              "0  trip-153671041653548748 2018-09-12 00:00:16.535741        FTL   \n",
              "1  trip-153671042288605164 2018-09-12 00:00:22.886430    Carting   \n",
              "2  trip-153671043369099517 2018-09-12 00:00:33.691250        FTL   \n",
              "3  trip-153671046011330457 2018-09-12 00:01:00.113710    Carting   \n",
              "4  trip-153671052974046625 2018-09-12 00:02:09.740725        FTL   \n",
              "\n",
              "  source_center destination_center                         source_name  \\\n",
              "0  IND462022AAA       IND000000ACB  Bhopal_Trnsport_H (Madhya Pradesh)   \n",
              "1  IND572101AAA       IND562101AAA       Tumkur_Veersagr_I (Karnataka)   \n",
              "2  IND562132AAA       IND160002AAC    Bangalore_Nelmngla_H (Karnataka)   \n",
              "3  IND400072AAB       IND401104AAA            Mumbai Hub (Maharashtra)   \n",
              "4  IND583101AAA       IND583101AAA              Bellary_Dc (Karnataka)   \n",
              "\n",
              "                    destination_name              od_start_time  \\\n",
              "0      Gurgaon_Bilaspur_HB (Haryana) 2018-09-12 00:00:16.535741   \n",
              "1  Chikblapur_ShntiSgr_D (Karnataka) 2018-09-12 00:00:22.886430   \n",
              "2     Chandigarh_Mehmdpur_H (Punjab) 2018-09-12 00:00:33.691250   \n",
              "3     Mumbai_MiraRd_IP (Maharashtra) 2018-09-12 00:01:00.113710   \n",
              "4             Bellary_Dc (Karnataka) 2018-09-12 00:02:09.740725   \n",
              "\n",
              "                 od_end_time  start_scan_to_end_scan  ...  des_place  \\\n",
              "0 2018-09-13 13:40:23.123744                  2259.0  ...   Bilaspur   \n",
              "1 2018-09-12 03:01:59.598855                   180.0  ...   ShntiSgr   \n",
              "2 2018-09-14 17:34:55.442454                  3933.0  ...   Mehmdpur   \n",
              "3 2018-09-12 01:41:29.809822                   100.0  ...     MiraRd   \n",
              "4 2018-09-12 12:00:30.683231                   717.0  ...         Dc   \n",
              "\n",
              "   des_code    des_state     sr_city  sr_place  sr_code        sr_state  \\\n",
              "0        HB      Haryana      Bhopal  Trnsport        H  Madhya Pradesh   \n",
              "1         D    Karnataka      Tumkur  Veersagr        I       Karnataka   \n",
              "2         H       Punjab   Bangalore  Nelmngla        H       Karnataka   \n",
              "3        IP  Maharashtra  Mumbai Hub                        Maharashtra   \n",
              "4              Karnataka     Bellary        Dc                Karnataka   \n",
              "\n",
              "  t_year t_month t_day  \n",
              "0   2018       9    12  \n",
              "1   2018       9    12  \n",
              "2   2018       9    12  \n",
              "3   2018       9    12  \n",
              "4   2018       9    12  \n",
              "\n",
              "[5 rows x 32 columns]"
            ],
            "text/html": [
              "\n",
              "  <div id=\"df-247c5c08-e128-41a8-8039-70d08449296e\">\n",
              "    <div class=\"colab-df-container\">\n",
              "      <div>\n",
              "<style scoped>\n",
              "    .dataframe tbody tr th:only-of-type {\n",
              "        vertical-align: middle;\n",
              "    }\n",
              "\n",
              "    .dataframe tbody tr th {\n",
              "        vertical-align: top;\n",
              "    }\n",
              "\n",
              "    .dataframe thead th {\n",
              "        text-align: right;\n",
              "    }\n",
              "</style>\n",
              "<table border=\"1\" class=\"dataframe\">\n",
              "  <thead>\n",
              "    <tr style=\"text-align: right;\">\n",
              "      <th></th>\n",
              "      <th>trip_uuid</th>\n",
              "      <th>trip_creation_time</th>\n",
              "      <th>route_type</th>\n",
              "      <th>source_center</th>\n",
              "      <th>destination_center</th>\n",
              "      <th>source_name</th>\n",
              "      <th>destination_name</th>\n",
              "      <th>od_start_time</th>\n",
              "      <th>od_end_time</th>\n",
              "      <th>start_scan_to_end_scan</th>\n",
              "      <th>...</th>\n",
              "      <th>des_place</th>\n",
              "      <th>des_code</th>\n",
              "      <th>des_state</th>\n",
              "      <th>sr_city</th>\n",
              "      <th>sr_place</th>\n",
              "      <th>sr_code</th>\n",
              "      <th>sr_state</th>\n",
              "      <th>t_year</th>\n",
              "      <th>t_month</th>\n",
              "      <th>t_day</th>\n",
              "    </tr>\n",
              "  </thead>\n",
              "  <tbody>\n",
              "    <tr>\n",
              "      <th>0</th>\n",
              "      <td>trip-153671041653548748</td>\n",
              "      <td>2018-09-12 00:00:16.535741</td>\n",
              "      <td>FTL</td>\n",
              "      <td>IND462022AAA</td>\n",
              "      <td>IND000000ACB</td>\n",
              "      <td>Bhopal_Trnsport_H (Madhya Pradesh)</td>\n",
              "      <td>Gurgaon_Bilaspur_HB (Haryana)</td>\n",
              "      <td>2018-09-12 00:00:16.535741</td>\n",
              "      <td>2018-09-13 13:40:23.123744</td>\n",
              "      <td>2259.0</td>\n",
              "      <td>...</td>\n",
              "      <td>Bilaspur</td>\n",
              "      <td>HB</td>\n",
              "      <td>Haryana</td>\n",
              "      <td>Bhopal</td>\n",
              "      <td>Trnsport</td>\n",
              "      <td>H</td>\n",
              "      <td>Madhya Pradesh</td>\n",
              "      <td>2018</td>\n",
              "      <td>9</td>\n",
              "      <td>12</td>\n",
              "    </tr>\n",
              "    <tr>\n",
              "      <th>1</th>\n",
              "      <td>trip-153671042288605164</td>\n",
              "      <td>2018-09-12 00:00:22.886430</td>\n",
              "      <td>Carting</td>\n",
              "      <td>IND572101AAA</td>\n",
              "      <td>IND562101AAA</td>\n",
              "      <td>Tumkur_Veersagr_I (Karnataka)</td>\n",
              "      <td>Chikblapur_ShntiSgr_D (Karnataka)</td>\n",
              "      <td>2018-09-12 00:00:22.886430</td>\n",
              "      <td>2018-09-12 03:01:59.598855</td>\n",
              "      <td>180.0</td>\n",
              "      <td>...</td>\n",
              "      <td>ShntiSgr</td>\n",
              "      <td>D</td>\n",
              "      <td>Karnataka</td>\n",
              "      <td>Tumkur</td>\n",
              "      <td>Veersagr</td>\n",
              "      <td>I</td>\n",
              "      <td>Karnataka</td>\n",
              "      <td>2018</td>\n",
              "      <td>9</td>\n",
              "      <td>12</td>\n",
              "    </tr>\n",
              "    <tr>\n",
              "      <th>2</th>\n",
              "      <td>trip-153671043369099517</td>\n",
              "      <td>2018-09-12 00:00:33.691250</td>\n",
              "      <td>FTL</td>\n",
              "      <td>IND562132AAA</td>\n",
              "      <td>IND160002AAC</td>\n",
              "      <td>Bangalore_Nelmngla_H (Karnataka)</td>\n",
              "      <td>Chandigarh_Mehmdpur_H (Punjab)</td>\n",
              "      <td>2018-09-12 00:00:33.691250</td>\n",
              "      <td>2018-09-14 17:34:55.442454</td>\n",
              "      <td>3933.0</td>\n",
              "      <td>...</td>\n",
              "      <td>Mehmdpur</td>\n",
              "      <td>H</td>\n",
              "      <td>Punjab</td>\n",
              "      <td>Bangalore</td>\n",
              "      <td>Nelmngla</td>\n",
              "      <td>H</td>\n",
              "      <td>Karnataka</td>\n",
              "      <td>2018</td>\n",
              "      <td>9</td>\n",
              "      <td>12</td>\n",
              "    </tr>\n",
              "    <tr>\n",
              "      <th>3</th>\n",
              "      <td>trip-153671046011330457</td>\n",
              "      <td>2018-09-12 00:01:00.113710</td>\n",
              "      <td>Carting</td>\n",
              "      <td>IND400072AAB</td>\n",
              "      <td>IND401104AAA</td>\n",
              "      <td>Mumbai Hub (Maharashtra)</td>\n",
              "      <td>Mumbai_MiraRd_IP (Maharashtra)</td>\n",
              "      <td>2018-09-12 00:01:00.113710</td>\n",
              "      <td>2018-09-12 01:41:29.809822</td>\n",
              "      <td>100.0</td>\n",
              "      <td>...</td>\n",
              "      <td>MiraRd</td>\n",
              "      <td>IP</td>\n",
              "      <td>Maharashtra</td>\n",
              "      <td>Mumbai Hub</td>\n",
              "      <td></td>\n",
              "      <td></td>\n",
              "      <td>Maharashtra</td>\n",
              "      <td>2018</td>\n",
              "      <td>9</td>\n",
              "      <td>12</td>\n",
              "    </tr>\n",
              "    <tr>\n",
              "      <th>4</th>\n",
              "      <td>trip-153671052974046625</td>\n",
              "      <td>2018-09-12 00:02:09.740725</td>\n",
              "      <td>FTL</td>\n",
              "      <td>IND583101AAA</td>\n",
              "      <td>IND583101AAA</td>\n",
              "      <td>Bellary_Dc (Karnataka)</td>\n",
              "      <td>Bellary_Dc (Karnataka)</td>\n",
              "      <td>2018-09-12 00:02:09.740725</td>\n",
              "      <td>2018-09-12 12:00:30.683231</td>\n",
              "      <td>717.0</td>\n",
              "      <td>...</td>\n",
              "      <td>Dc</td>\n",
              "      <td></td>\n",
              "      <td>Karnataka</td>\n",
              "      <td>Bellary</td>\n",
              "      <td>Dc</td>\n",
              "      <td></td>\n",
              "      <td>Karnataka</td>\n",
              "      <td>2018</td>\n",
              "      <td>9</td>\n",
              "      <td>12</td>\n",
              "    </tr>\n",
              "  </tbody>\n",
              "</table>\n",
              "<p>5 rows × 32 columns</p>\n",
              "</div>\n",
              "      <button class=\"colab-df-convert\" onclick=\"convertToInteractive('df-247c5c08-e128-41a8-8039-70d08449296e')\"\n",
              "              title=\"Convert this dataframe to an interactive table.\"\n",
              "              style=\"display:none;\">\n",
              "        \n",
              "  <svg xmlns=\"http://www.w3.org/2000/svg\" height=\"24px\"viewBox=\"0 0 24 24\"\n",
              "       width=\"24px\">\n",
              "    <path d=\"M0 0h24v24H0V0z\" fill=\"none\"/>\n",
              "    <path d=\"M18.56 5.44l.94 2.06.94-2.06 2.06-.94-2.06-.94-.94-2.06-.94 2.06-2.06.94zm-11 1L8.5 8.5l.94-2.06 2.06-.94-2.06-.94L8.5 2.5l-.94 2.06-2.06.94zm10 10l.94 2.06.94-2.06 2.06-.94-2.06-.94-.94-2.06-.94 2.06-2.06.94z\"/><path d=\"M17.41 7.96l-1.37-1.37c-.4-.4-.92-.59-1.43-.59-.52 0-1.04.2-1.43.59L10.3 9.45l-7.72 7.72c-.78.78-.78 2.05 0 2.83L4 21.41c.39.39.9.59 1.41.59.51 0 1.02-.2 1.41-.59l7.78-7.78 2.81-2.81c.8-.78.8-2.07 0-2.86zM5.41 20L4 18.59l7.72-7.72 1.47 1.35L5.41 20z\"/>\n",
              "  </svg>\n",
              "      </button>\n",
              "      \n",
              "  <style>\n",
              "    .colab-df-container {\n",
              "      display:flex;\n",
              "      flex-wrap:wrap;\n",
              "      gap: 12px;\n",
              "    }\n",
              "\n",
              "    .colab-df-convert {\n",
              "      background-color: #E8F0FE;\n",
              "      border: none;\n",
              "      border-radius: 50%;\n",
              "      cursor: pointer;\n",
              "      display: none;\n",
              "      fill: #1967D2;\n",
              "      height: 32px;\n",
              "      padding: 0 0 0 0;\n",
              "      width: 32px;\n",
              "    }\n",
              "\n",
              "    .colab-df-convert:hover {\n",
              "      background-color: #E2EBFA;\n",
              "      box-shadow: 0px 1px 2px rgba(60, 64, 67, 0.3), 0px 1px 3px 1px rgba(60, 64, 67, 0.15);\n",
              "      fill: #174EA6;\n",
              "    }\n",
              "\n",
              "    [theme=dark] .colab-df-convert {\n",
              "      background-color: #3B4455;\n",
              "      fill: #D2E3FC;\n",
              "    }\n",
              "\n",
              "    [theme=dark] .colab-df-convert:hover {\n",
              "      background-color: #434B5C;\n",
              "      box-shadow: 0px 1px 3px 1px rgba(0, 0, 0, 0.15);\n",
              "      filter: drop-shadow(0px 1px 2px rgba(0, 0, 0, 0.3));\n",
              "      fill: #FFFFFF;\n",
              "    }\n",
              "  </style>\n",
              "\n",
              "      <script>\n",
              "        const buttonEl =\n",
              "          document.querySelector('#df-247c5c08-e128-41a8-8039-70d08449296e button.colab-df-convert');\n",
              "        buttonEl.style.display =\n",
              "          google.colab.kernel.accessAllowed ? 'block' : 'none';\n",
              "\n",
              "        async function convertToInteractive(key) {\n",
              "          const element = document.querySelector('#df-247c5c08-e128-41a8-8039-70d08449296e');\n",
              "          const dataTable =\n",
              "            await google.colab.kernel.invokeFunction('convertToInteractive',\n",
              "                                                     [key], {});\n",
              "          if (!dataTable) return;\n",
              "\n",
              "          const docLinkHtml = 'Like what you see? Visit the ' +\n",
              "            '<a target=\"_blank\" href=https://colab.research.google.com/notebooks/data_table.ipynb>data table notebook</a>'\n",
              "            + ' to learn more about interactive tables.';\n",
              "          element.innerHTML = '';\n",
              "          dataTable['output_type'] = 'display_data';\n",
              "          await google.colab.output.renderOutput(dataTable, element);\n",
              "          const docLink = document.createElement('div');\n",
              "          docLink.innerHTML = docLinkHtml;\n",
              "          element.appendChild(docLink);\n",
              "        }\n",
              "      </script>\n",
              "    </div>\n",
              "  </div>\n",
              "  "
            ]
          },
          "metadata": {},
          "execution_count": 47
        }
      ]
    },
    {
      "cell_type": "markdown",
      "source": [
        "#Calculate the time taken between od_start_time and od_end_time and keep it as a feature. Drop the original columns, if required"
      ],
      "metadata": {
        "id": "sX4yMWyjlT0z"
      }
    },
    {
      "cell_type": "code",
      "source": [
        "\n",
        "\n",
        "df_t['duration_of_od_in_min'] = (df_t['od_end_time'] - df_t['od_start_time']).dt.seconds/60\n",
        "df_t.head()"
      ],
      "metadata": {
        "colab": {
          "base_uri": "https://localhost:8080/",
          "height": 386
        },
        "id": "ImlfHbNDeN51",
        "outputId": "5153bce4-bb2e-4794-f554-24876d243269"
      },
      "execution_count": 48,
      "outputs": [
        {
          "output_type": "execute_result",
          "data": {
            "text/plain": [
              "                 trip_uuid         trip_creation_time route_type  \\\n",
              "0  trip-153671041653548748 2018-09-12 00:00:16.535741        FTL   \n",
              "1  trip-153671042288605164 2018-09-12 00:00:22.886430    Carting   \n",
              "2  trip-153671043369099517 2018-09-12 00:00:33.691250        FTL   \n",
              "3  trip-153671046011330457 2018-09-12 00:01:00.113710    Carting   \n",
              "4  trip-153671052974046625 2018-09-12 00:02:09.740725        FTL   \n",
              "\n",
              "  source_center destination_center                         source_name  \\\n",
              "0  IND462022AAA       IND000000ACB  Bhopal_Trnsport_H (Madhya Pradesh)   \n",
              "1  IND572101AAA       IND562101AAA       Tumkur_Veersagr_I (Karnataka)   \n",
              "2  IND562132AAA       IND160002AAC    Bangalore_Nelmngla_H (Karnataka)   \n",
              "3  IND400072AAB       IND401104AAA            Mumbai Hub (Maharashtra)   \n",
              "4  IND583101AAA       IND583101AAA              Bellary_Dc (Karnataka)   \n",
              "\n",
              "                    destination_name              od_start_time  \\\n",
              "0      Gurgaon_Bilaspur_HB (Haryana) 2018-09-12 00:00:16.535741   \n",
              "1  Chikblapur_ShntiSgr_D (Karnataka) 2018-09-12 00:00:22.886430   \n",
              "2     Chandigarh_Mehmdpur_H (Punjab) 2018-09-12 00:00:33.691250   \n",
              "3     Mumbai_MiraRd_IP (Maharashtra) 2018-09-12 00:01:00.113710   \n",
              "4             Bellary_Dc (Karnataka) 2018-09-12 00:02:09.740725   \n",
              "\n",
              "                 od_end_time  start_scan_to_end_scan  ...  des_code  \\\n",
              "0 2018-09-13 13:40:23.123744                  2259.0  ...        HB   \n",
              "1 2018-09-12 03:01:59.598855                   180.0  ...         D   \n",
              "2 2018-09-14 17:34:55.442454                  3933.0  ...         H   \n",
              "3 2018-09-12 01:41:29.809822                   100.0  ...        IP   \n",
              "4 2018-09-12 12:00:30.683231                   717.0  ...             \n",
              "\n",
              "     des_state     sr_city  sr_place  sr_code        sr_state  t_year t_month  \\\n",
              "0      Haryana      Bhopal  Trnsport        H  Madhya Pradesh    2018       9   \n",
              "1    Karnataka      Tumkur  Veersagr        I       Karnataka    2018       9   \n",
              "2       Punjab   Bangalore  Nelmngla        H       Karnataka    2018       9   \n",
              "3  Maharashtra  Mumbai Hub                        Maharashtra    2018       9   \n",
              "4    Karnataka     Bellary        Dc                Karnataka    2018       9   \n",
              "\n",
              "  t_day duration_of_od_in_min  \n",
              "0    12            820.100000  \n",
              "1    12            181.600000  \n",
              "2    12           1054.350000  \n",
              "3    12            100.483333  \n",
              "4    12            718.333333  \n",
              "\n",
              "[5 rows x 33 columns]"
            ],
            "text/html": [
              "\n",
              "  <div id=\"df-e8df4c98-8ac3-4617-b17f-9b499dee0643\">\n",
              "    <div class=\"colab-df-container\">\n",
              "      <div>\n",
              "<style scoped>\n",
              "    .dataframe tbody tr th:only-of-type {\n",
              "        vertical-align: middle;\n",
              "    }\n",
              "\n",
              "    .dataframe tbody tr th {\n",
              "        vertical-align: top;\n",
              "    }\n",
              "\n",
              "    .dataframe thead th {\n",
              "        text-align: right;\n",
              "    }\n",
              "</style>\n",
              "<table border=\"1\" class=\"dataframe\">\n",
              "  <thead>\n",
              "    <tr style=\"text-align: right;\">\n",
              "      <th></th>\n",
              "      <th>trip_uuid</th>\n",
              "      <th>trip_creation_time</th>\n",
              "      <th>route_type</th>\n",
              "      <th>source_center</th>\n",
              "      <th>destination_center</th>\n",
              "      <th>source_name</th>\n",
              "      <th>destination_name</th>\n",
              "      <th>od_start_time</th>\n",
              "      <th>od_end_time</th>\n",
              "      <th>start_scan_to_end_scan</th>\n",
              "      <th>...</th>\n",
              "      <th>des_code</th>\n",
              "      <th>des_state</th>\n",
              "      <th>sr_city</th>\n",
              "      <th>sr_place</th>\n",
              "      <th>sr_code</th>\n",
              "      <th>sr_state</th>\n",
              "      <th>t_year</th>\n",
              "      <th>t_month</th>\n",
              "      <th>t_day</th>\n",
              "      <th>duration_of_od_in_min</th>\n",
              "    </tr>\n",
              "  </thead>\n",
              "  <tbody>\n",
              "    <tr>\n",
              "      <th>0</th>\n",
              "      <td>trip-153671041653548748</td>\n",
              "      <td>2018-09-12 00:00:16.535741</td>\n",
              "      <td>FTL</td>\n",
              "      <td>IND462022AAA</td>\n",
              "      <td>IND000000ACB</td>\n",
              "      <td>Bhopal_Trnsport_H (Madhya Pradesh)</td>\n",
              "      <td>Gurgaon_Bilaspur_HB (Haryana)</td>\n",
              "      <td>2018-09-12 00:00:16.535741</td>\n",
              "      <td>2018-09-13 13:40:23.123744</td>\n",
              "      <td>2259.0</td>\n",
              "      <td>...</td>\n",
              "      <td>HB</td>\n",
              "      <td>Haryana</td>\n",
              "      <td>Bhopal</td>\n",
              "      <td>Trnsport</td>\n",
              "      <td>H</td>\n",
              "      <td>Madhya Pradesh</td>\n",
              "      <td>2018</td>\n",
              "      <td>9</td>\n",
              "      <td>12</td>\n",
              "      <td>820.100000</td>\n",
              "    </tr>\n",
              "    <tr>\n",
              "      <th>1</th>\n",
              "      <td>trip-153671042288605164</td>\n",
              "      <td>2018-09-12 00:00:22.886430</td>\n",
              "      <td>Carting</td>\n",
              "      <td>IND572101AAA</td>\n",
              "      <td>IND562101AAA</td>\n",
              "      <td>Tumkur_Veersagr_I (Karnataka)</td>\n",
              "      <td>Chikblapur_ShntiSgr_D (Karnataka)</td>\n",
              "      <td>2018-09-12 00:00:22.886430</td>\n",
              "      <td>2018-09-12 03:01:59.598855</td>\n",
              "      <td>180.0</td>\n",
              "      <td>...</td>\n",
              "      <td>D</td>\n",
              "      <td>Karnataka</td>\n",
              "      <td>Tumkur</td>\n",
              "      <td>Veersagr</td>\n",
              "      <td>I</td>\n",
              "      <td>Karnataka</td>\n",
              "      <td>2018</td>\n",
              "      <td>9</td>\n",
              "      <td>12</td>\n",
              "      <td>181.600000</td>\n",
              "    </tr>\n",
              "    <tr>\n",
              "      <th>2</th>\n",
              "      <td>trip-153671043369099517</td>\n",
              "      <td>2018-09-12 00:00:33.691250</td>\n",
              "      <td>FTL</td>\n",
              "      <td>IND562132AAA</td>\n",
              "      <td>IND160002AAC</td>\n",
              "      <td>Bangalore_Nelmngla_H (Karnataka)</td>\n",
              "      <td>Chandigarh_Mehmdpur_H (Punjab)</td>\n",
              "      <td>2018-09-12 00:00:33.691250</td>\n",
              "      <td>2018-09-14 17:34:55.442454</td>\n",
              "      <td>3933.0</td>\n",
              "      <td>...</td>\n",
              "      <td>H</td>\n",
              "      <td>Punjab</td>\n",
              "      <td>Bangalore</td>\n",
              "      <td>Nelmngla</td>\n",
              "      <td>H</td>\n",
              "      <td>Karnataka</td>\n",
              "      <td>2018</td>\n",
              "      <td>9</td>\n",
              "      <td>12</td>\n",
              "      <td>1054.350000</td>\n",
              "    </tr>\n",
              "    <tr>\n",
              "      <th>3</th>\n",
              "      <td>trip-153671046011330457</td>\n",
              "      <td>2018-09-12 00:01:00.113710</td>\n",
              "      <td>Carting</td>\n",
              "      <td>IND400072AAB</td>\n",
              "      <td>IND401104AAA</td>\n",
              "      <td>Mumbai Hub (Maharashtra)</td>\n",
              "      <td>Mumbai_MiraRd_IP (Maharashtra)</td>\n",
              "      <td>2018-09-12 00:01:00.113710</td>\n",
              "      <td>2018-09-12 01:41:29.809822</td>\n",
              "      <td>100.0</td>\n",
              "      <td>...</td>\n",
              "      <td>IP</td>\n",
              "      <td>Maharashtra</td>\n",
              "      <td>Mumbai Hub</td>\n",
              "      <td></td>\n",
              "      <td></td>\n",
              "      <td>Maharashtra</td>\n",
              "      <td>2018</td>\n",
              "      <td>9</td>\n",
              "      <td>12</td>\n",
              "      <td>100.483333</td>\n",
              "    </tr>\n",
              "    <tr>\n",
              "      <th>4</th>\n",
              "      <td>trip-153671052974046625</td>\n",
              "      <td>2018-09-12 00:02:09.740725</td>\n",
              "      <td>FTL</td>\n",
              "      <td>IND583101AAA</td>\n",
              "      <td>IND583101AAA</td>\n",
              "      <td>Bellary_Dc (Karnataka)</td>\n",
              "      <td>Bellary_Dc (Karnataka)</td>\n",
              "      <td>2018-09-12 00:02:09.740725</td>\n",
              "      <td>2018-09-12 12:00:30.683231</td>\n",
              "      <td>717.0</td>\n",
              "      <td>...</td>\n",
              "      <td></td>\n",
              "      <td>Karnataka</td>\n",
              "      <td>Bellary</td>\n",
              "      <td>Dc</td>\n",
              "      <td></td>\n",
              "      <td>Karnataka</td>\n",
              "      <td>2018</td>\n",
              "      <td>9</td>\n",
              "      <td>12</td>\n",
              "      <td>718.333333</td>\n",
              "    </tr>\n",
              "  </tbody>\n",
              "</table>\n",
              "<p>5 rows × 33 columns</p>\n",
              "</div>\n",
              "      <button class=\"colab-df-convert\" onclick=\"convertToInteractive('df-e8df4c98-8ac3-4617-b17f-9b499dee0643')\"\n",
              "              title=\"Convert this dataframe to an interactive table.\"\n",
              "              style=\"display:none;\">\n",
              "        \n",
              "  <svg xmlns=\"http://www.w3.org/2000/svg\" height=\"24px\"viewBox=\"0 0 24 24\"\n",
              "       width=\"24px\">\n",
              "    <path d=\"M0 0h24v24H0V0z\" fill=\"none\"/>\n",
              "    <path d=\"M18.56 5.44l.94 2.06.94-2.06 2.06-.94-2.06-.94-.94-2.06-.94 2.06-2.06.94zm-11 1L8.5 8.5l.94-2.06 2.06-.94-2.06-.94L8.5 2.5l-.94 2.06-2.06.94zm10 10l.94 2.06.94-2.06 2.06-.94-2.06-.94-.94-2.06-.94 2.06-2.06.94z\"/><path d=\"M17.41 7.96l-1.37-1.37c-.4-.4-.92-.59-1.43-.59-.52 0-1.04.2-1.43.59L10.3 9.45l-7.72 7.72c-.78.78-.78 2.05 0 2.83L4 21.41c.39.39.9.59 1.41.59.51 0 1.02-.2 1.41-.59l7.78-7.78 2.81-2.81c.8-.78.8-2.07 0-2.86zM5.41 20L4 18.59l7.72-7.72 1.47 1.35L5.41 20z\"/>\n",
              "  </svg>\n",
              "      </button>\n",
              "      \n",
              "  <style>\n",
              "    .colab-df-container {\n",
              "      display:flex;\n",
              "      flex-wrap:wrap;\n",
              "      gap: 12px;\n",
              "    }\n",
              "\n",
              "    .colab-df-convert {\n",
              "      background-color: #E8F0FE;\n",
              "      border: none;\n",
              "      border-radius: 50%;\n",
              "      cursor: pointer;\n",
              "      display: none;\n",
              "      fill: #1967D2;\n",
              "      height: 32px;\n",
              "      padding: 0 0 0 0;\n",
              "      width: 32px;\n",
              "    }\n",
              "\n",
              "    .colab-df-convert:hover {\n",
              "      background-color: #E2EBFA;\n",
              "      box-shadow: 0px 1px 2px rgba(60, 64, 67, 0.3), 0px 1px 3px 1px rgba(60, 64, 67, 0.15);\n",
              "      fill: #174EA6;\n",
              "    }\n",
              "\n",
              "    [theme=dark] .colab-df-convert {\n",
              "      background-color: #3B4455;\n",
              "      fill: #D2E3FC;\n",
              "    }\n",
              "\n",
              "    [theme=dark] .colab-df-convert:hover {\n",
              "      background-color: #434B5C;\n",
              "      box-shadow: 0px 1px 3px 1px rgba(0, 0, 0, 0.15);\n",
              "      filter: drop-shadow(0px 1px 2px rgba(0, 0, 0, 0.3));\n",
              "      fill: #FFFFFF;\n",
              "    }\n",
              "  </style>\n",
              "\n",
              "      <script>\n",
              "        const buttonEl =\n",
              "          document.querySelector('#df-e8df4c98-8ac3-4617-b17f-9b499dee0643 button.colab-df-convert');\n",
              "        buttonEl.style.display =\n",
              "          google.colab.kernel.accessAllowed ? 'block' : 'none';\n",
              "\n",
              "        async function convertToInteractive(key) {\n",
              "          const element = document.querySelector('#df-e8df4c98-8ac3-4617-b17f-9b499dee0643');\n",
              "          const dataTable =\n",
              "            await google.colab.kernel.invokeFunction('convertToInteractive',\n",
              "                                                     [key], {});\n",
              "          if (!dataTable) return;\n",
              "\n",
              "          const docLinkHtml = 'Like what you see? Visit the ' +\n",
              "            '<a target=\"_blank\" href=https://colab.research.google.com/notebooks/data_table.ipynb>data table notebook</a>'\n",
              "            + ' to learn more about interactive tables.';\n",
              "          element.innerHTML = '';\n",
              "          dataTable['output_type'] = 'display_data';\n",
              "          await google.colab.output.renderOutput(dataTable, element);\n",
              "          const docLink = document.createElement('div');\n",
              "          docLink.innerHTML = docLinkHtml;\n",
              "          element.appendChild(docLink);\n",
              "        }\n",
              "      </script>\n",
              "    </div>\n",
              "  </div>\n",
              "  "
            ]
          },
          "metadata": {},
          "execution_count": 48
        }
      ]
    },
    {
      "cell_type": "code",
      "source": [
        "#Compare the difference between Point a. and start_scan_to_end_scan. Do hypothesis testing/ Visual analysis to check.\n",
        "\n",
        "a = df_t['start_scan_to_end_scan'].values\n",
        "len(a)"
      ],
      "metadata": {
        "colab": {
          "base_uri": "https://localhost:8080/"
        },
        "id": "b-V-V6bCexML",
        "outputId": "d05a07e6-1168-41e4-c69b-1df486a13d7d"
      },
      "execution_count": 51,
      "outputs": [
        {
          "output_type": "execute_result",
          "data": {
            "text/plain": [
              "14787"
            ]
          },
          "metadata": {},
          "execution_count": 51
        }
      ]
    },
    {
      "cell_type": "code",
      "source": [
        "b = df_t['duration_of_od_in_min'].values\n",
        "len(b)"
      ],
      "metadata": {
        "colab": {
          "base_uri": "https://localhost:8080/"
        },
        "id": "8gDK42q3fV_B",
        "outputId": "95804a07-b83a-4c0f-bbf3-790d0134594e"
      },
      "execution_count": 52,
      "outputs": [
        {
          "output_type": "execute_result",
          "data": {
            "text/plain": [
              "14787"
            ]
          },
          "metadata": {},
          "execution_count": 52
        }
      ]
    },
    {
      "cell_type": "markdown",
      "source": [
        "We have enough data. Data from a normal distribution is ensured via CLT. We'll use a t-test with two independent samples."
      ],
      "metadata": {
        "id": "a5YO9UIMf0Q2"
      }
    },
    {
      "cell_type": "code",
      "source": [
        "sns.histplot(a, bins=100)"
      ],
      "metadata": {
        "colab": {
          "base_uri": "https://localhost:8080/",
          "height": 282
        },
        "id": "2sqmDOULfdem",
        "outputId": "f44fdd7f-9b73-445e-f48e-b94b8b50f104"
      },
      "execution_count": 53,
      "outputs": [
        {
          "output_type": "execute_result",
          "data": {
            "text/plain": [
              "<matplotlib.axes._subplots.AxesSubplot at 0x7f035a8683d0>"
            ]
          },
          "metadata": {},
          "execution_count": 53
        },
        {
          "output_type": "display_data",
          "data": {
            "text/plain": [
              "<Figure size 432x288 with 1 Axes>"
            ],
            "image/png": "[encoded data removed]"
          },
          "metadata": {
            "needs_background": "light"
          }
        }
      ]
    },
    {
      "cell_type": "code",
      "source": [
        "sns.histplot(b, bins=100)"
      ],
      "metadata": {
        "colab": {
          "base_uri": "https://localhost:8080/",
          "height": 283
        },
        "id": "LFF20cudf-Yv",
        "outputId": "52f5c8b8-3194-4b60-fc07-cfa0a1c3396d"
      },
      "execution_count": 54,
      "outputs": [
        {
          "output_type": "execute_result",
          "data": {
            "text/plain": [
              "<matplotlib.axes._subplots.AxesSubplot at 0x7f0359ff5f10>"
            ]
          },
          "metadata": {},
          "execution_count": 54
        },
        {
          "output_type": "display_data",
          "data": {
            "text/plain": [
              "<Figure size 432x288 with 1 Axes>"
            ],
            "image/png": "[encoded data removed]"
          },
          "metadata": {
            "needs_background": "light"
          }
        }
      ]
    },
    {
      "cell_type": "markdown",
      "source": [
        "H0: There is no difference between start_scan_to_end_scan and od_duration_in_sec.\n",
        "\n",
        "Ha: There is a difference between start_scan_to_end_scan and od_duration_in_sec."
      ],
      "metadata": {
        "id": "dsUjrtU_gR3t"
      }
    },
    {
      "cell_type": "code",
      "source": [
        "ttest_ind(a, b)"
      ],
      "metadata": {
        "colab": {
          "base_uri": "https://localhost:8080/"
        },
        "id": "caSplJqrgBhy",
        "outputId": "acb571b7-91c6-4114-964c-744fe143a485"
      },
      "execution_count": 55,
      "outputs": [
        {
          "output_type": "execute_result",
          "data": {
            "text/plain": [
              "Ttest_indResult(statistic=20.60989437048805, pvalue=1.020848567684709e-93)"
            ]
          },
          "metadata": {},
          "execution_count": 55
        }
      ]
    },
    {
      "cell_type": "markdown",
      "source": [
        "p-value is very small. So, we can reject null hypothesis\n",
        "\n",
        "There is a difference between start_scan_to_end_scan and od_duration_in_sec."
      ],
      "metadata": {
        "id": "XGswZAPzhNje"
      }
    },
    {
      "cell_type": "markdown",
      "source": [
        "H0: mean of start_scan_to_end_scan is smaller than mean of od_duration_in_sec\n",
        "\n",
        "Ha: mean of start_scan_to_end_scan is greater than mean of od_duration_in_sec"
      ],
      "metadata": {
        "id": "D1jwDFeuhlEF"
      }
    },
    {
      "cell_type": "code",
      "source": [
        "ttest_ind(a, b, alternative='less')"
      ],
      "metadata": {
        "colab": {
          "base_uri": "https://localhost:8080/"
        },
        "id": "7ctKAzCAh2M2",
        "outputId": "32c5d2ab-ceda-42b0-f64f-7308ecb82fa2"
      },
      "execution_count": 58,
      "outputs": [
        {
          "output_type": "execute_result",
          "data": {
            "text/plain": [
              "Ttest_indResult(statistic=20.60989437048805, pvalue=1.0)"
            ]
          },
          "metadata": {},
          "execution_count": 58
        }
      ]
    },
    {
      "cell_type": "markdown",
      "source": [
        "\n",
        "As p-value is high, we fail to reject null hypothesis.\n",
        "\n",
        "Mean of start_scan_to_end_scan is smaller than mean of od_duration_in_sec"
      ],
      "metadata": {
        "id": "utp2GX04h7Ih"
      }
    },
    {
      "cell_type": "markdown",
      "source": [
        "H0: mean of start_scan_to_end_scan is greater than mean of od_duration_in_sec\n",
        "\n",
        "Ha: mean of start_scan_to_end_scan is smaller than mean of od_duration_in_sec"
      ],
      "metadata": {
        "id": "RLpupITuiYo0"
      }
    },
    {
      "cell_type": "code",
      "source": [
        "ttest_ind(a, b, alternative='greater')"
      ],
      "metadata": {
        "colab": {
          "base_uri": "https://localhost:8080/"
        },
        "id": "35IDNrNbg1-6",
        "outputId": "131f5442-3ed3-4879-e95f-3315ced2ef98"
      },
      "execution_count": 59,
      "outputs": [
        {
          "output_type": "execute_result",
          "data": {
            "text/plain": [
              "Ttest_indResult(statistic=20.60989437048805, pvalue=5.104242838423545e-94)"
            ]
          },
          "metadata": {},
          "execution_count": 59
        }
      ]
    },
    {
      "cell_type": "markdown",
      "source": [
        "\n",
        "As p-value is low, we reject null hypothesis.\n",
        "\n",
        "mean of start_scan_to_end_scan is smaller than mean of od_duration_in_sec"
      ],
      "metadata": {
        "id": "CllHK9jtkG0r"
      }
    },
    {
      "cell_type": "markdown",
      "source": [
        "# Do hypothesis testing/ visual analysis between actual_time aggregated value and OSRM time aggregated value (aggregated values are the values you’ll get after merging the rows on the basis of trip_uuid)\n",
        "\n"
      ],
      "metadata": {
        "id": "UgmWsF50lXrP"
      }
    },
    {
      "cell_type": "code",
      "source": [
        "df_t['actual_time'].values\n"
      ],
      "metadata": {
        "colab": {
          "base_uri": "https://localhost:8080/"
        },
        "id": "zpScR4DXjWYz",
        "outputId": "702d8f6f-5c2d-4acf-f29e-ac20c07738fa"
      },
      "execution_count": 60,
      "outputs": [
        {
          "output_type": "execute_result",
          "data": {
            "text/plain": [
              "array([1562.,  143., 3347., ...,  282.,  264.,  275.])"
            ]
          },
          "metadata": {},
          "execution_count": 60
        }
      ]
    },
    {
      "cell_type": "code",
      "source": [
        "df_t['osrm_time'].values"
      ],
      "metadata": {
        "colab": {
          "base_uri": "https://localhost:8080/"
        },
        "id": "O_3ZVWLjlwgj",
        "outputId": "2298f4a8-36ab-4615-c80b-3a268d2ef1e4"
      },
      "execution_count": 61,
      "outputs": [
        {
          "output_type": "execute_result",
          "data": {
            "text/plain": [
              "array([ 743.,   68., 1741., ...,   54.,  184.,   68.])"
            ]
          },
          "metadata": {},
          "execution_count": 61
        }
      ]
    },
    {
      "cell_type": "code",
      "source": [
        "sns.histplot(df_t['actual_time'].values, bins=100)"
      ],
      "metadata": {
        "colab": {
          "base_uri": "https://localhost:8080/",
          "height": 282
        },
        "id": "V0bx6yf1l3-Q",
        "outputId": "768c7383-9312-45b8-b4ad-9bb3f3db7e5f"
      },
      "execution_count": 62,
      "outputs": [
        {
          "output_type": "execute_result",
          "data": {
            "text/plain": [
              "<matplotlib.axes._subplots.AxesSubplot at 0x7f0359e03690>"
            ]
          },
          "metadata": {},
          "execution_count": 62
        },
        {
          "output_type": "display_data",
          "data": {
            "text/plain": [
              "<Figure size 432x288 with 1 Axes>"
            ],
            "image/png": "[encoded data removed]"
          },
          "metadata": {
            "needs_background": "light"
          }
        }
      ]
    },
    {
      "cell_type": "code",
      "source": [
        "sns.histplot(df_t['osrm_time'].values, bins=100)"
      ],
      "metadata": {
        "colab": {
          "base_uri": "https://localhost:8080/",
          "height": 282
        },
        "id": "p1l0oShql6Hp",
        "outputId": "a9c4b143-3cf1-451b-c74d-183237d6789b"
      },
      "execution_count": 63,
      "outputs": [
        {
          "output_type": "execute_result",
          "data": {
            "text/plain": [
              "<matplotlib.axes._subplots.AxesSubplot at 0x7f035a96fe10>"
            ]
          },
          "metadata": {},
          "execution_count": 63
        },
        {
          "output_type": "display_data",
          "data": {
            "text/plain": [
              "<Figure size 432x288 with 1 Axes>"
            ],
            "image/png": "[encoded data removed]"
          },
          "metadata": {
            "needs_background": "light"
          }
        }
      ]
    },
    {
      "cell_type": "markdown",
      "source": [
        "H0: Mean of actual_time and Mean of osrm_time are equal\n",
        "\n",
        "Ha: Mean of actual_time and Mean of osrm_time are not equal"
      ],
      "metadata": {
        "id": "0rMZlTCkmMhz"
      }
    },
    {
      "cell_type": "code",
      "source": [
        "ttest_ind(df_t['actual_time'].values, df_t['osrm_time'].values)"
      ],
      "metadata": {
        "colab": {
          "base_uri": "https://localhost:8080/"
        },
        "id": "2YFVicAlmAeT",
        "outputId": "66a52e38-1157-4c36-8b84-0a68fb22e556"
      },
      "execution_count": 64,
      "outputs": [
        {
          "output_type": "execute_result",
          "data": {
            "text/plain": [
              "Ttest_indResult(statistic=37.92331945613998, pvalue=2.4718713729605103e-307)"
            ]
          },
          "metadata": {},
          "execution_count": 64
        }
      ]
    },
    {
      "cell_type": "markdown",
      "source": [
        "As p=value is very small, we can reject null hypothesis.\n",
        "\n",
        "Mean of actual_time and Mean of osrm_time are not equal"
      ],
      "metadata": {
        "id": "vHX_4YNHmcln"
      }
    },
    {
      "cell_type": "markdown",
      "source": [
        "H0: Mean of actual_time is less than mean of osrm_time\n",
        "\n",
        "Ha: Mean of actual_time is not less than mean of osrm_time"
      ],
      "metadata": {
        "id": "Jdx4Pa39mqP1"
      }
    },
    {
      "cell_type": "code",
      "source": [
        "ttest_ind(df_t['actual_time'].values, df_t['osrm_time'].values,alternative='less')"
      ],
      "metadata": {
        "colab": {
          "base_uri": "https://localhost:8080/"
        },
        "id": "3JaNxiNDmZa0",
        "outputId": "8df8f83b-1444-44e9-8f4d-853948937173"
      },
      "execution_count": 65,
      "outputs": [
        {
          "output_type": "execute_result",
          "data": {
            "text/plain": [
              "Ttest_indResult(statistic=37.92331945613998, pvalue=1.0)"
            ]
          },
          "metadata": {},
          "execution_count": 65
        }
      ]
    },
    {
      "cell_type": "markdown",
      "source": [
        "As p-value is high, we fail to reject null hypothesis.\n",
        "\n",
        "Mean of actual_time is less than mean of osrm_time"
      ],
      "metadata": {
        "id": "USBnbWzWnJDS"
      }
    },
    {
      "cell_type": "markdown",
      "source": [
        "H0: Mean of actual_time is greater than mean of osrm_time\n",
        "\n",
        "Ha: Mean of actual_time is not greater than mean of osrm_time"
      ],
      "metadata": {
        "id": "5cH1oUeknbs-"
      }
    },
    {
      "cell_type": "code",
      "source": [
        "ttest_ind(df_t['actual_time'].values, df_t['osrm_time'].values,alternative='greater')"
      ],
      "metadata": {
        "colab": {
          "base_uri": "https://localhost:8080/"
        },
        "id": "carQ0FfPnGvC",
        "outputId": "f67c7675-e274-4c6a-fb90-be42a0f28de2"
      },
      "execution_count": 66,
      "outputs": [
        {
          "output_type": "execute_result",
          "data": {
            "text/plain": [
              "Ttest_indResult(statistic=37.92331945613998, pvalue=1.2359356864802551e-307)"
            ]
          },
          "metadata": {},
          "execution_count": 66
        }
      ]
    },
    {
      "cell_type": "markdown",
      "source": [
        "As p=value is very small, we can reject null hypothesis.\n",
        "\n",
        " Mean of actual_time is not greater than mean of osrm_time"
      ],
      "metadata": {
        "id": "PtfRRLBgnnGY"
      }
    },
    {
      "cell_type": "markdown",
      "source": [
        "#Do hypothesis testing/ visual analysis between actual_time aggregated value and segment actual time aggregated value (aggregated values are the values you’ll get after merging the rows on the basis of trip_uuid)"
      ],
      "metadata": {
        "id": "jWplXDOHnzOC"
      }
    },
    {
      "cell_type": "code",
      "source": [
        "df_t['actual_time'].values"
      ],
      "metadata": {
        "colab": {
          "base_uri": "https://localhost:8080/"
        },
        "id": "bo1vxFZHnhn4",
        "outputId": "8213afc1-ed48-495e-e296-7c3ed297e28a"
      },
      "execution_count": 67,
      "outputs": [
        {
          "output_type": "execute_result",
          "data": {
            "text/plain": [
              "array([1562.,  143., 3347., ...,  282.,  264.,  275.])"
            ]
          },
          "metadata": {},
          "execution_count": 67
        }
      ]
    },
    {
      "cell_type": "code",
      "source": [
        "df_t['segment_actual_time'].values"
      ],
      "metadata": {
        "colab": {
          "base_uri": "https://localhost:8080/"
        },
        "id": "4kFNdwAeoIhh",
        "outputId": "e393207a-de93-40f5-c9d2-759b77aa65cd"
      },
      "execution_count": 68,
      "outputs": [
        {
          "output_type": "execute_result",
          "data": {
            "text/plain": [
              "array([1548.,  141., 3308., ...,  281.,  258.,  274.])"
            ]
          },
          "metadata": {},
          "execution_count": 68
        }
      ]
    },
    {
      "cell_type": "markdown",
      "source": [
        "H0: Mean of actual_time is equal to mean of segment_actual times \n",
        "\n",
        "Ha: Mean of actual_time is not equal to mean of segment_actual times"
      ],
      "metadata": {
        "id": "P_BONz31oPPQ"
      }
    },
    {
      "cell_type": "code",
      "source": [
        "ttest_ind(df_t['actual_time'].values,df_t['segment_actual_time'].values)"
      ],
      "metadata": {
        "colab": {
          "base_uri": "https://localhost:8080/"
        },
        "id": "fb5fITjNoLQu",
        "outputId": "657c1587-e00d-4282-b46f-d94e8657d778"
      },
      "execution_count": 69,
      "outputs": [
        {
          "output_type": "execute_result",
          "data": {
            "text/plain": [
              "Ttest_indResult(statistic=0.499475764573994, pvalue=0.6174479719707524)"
            ]
          },
          "metadata": {},
          "execution_count": 69
        }
      ]
    },
    {
      "cell_type": "markdown",
      "source": [
        "As pvalue is greater than 0.05, we fail to reject null hypothesis.\n",
        "\n",
        "Mean of actual_time is equal to mean of segment_actual times"
      ],
      "metadata": {
        "id": "RJepSZGGolsA"
      }
    },
    {
      "cell_type": "code",
      "source": [
        "np.mean(df_t['actual_time']), np.mean(df_t['segment_actual_time']) "
      ],
      "metadata": {
        "colab": {
          "base_uri": "https://localhost:8080/"
        },
        "id": "BvaadSBnoi14",
        "outputId": "d4a77b80-47b1-4435-fc57-85d9d85c2c52"
      },
      "execution_count": 70,
      "outputs": [
        {
          "output_type": "execute_result",
          "data": {
            "text/plain": [
              "(356.30601203760057, 353.0591735984311)"
            ]
          },
          "metadata": {},
          "execution_count": 70
        }
      ]
    },
    {
      "cell_type": "markdown",
      "source": [
        "#Do hypothesis testing/ visual analysis between osrm distance aggregated value and segment osrm distance aggregated value (aggregated values are the values you’ll get after merging the rows on the basis of trip_uuid)"
      ],
      "metadata": {
        "id": "SQeQMl98pGCT"
      }
    },
    {
      "cell_type": "code",
      "source": [
        "df_t[\"osrm_distance\"].values"
      ],
      "metadata": {
        "colab": {
          "base_uri": "https://localhost:8080/"
        },
        "id": "crSfzUbWpTDC",
        "outputId": "803ae259-a4b6-42de-df6a-5617ab351ed7"
      },
      "execution_count": 72,
      "outputs": [
        {
          "output_type": "execute_result",
          "data": {
            "text/plain": [
              "array([ 991.3523,   85.111 , 2372.0852, ...,   63.2841,  177.6635,\n",
              "         80.5787])"
            ]
          },
          "metadata": {},
          "execution_count": 72
        }
      ]
    },
    {
      "cell_type": "code",
      "source": [
        "df_t[\"segment_osrm_distance\"].values"
      ],
      "metadata": {
        "colab": {
          "base_uri": "https://localhost:8080/"
        },
        "id": "V5uR-h6cpW5v",
        "outputId": "751a387b-ef68-4b27-d16e-9ba1753fb683"
      },
      "execution_count": 73,
      "outputs": [
        {
          "output_type": "execute_result",
          "data": {
            "text/plain": [
              "array([1320.4733,   84.1894, 2545.2678, ...,  104.8866,  223.5324,\n",
              "         80.5787])"
            ]
          },
          "metadata": {},
          "execution_count": 73
        }
      ]
    },
    {
      "cell_type": "markdown",
      "source": [
        "H0: Mean of osrm_distance is equal to mean of segment_osrm_distance \n",
        "\n",
        "Ha: Mean of osrm_distance is not equal to mean of segment_osrm_distance"
      ],
      "metadata": {
        "id": "EGD4QRYWpNXP"
      }
    },
    {
      "cell_type": "code",
      "source": [
        "ttest_ind(df_t[\"osrm_distance\"].values,df_t[\"segment_osrm_distance\"].values)"
      ],
      "metadata": {
        "colab": {
          "base_uri": "https://localhost:8080/"
        },
        "id": "64W2ZMAmpAbv",
        "outputId": "ff14ba1c-d416-497c-95d0-70360a4ad478"
      },
      "execution_count": 74,
      "outputs": [
        {
          "output_type": "execute_result",
          "data": {
            "text/plain": [
              "Ttest_indResult(statistic=-3.937420853623222, pvalue=8.255072509709287e-05)"
            ]
          },
          "metadata": {},
          "execution_count": 74
        }
      ]
    },
    {
      "cell_type": "markdown",
      "source": [
        "As pvalue is very less, we reject the null hypothesis.\n",
        "\n",
        "Mean of osrm_distance is not equal to mean of segment_osrm_distance"
      ],
      "metadata": {
        "id": "15bAWmhZpt4F"
      }
    },
    {
      "cell_type": "markdown",
      "source": [
        "H0: Mean of osrm_distance is less than mean of segment_osrm_distance\n",
        "\n",
        "Ha: Mean of osrm_distance is not less than mean of segment_osrm_distance"
      ],
      "metadata": {
        "id": "bZBtPT_np96P"
      }
    },
    {
      "cell_type": "code",
      "source": [
        "ttest_ind(df_t[\"osrm_distance\"].values,df_t[\"segment_osrm_distance\"].values, alternative = 'greater')"
      ],
      "metadata": {
        "colab": {
          "base_uri": "https://localhost:8080/"
        },
        "id": "p4u_nBm6prO7",
        "outputId": "dce01532-0f39-4d17-9e55-11056b84a9f3"
      },
      "execution_count": 78,
      "outputs": [
        {
          "output_type": "execute_result",
          "data": {
            "text/plain": [
              "Ttest_indResult(statistic=-3.937420853623222, pvalue=0.9999587246374514)"
            ]
          },
          "metadata": {},
          "execution_count": 78
        }
      ]
    },
    {
      "cell_type": "markdown",
      "source": [
        "As pvalue is very high, we fail to reject null hypothesis.\n",
        "\n",
        "Mean of osrm_distance is less than mean of segment_osrm_distance"
      ],
      "metadata": {
        "id": "rAMN5nNPqO9T"
      }
    },
    {
      "cell_type": "markdown",
      "source": [
        "H0: Mean of osrm_distance is greater than mean of segment_osrm_distance\n",
        "\n",
        "Ha: Mean of osrm_distance is not greater than mean of segment_osrm_distance"
      ],
      "metadata": {
        "id": "eB8IzY67qVbQ"
      }
    },
    {
      "cell_type": "code",
      "source": [
        "ttest_ind(df_t[\"osrm_distance\"].values,df_t[\"segment_osrm_distance\"].values, alternative = 'less')"
      ],
      "metadata": {
        "colab": {
          "base_uri": "https://localhost:8080/"
        },
        "id": "dGNFu15IqLtX",
        "outputId": "bf7e095a-063a-484d-82e6-4738e231b32c"
      },
      "execution_count": 79,
      "outputs": [
        {
          "output_type": "execute_result",
          "data": {
            "text/plain": [
              "Ttest_indResult(statistic=-3.937420853623222, pvalue=4.1275362548546435e-05)"
            ]
          },
          "metadata": {},
          "execution_count": 79
        }
      ]
    },
    {
      "cell_type": "markdown",
      "source": [
        "As pvalue is very less, we reject null hypothesis.\n",
        "\n",
        "Mean of osrm_distance is not greater than mean of segment_osrm_distance"
      ],
      "metadata": {
        "id": "eeJ46nthqett"
      }
    },
    {
      "cell_type": "code",
      "source": [
        "np.mean(df_t[\"osrm_distance\"]),np.mean(df_t[\"segment_osrm_distance\"])"
      ],
      "metadata": {
        "colab": {
          "base_uri": "https://localhost:8080/"
        },
        "id": "PcykpM-lqb0P",
        "outputId": "cae61bc6-5d43-49c5-bd4a-0008ff576dad"
      },
      "execution_count": 77,
      "outputs": [
        {
          "output_type": "execute_result",
          "data": {
            "text/plain": [
              "(204.63757452492052, 222.7054664434977)"
            ]
          },
          "metadata": {},
          "execution_count": 77
        }
      ]
    },
    {
      "cell_type": "markdown",
      "source": [
        "#Do hypothesis testing/ visual analysis between osrm time aggregated value and segment osrm time aggregated value (aggregated values are the values you’ll get after merging the rows on the basis of trip_uuid)"
      ],
      "metadata": {
        "id": "H3FJ8IkfsKhy"
      }
    },
    {
      "cell_type": "code",
      "source": [
        "df_t['osrm_time'].values"
      ],
      "metadata": {
        "colab": {
          "base_uri": "https://localhost:8080/"
        },
        "id": "mE0-zwforcGu",
        "outputId": "5bf3a665-b407-4b86-c9f1-090f503967e4"
      },
      "execution_count": 81,
      "outputs": [
        {
          "output_type": "execute_result",
          "data": {
            "text/plain": [
              "array([ 743.,   68., 1741., ...,   54.,  184.,   68.])"
            ]
          },
          "metadata": {},
          "execution_count": 81
        }
      ]
    },
    {
      "cell_type": "code",
      "source": [
        "df_t['segment_osrm_time'].values"
      ],
      "metadata": {
        "colab": {
          "base_uri": "https://localhost:8080/"
        },
        "id": "c_C2p0kLsSWK",
        "outputId": "faea98fd-0891-40e1-ef97-51ffe5378e2e"
      },
      "execution_count": 82,
      "outputs": [
        {
          "output_type": "execute_result",
          "data": {
            "text/plain": [
              "array([1008.,   65., 1941., ...,   88.,  221.,   67.])"
            ]
          },
          "metadata": {},
          "execution_count": 82
        }
      ]
    },
    {
      "cell_type": "code",
      "source": [
        "np.mean(df_t['osrm_time'].values),np.mean(df_t['segment_osrm_time'].values)"
      ],
      "metadata": {
        "colab": {
          "base_uri": "https://localhost:8080/"
        },
        "id": "3Af0Q_DNsXDx",
        "outputId": "19ef9950-07da-48ec-9032-f18ca0b52614"
      },
      "execution_count": 83,
      "outputs": [
        {
          "output_type": "execute_result",
          "data": {
            "text/plain": [
              "(161.669574626361, 180.5115980252925)"
            ]
          },
          "metadata": {},
          "execution_count": 83
        }
      ]
    },
    {
      "cell_type": "markdown",
      "source": [
        "H0: Mean of osrm_time is equal to mean of segment_osrm_time\n",
        "\n",
        "Ha: Mean of osrm_time is not equal to mean of segment_osrm_time"
      ],
      "metadata": {
        "id": "4i-w-uMNsofQ"
      }
    },
    {
      "cell_type": "code",
      "source": [
        "ttest_ind(df_t['osrm_time'].values,df_t['segment_osrm_time'].values)"
      ],
      "metadata": {
        "colab": {
          "base_uri": "https://localhost:8080/"
        },
        "id": "1RAsHTadsgqC",
        "outputId": "5ff0c4f7-7450-463b-e3e0-bc684d20e93d"
      },
      "execution_count": 84,
      "outputs": [
        {
          "output_type": "execute_result",
          "data": {
            "text/plain": [
              "Ttest_indResult(statistic=-5.505014892530727, pvalue=3.7220036379152134e-08)"
            ]
          },
          "metadata": {},
          "execution_count": 84
        }
      ]
    },
    {
      "cell_type": "markdown",
      "source": [
        "As pvalue is very less, we reject null hypothesis.\n",
        "\n",
        "Mean of osrm_time is not equal to mean of segment_osrm_time"
      ],
      "metadata": {
        "id": "XosXA7TZs7fv"
      }
    },
    {
      "cell_type": "markdown",
      "source": [
        "H0: Mean of osrm_time is less than mean of segment_osrm_time\n",
        "\n",
        "Ha: Mean of osrm_time is not less than mean of segment_osrm_time"
      ],
      "metadata": {
        "id": "_d-_1SUttHRE"
      }
    },
    {
      "cell_type": "code",
      "source": [
        "ttest_ind(df_t['osrm_time'].values,df_t['segment_osrm_time'].values,alternative='greater')"
      ],
      "metadata": {
        "colab": {
          "base_uri": "https://localhost:8080/"
        },
        "id": "msPSjNNZs6TQ",
        "outputId": "7630009b-3884-4c75-8cf0-c96af086835a"
      },
      "execution_count": 85,
      "outputs": [
        {
          "output_type": "execute_result",
          "data": {
            "text/plain": [
              "Ttest_indResult(statistic=-5.505014892530727, pvalue=0.9999999813899818)"
            ]
          },
          "metadata": {},
          "execution_count": 85
        }
      ]
    },
    {
      "cell_type": "markdown",
      "source": [
        "As pvalue is very high, we fail to reject null hypothesis.\n",
        "\n",
        "Mean of osrm_time is less than mean of segment_osrm_time"
      ],
      "metadata": {
        "id": "_xB3gYzNtZ_D"
      }
    },
    {
      "cell_type": "markdown",
      "source": [
        "H0: Mean of osrm_time is greater than mean of segment_osrm_time\n",
        "\n",
        "Ha: Mean of osrm_time is not greater than mean of segment_osrm_time"
      ],
      "metadata": {
        "id": "rDkf2R7btrgF"
      }
    },
    {
      "cell_type": "code",
      "source": [
        "ttest_ind(df_t['osrm_time'].values,df_t['segment_osrm_time'].values,alternative='less')"
      ],
      "metadata": {
        "colab": {
          "base_uri": "https://localhost:8080/"
        },
        "id": "iL4yuoixtXyI",
        "outputId": "d82d521b-e5ab-4c3d-dedb-2c78472ac557"
      },
      "execution_count": 86,
      "outputs": [
        {
          "output_type": "execute_result",
          "data": {
            "text/plain": [
              "Ttest_indResult(statistic=-5.505014892530727, pvalue=1.8610018189576067e-08)"
            ]
          },
          "metadata": {},
          "execution_count": 86
        }
      ]
    },
    {
      "cell_type": "markdown",
      "source": [
        "As pvalue is very less, we reject null hypothesis.\n",
        "\n",
        "Mean of osrm_time is not greater than mean of segment_osrm_time"
      ],
      "metadata": {
        "id": "w4xJRgt_tx_m"
      }
    },
    {
      "cell_type": "markdown",
      "source": [
        "#Find outliers in the numerical variables (you might find outliers in almost all the variables), and check it using visual analysis"
      ],
      "metadata": {
        "id": "w-NdZ-ZpuBWG"
      }
    },
    {
      "cell_type": "code",
      "source": [
        "num_columns = df_t.columns[(df_t.dtypes=='float64')]\n",
        "num_columns"
      ],
      "metadata": {
        "colab": {
          "base_uri": "https://localhost:8080/"
        },
        "id": "fgcqMLmQtwla",
        "outputId": "a0e5c67d-e82b-44c6-b4a6-668991379a01"
      },
      "execution_count": 90,
      "outputs": [
        {
          "output_type": "execute_result",
          "data": {
            "text/plain": [
              "Index(['start_scan_to_end_scan', 'actual_time', 'osrm_time',\n",
              "       'segment_actual_time', 'segment_osrm_time', 'osrm_distance',\n",
              "       'segment_osrm_distance', 'actual_distance_to_destination',\n",
              "       'duration_of_od_in_min'],\n",
              "      dtype='object')"
            ]
          },
          "metadata": {},
          "execution_count": 90
        }
      ]
    },
    {
      "cell_type": "code",
      "source": [
        "def box_plot(num_columns):  \n",
        "  fig, axes = plt.subplots(nrows=9, ncols=1, figsize=(5,40))\n",
        "  for idx, col in enumerate(list(num_columns)):\n",
        "      sns.boxplot(x=df_t[col], ax=axes[idx])\n",
        "\n",
        "box_plot(num_columns)"
      ],
      "metadata": {
        "colab": {
          "base_uri": "https://localhost:8080/",
          "height": 1000
        },
        "id": "5_8vHOmjuY6v",
        "outputId": "55315292-44a9-4c1f-bbec-1b8b38a629e5"
      },
      "execution_count": 91,
      "outputs": [
        {
          "output_type": "display_data",
          "data": {
            "text/plain": [
              "<Figure size 360x2880 with 9 Axes>"
            ],
            "image/png": "[encoded data removed]"
          },
          "metadata": {
            "needs_background": "light"
          }
        }
      ]
    },
    {
      "cell_type": "markdown",
      "source": [
        "#Handle the outliers using the IQR method."
      ],
      "metadata": {
        "id": "R3EmAkgBvaVH"
      }
    },
    {
      "cell_type": "code",
      "source": [
        "for col in list(num_columns):\n",
        "    print(\"\\n\")\n",
        "    print(\"### Column Name: \", col)\n",
        "    values = np.sort(df_t[col])\n",
        "    p_25 = np.percentile(values, 25).round(2)\n",
        "    p_75 = np.percentile(values, 75).round(2)\n",
        "    print(\"25 th Percentile: \", p_25)\n",
        "    print(\"75 th Percentile: \", p_75)\n",
        "    print(\"IQR: \", np.round(p_75 - p_25, 2))\n",
        "    iqr = p_75 - p_25\n",
        "    l_bound = np.round(p_25 - (1.5 * iqr), 2)\n",
        "    if l_bound < 0:\n",
        "        l_bound = 0\n",
        "    u_bound = np.round(p_75 + (1.5 * iqr), 2)\n",
        "    print(\"Lower Bound: \", l_bound)\n",
        "    print(\"Upper Bound: \", u_bound)"
      ],
      "metadata": {
        "colab": {
          "base_uri": "https://localhost:8080/"
        },
        "id": "66T3_K2PvJ5d",
        "outputId": "6fc94973-0209-427a-dadd-886dfd148072"
      },
      "execution_count": 94,
      "outputs": [
        {
          "output_type": "stream",
          "name": "stdout",
          "text": [
            "\n",
            "\n",
            "### Column Name:  start_scan_to_end_scan\n",
            "25 th Percentile:  149.0\n",
            "75 th Percentile:  632.0\n",
            "IQR:  483.0\n",
            "Lower Bound:  0\n",
            "Upper Bound:  1356.5\n",
            "\n",
            "\n",
            "### Column Name:  actual_time\n",
            "25 th Percentile:  67.0\n",
            "75 th Percentile:  367.0\n",
            "IQR:  300.0\n",
            "Lower Bound:  0\n",
            "Upper Bound:  817.0\n",
            "\n",
            "\n",
            "### Column Name:  osrm_time\n",
            "25 th Percentile:  29.0\n",
            "75 th Percentile:  168.0\n",
            "IQR:  139.0\n",
            "Lower Bound:  0\n",
            "Upper Bound:  376.5\n",
            "\n",
            "\n",
            "### Column Name:  segment_actual_time\n",
            "25 th Percentile:  66.0\n",
            "75 th Percentile:  364.0\n",
            "IQR:  298.0\n",
            "Lower Bound:  0\n",
            "Upper Bound:  811.0\n",
            "\n",
            "\n",
            "### Column Name:  segment_osrm_time\n",
            "25 th Percentile:  30.0\n",
            "75 th Percentile:  184.0\n",
            "IQR:  154.0\n",
            "Lower Bound:  0\n",
            "Upper Bound:  415.0\n",
            "\n",
            "\n",
            "### Column Name:  osrm_distance\n",
            "25 th Percentile:  30.88\n",
            "75 th Percentile:  207.16\n",
            "IQR:  176.28\n",
            "Lower Bound:  0\n",
            "Upper Bound:  471.58\n",
            "\n",
            "\n",
            "### Column Name:  segment_osrm_distance\n",
            "25 th Percentile:  32.58\n",
            "75 th Percentile:  216.56\n",
            "IQR:  183.98\n",
            "Lower Bound:  0\n",
            "Upper Bound:  492.53\n",
            "\n",
            "\n",
            "### Column Name:  actual_distance_to_destination\n",
            "25 th Percentile:  22.84\n",
            "75 th Percentile:  163.7\n",
            "IQR:  140.86\n",
            "Lower Bound:  0\n",
            "Upper Bound:  374.99\n",
            "\n",
            "\n",
            "### Column Name:  duration_of_od_in_min\n",
            "25 th Percentile:  144.31\n",
            "75 th Percentile:  564.47\n",
            "IQR:  420.16\n",
            "Lower Bound:  0\n",
            "Upper Bound:  1194.71\n"
          ]
        }
      ]
    },
    {
      "cell_type": "code",
      "source": [
        "#lets remove the outliers \n",
        "\n",
        "df_rem_outliers = df_t[(df_t['start_scan_to_end_scan'] <= 1356.5 ) & \n",
        "                         (df_t['actual_time'] <= 817) &\n",
        "                         (df_t['osrm_time'] <= 376.5) &\n",
        "                         (df_t['segment_actual_time'] <= 811) &\n",
        "                         (df_t['segment_osrm_time'] <= 415) &\n",
        "                         (df_t['osrm_distance'] <= 471.58) &\n",
        "                         (df_t['segment_osrm_distance'] <= 492.53) &\n",
        "                         (df_t['actual_distance_to_destination'] <= 374.99) &\n",
        "                         (df_t['duration_of_od_in_min'] <= 1194.71)]\n",
        "                         \n",
        "len(df_rem_outliers)"
      ],
      "metadata": {
        "colab": {
          "base_uri": "https://localhost:8080/"
        },
        "id": "0496xywky4WZ",
        "outputId": "5430c399-18cc-4967-f23d-889ab8a9047e"
      },
      "execution_count": 97,
      "outputs": [
        {
          "output_type": "execute_result",
          "data": {
            "text/plain": [
              "12568"
            ]
          },
          "metadata": {},
          "execution_count": 97
        }
      ]
    },
    {
      "cell_type": "markdown",
      "source": [
        "#Do one-hot encoding of categorical variables (like route_type)"
      ],
      "metadata": {
        "id": "sgMyBzwkz9od"
      }
    },
    {
      "cell_type": "markdown",
      "source": [
        "one hot encoding using pandas"
      ],
      "metadata": {
        "id": "EwAeG2yO1CXs"
      }
    },
    {
      "cell_type": "code",
      "source": [
        "df_t['route_type'].value_counts()"
      ],
      "metadata": {
        "colab": {
          "base_uri": "https://localhost:8080/"
        },
        "id": "8vliI6WMzpnM",
        "outputId": "290031f3-0087-485f-97df-9c353d3a513f"
      },
      "execution_count": 98,
      "outputs": [
        {
          "output_type": "execute_result",
          "data": {
            "text/plain": [
              "Carting    8906\n",
              "FTL        5881\n",
              "Name: route_type, dtype: int64"
            ]
          },
          "metadata": {},
          "execution_count": 98
        }
      ]
    },
    {
      "cell_type": "code",
      "source": [
        "df_one_en = pd.get_dummies(df_t['route_type'], prefix='route_type')\n",
        "print(df_one_en.head())"
      ],
      "metadata": {
        "colab": {
          "base_uri": "https://localhost:8080/"
        },
        "id": "Mc21bnYP0i-V",
        "outputId": "a3030e49-3c92-4c08-8c23-fbea4065933b"
      },
      "execution_count": 100,
      "outputs": [
        {
          "output_type": "stream",
          "name": "stdout",
          "text": [
            "   route_type_Carting  route_type_FTL\n",
            "0                   0               1\n",
            "1                   1               0\n",
            "2                   0               1\n",
            "3                   1               0\n",
            "4                   0               1\n"
          ]
        }
      ]
    },
    {
      "cell_type": "markdown",
      "source": [
        "one hot encoding using sklearn"
      ],
      "metadata": {
        "id": "Cp6MvJrq1EPG"
      }
    },
    {
      "cell_type": "code",
      "source": [
        "from sklearn.preprocessing import OneHotEncoder"
      ],
      "metadata": {
        "id": "BvsMMUx80y14"
      },
      "execution_count": 101,
      "outputs": []
    },
    {
      "cell_type": "code",
      "source": [
        "one_hot_encode = OneHotEncoder()\n",
        "encoded_value = one_hot_encode.fit_transform(df_t[['route_type']])\n"
      ],
      "metadata": {
        "id": "MWkG4Pis0-bd"
      },
      "execution_count": 104,
      "outputs": []
    },
    {
      "cell_type": "code",
      "source": [
        "encoded_value.toarray().sum(axis=0)"
      ],
      "metadata": {
        "colab": {
          "base_uri": "https://localhost:8080/"
        },
        "id": "ssk9JLN21Qjn",
        "outputId": "4cd77373-8d24-4b7e-ed3b-1be853b510dd"
      },
      "execution_count": 107,
      "outputs": [
        {
          "output_type": "execute_result",
          "data": {
            "text/plain": [
              "array([8906., 5881.])"
            ]
          },
          "metadata": {},
          "execution_count": 107
        }
      ]
    },
    {
      "cell_type": "code",
      "source": [
        "df_encode = pd.DataFrame()"
      ],
      "metadata": {
        "id": "QkGvusxR1Sgh"
      },
      "execution_count": 108,
      "outputs": []
    },
    {
      "cell_type": "code",
      "source": [
        "df_encode[['Carting', 'FTL']] = encoded_value.toarray()"
      ],
      "metadata": {
        "id": "aDDui-OV1mc5"
      },
      "execution_count": 109,
      "outputs": []
    },
    {
      "cell_type": "code",
      "source": [
        "df_encode"
      ],
      "metadata": {
        "colab": {
          "base_uri": "https://localhost:8080/",
          "height": 424
        },
        "id": "fwzQxqt41r5r",
        "outputId": "d4df2cbf-6778-4895-f199-f0d12069bf52"
      },
      "execution_count": 110,
      "outputs": [
        {
          "output_type": "execute_result",
          "data": {
            "text/plain": [
              "       Carting  FTL\n",
              "0          0.0  1.0\n",
              "1          1.0  0.0\n",
              "2          0.0  1.0\n",
              "3          1.0  0.0\n",
              "4          0.0  1.0\n",
              "...        ...  ...\n",
              "14782      1.0  0.0\n",
              "14783      1.0  0.0\n",
              "14784      1.0  0.0\n",
              "14785      1.0  0.0\n",
              "14786      0.0  1.0\n",
              "\n",
              "[14787 rows x 2 columns]"
            ],
            "text/html": [
              "\n",
              "  <div id=\"df-886e8cf3-f69e-4c63-a88e-778a3413a292\">\n",
              "    <div class=\"colab-df-container\">\n",
              "      <div>\n",
              "<style scoped>\n",
              "    .dataframe tbody tr th:only-of-type {\n",
              "        vertical-align: middle;\n",
              "    }\n",
              "\n",
              "    .dataframe tbody tr th {\n",
              "        vertical-align: top;\n",
              "    }\n",
              "\n",
              "    .dataframe thead th {\n",
              "        text-align: right;\n",
              "    }\n",
              "</style>\n",
              "<table border=\"1\" class=\"dataframe\">\n",
              "  <thead>\n",
              "    <tr style=\"text-align: right;\">\n",
              "      <th></th>\n",
              "      <th>Carting</th>\n",
              "      <th>FTL</th>\n",
              "    </tr>\n",
              "  </thead>\n",
              "  <tbody>\n",
              "    <tr>\n",
              "      <th>0</th>\n",
              "      <td>0.0</td>\n",
              "      <td>1.0</td>\n",
              "    </tr>\n",
              "    <tr>\n",
              "      <th>1</th>\n",
              "      <td>1.0</td>\n",
              "      <td>0.0</td>\n",
              "    </tr>\n",
              "    <tr>\n",
              "      <th>2</th>\n",
              "      <td>0.0</td>\n",
              "      <td>1.0</td>\n",
              "    </tr>\n",
              "    <tr>\n",
              "      <th>3</th>\n",
              "      <td>1.0</td>\n",
              "      <td>0.0</td>\n",
              "    </tr>\n",
              "    <tr>\n",
              "      <th>4</th>\n",
              "      <td>0.0</td>\n",
              "      <td>1.0</td>\n",
              "    </tr>\n",
              "    <tr>\n",
              "      <th>...</th>\n",
              "      <td>...</td>\n",
              "      <td>...</td>\n",
              "    </tr>\n",
              "    <tr>\n",
              "      <th>14782</th>\n",
              "      <td>1.0</td>\n",
              "      <td>0.0</td>\n",
              "    </tr>\n",
              "    <tr>\n",
              "      <th>14783</th>\n",
              "      <td>1.0</td>\n",
              "      <td>0.0</td>\n",
              "    </tr>\n",
              "    <tr>\n",
              "      <th>14784</th>\n",
              "      <td>1.0</td>\n",
              "      <td>0.0</td>\n",
              "    </tr>\n",
              "    <tr>\n",
              "      <th>14785</th>\n",
              "      <td>1.0</td>\n",
              "      <td>0.0</td>\n",
              "    </tr>\n",
              "    <tr>\n",
              "      <th>14786</th>\n",
              "      <td>0.0</td>\n",
              "      <td>1.0</td>\n",
              "    </tr>\n",
              "  </tbody>\n",
              "</table>\n",
              "<p>14787 rows × 2 columns</p>\n",
              "</div>\n",
              "      <button class=\"colab-df-convert\" onclick=\"convertToInteractive('df-886e8cf3-f69e-4c63-a88e-778a3413a292')\"\n",
              "              title=\"Convert this dataframe to an interactive table.\"\n",
              "              style=\"display:none;\">\n",
              "        \n",
              "  <svg xmlns=\"http://www.w3.org/2000/svg\" height=\"24px\"viewBox=\"0 0 24 24\"\n",
              "       width=\"24px\">\n",
              "    <path d=\"M0 0h24v24H0V0z\" fill=\"none\"/>\n",
              "    <path d=\"M18.56 5.44l.94 2.06.94-2.06 2.06-.94-2.06-.94-.94-2.06-.94 2.06-2.06.94zm-11 1L8.5 8.5l.94-2.06 2.06-.94-2.06-.94L8.5 2.5l-.94 2.06-2.06.94zm10 10l.94 2.06.94-2.06 2.06-.94-2.06-.94-.94-2.06-.94 2.06-2.06.94z\"/><path d=\"M17.41 7.96l-1.37-1.37c-.4-.4-.92-.59-1.43-.59-.52 0-1.04.2-1.43.59L10.3 9.45l-7.72 7.72c-.78.78-.78 2.05 0 2.83L4 21.41c.39.39.9.59 1.41.59.51 0 1.02-.2 1.41-.59l7.78-7.78 2.81-2.81c.8-.78.8-2.07 0-2.86zM5.41 20L4 18.59l7.72-7.72 1.47 1.35L5.41 20z\"/>\n",
              "  </svg>\n",
              "      </button>\n",
              "      \n",
              "  <style>\n",
              "    .colab-df-container {\n",
              "      display:flex;\n",
              "      flex-wrap:wrap;\n",
              "      gap: 12px;\n",
              "    }\n",
              "\n",
              "    .colab-df-convert {\n",
              "      background-color: #E8F0FE;\n",
              "      border: none;\n",
              "      border-radius: 50%;\n",
              "      cursor: pointer;\n",
              "      display: none;\n",
              "      fill: #1967D2;\n",
              "      height: 32px;\n",
              "      padding: 0 0 0 0;\n",
              "      width: 32px;\n",
              "    }\n",
              "\n",
              "    .colab-df-convert:hover {\n",
              "      background-color: #E2EBFA;\n",
              "      box-shadow: 0px 1px 2px rgba(60, 64, 67, 0.3), 0px 1px 3px 1px rgba(60, 64, 67, 0.15);\n",
              "      fill: #174EA6;\n",
              "    }\n",
              "\n",
              "    [theme=dark] .colab-df-convert {\n",
              "      background-color: #3B4455;\n",
              "      fill: #D2E3FC;\n",
              "    }\n",
              "\n",
              "    [theme=dark] .colab-df-convert:hover {\n",
              "      background-color: #434B5C;\n",
              "      box-shadow: 0px 1px 3px 1px rgba(0, 0, 0, 0.15);\n",
              "      filter: drop-shadow(0px 1px 2px rgba(0, 0, 0, 0.3));\n",
              "      fill: #FFFFFF;\n",
              "    }\n",
              "  </style>\n",
              "\n",
              "      <script>\n",
              "        const buttonEl =\n",
              "          document.querySelector('#df-886e8cf3-f69e-4c63-a88e-778a3413a292 button.colab-df-convert');\n",
              "        buttonEl.style.display =\n",
              "          google.colab.kernel.accessAllowed ? 'block' : 'none';\n",
              "\n",
              "        async function convertToInteractive(key) {\n",
              "          const element = document.querySelector('#df-886e8cf3-f69e-4c63-a88e-778a3413a292');\n",
              "          const dataTable =\n",
              "            await google.colab.kernel.invokeFunction('convertToInteractive',\n",
              "                                                     [key], {});\n",
              "          if (!dataTable) return;\n",
              "\n",
              "          const docLinkHtml = 'Like what you see? Visit the ' +\n",
              "            '<a target=\"_blank\" href=https://colab.research.google.com/notebooks/data_table.ipynb>data table notebook</a>'\n",
              "            + ' to learn more about interactive tables.';\n",
              "          element.innerHTML = '';\n",
              "          dataTable['output_type'] = 'display_data';\n",
              "          await google.colab.output.renderOutput(dataTable, element);\n",
              "          const docLink = document.createElement('div');\n",
              "          docLink.innerHTML = docLinkHtml;\n",
              "          element.appendChild(docLink);\n",
              "        }\n",
              "      </script>\n",
              "    </div>\n",
              "  </div>\n",
              "  "
            ]
          },
          "metadata": {},
          "execution_count": 110
        }
      ]
    },
    {
      "cell_type": "markdown",
      "source": [
        "#Normalize/ Standardize the numerical features using MinMaxScaler or StandardScaler"
      ],
      "metadata": {
        "id": "_RX8eM6r10Q7"
      }
    },
    {
      "cell_type": "code",
      "source": [
        "from sklearn.preprocessing import MinMaxScaler"
      ],
      "metadata": {
        "id": "f2Qfdzt91vDM"
      },
      "execution_count": 111,
      "outputs": []
    },
    {
      "cell_type": "code",
      "source": [
        "min_max_s = MinMaxScaler()\n",
        "min_max_val = min_max_s.fit_transform(df_t[['actual_time']])"
      ],
      "metadata": {
        "id": "QqSVEqeT2EiS"
      },
      "execution_count": 112,
      "outputs": []
    },
    {
      "cell_type": "code",
      "source": [
        "min_max_val"
      ],
      "metadata": {
        "colab": {
          "base_uri": "https://localhost:8080/"
        },
        "id": "n8C_vFBD2OzU",
        "outputId": "7c8bd03a-0e11-471d-ab59-4829fb4525b0"
      },
      "execution_count": 113,
      "outputs": [
        {
          "output_type": "execute_result",
          "data": {
            "text/plain": [
              "array([[0.24824169],\n",
              "       [0.02141944],\n",
              "       [0.53356777],\n",
              "       ...,\n",
              "       [0.04363811],\n",
              "       [0.04076087],\n",
              "       [0.04251918]])"
            ]
          },
          "metadata": {},
          "execution_count": 113
        }
      ]
    },
    {
      "cell_type": "markdown",
      "source": [
        "#Observations and recommendations"
      ],
      "metadata": {
        "id": "lh1fjwP_2gGX"
      }
    },
    {
      "cell_type": "code",
      "source": [
        "df_t['source_name'].value_counts()"
      ],
      "metadata": {
        "colab": {
          "base_uri": "https://localhost:8080/"
        },
        "id": "RuOG3B8m2Q8_",
        "outputId": "ad8ea5bd-ec4b-4b0d-bb5c-5663d59933aa"
      },
      "execution_count": 114,
      "outputs": [
        {
          "output_type": "execute_result",
          "data": {
            "text/plain": [
              "Gurgaon_Bilaspur_HB (Haryana)            937\n",
              "Bhiwandi_Mankoli_HB (Maharashtra)        811\n",
              "Bangalore_Nelmngla_H (Karnataka)         731\n",
              "Bengaluru_Bomsndra_HB (Karnataka)        426\n",
              "Chandigarh_Mehmdpur_H (Punjab)           370\n",
              "                                        ... \n",
              "Jaipur_NgrNigam_DC (Rajasthan)             1\n",
              "Saundatti_ShanthiS_D (Karnataka)           1\n",
              "Sindagi_KalyanNg_D (Karnataka)             1\n",
              "Bulndshahr_Ymunpurm_D (Uttar Pradesh)      1\n",
              "Phulera_NarenaRD_D (Rajasthan)             1\n",
              "Name: source_name, Length: 865, dtype: int64"
            ]
          },
          "metadata": {},
          "execution_count": 114
        }
      ]
    },
    {
      "cell_type": "markdown",
      "source": [
        "Most orders are having source from Gurgaon_Bilaspur_HB (Haryana). "
      ],
      "metadata": {
        "id": "s23vIub02odE"
      }
    },
    {
      "cell_type": "code",
      "source": [
        "df_t['destination_name'].value_counts()"
      ],
      "metadata": {
        "colab": {
          "base_uri": "https://localhost:8080/"
        },
        "id": "5RGyMcxA2leu",
        "outputId": "69bde544-a053-420c-f218-553f5f36cc63"
      },
      "execution_count": 115,
      "outputs": [
        {
          "output_type": "execute_result",
          "data": {
            "text/plain": [
              "Gurgaon_Bilaspur_HB (Haryana)        813\n",
              "Bangalore_Nelmngla_H (Karnataka)     628\n",
              "Bhiwandi_Mankoli_HB (Maharashtra)    573\n",
              "Chandigarh_Mehmdpur_H (Punjab)       431\n",
              "Hyderabad_Shamshbd_H (Telangana)     400\n",
              "                                    ... \n",
              "Bolpur_WebelDPP_D (West Bengal)        1\n",
              "Bhandara_KaremDPP_D (Maharashtra)      1\n",
              "Shirdi_SaiBansi_D (Maharashtra)        1\n",
              "Sullia_Srirampt_D (Karnataka)          1\n",
              "Jaipur_Central_D_1 (Rajasthan)         1\n",
              "Name: destination_name, Length: 951, dtype: int64"
            ]
          },
          "metadata": {},
          "execution_count": 115
        }
      ]
    },
    {
      "cell_type": "markdown",
      "source": [
        "Most orders are having destination as Gurgaon_Bilaspur_HB (Haryana)."
      ],
      "metadata": {
        "id": "2iS76CDE3D5S"
      }
    },
    {
      "cell_type": "code",
      "source": [
        "df_t['route_type'].value_counts()"
      ],
      "metadata": {
        "colab": {
          "base_uri": "https://localhost:8080/"
        },
        "id": "oMCNtMe02_yF",
        "outputId": "dd86de56-7ad0-4559-cc65-6ac6e59ebc0e"
      },
      "execution_count": 116,
      "outputs": [
        {
          "output_type": "execute_result",
          "data": {
            "text/plain": [
              "Carting    8906\n",
              "FTL        5881\n",
              "Name: route_type, dtype: int64"
            ]
          },
          "metadata": {},
          "execution_count": 116
        }
      ]
    },
    {
      "cell_type": "markdown",
      "source": [
        " Most trips are of Carting."
      ],
      "metadata": {
        "id": "rG8-jjuv3VHq"
      }
    },
    {
      "cell_type": "code",
      "source": [
        "df_t['sr_state'].value_counts()  "
      ],
      "metadata": {
        "colab": {
          "base_uri": "https://localhost:8080/"
        },
        "id": "BAaTyVul3S41",
        "outputId": "553e1a93-97bc-4e9d-a380-c8b159c91a03"
      },
      "execution_count": 118,
      "outputs": [
        {
          "output_type": "execute_result",
          "data": {
            "text/plain": [
              "Maharashtra               2682\n",
              "Karnataka                 2229\n",
              "Haryana                   1669\n",
              "Tamil Nadu                1085\n",
              "Delhi                      790\n",
              "Telangana                  779\n",
              "Gujarat                    746\n",
              "Uttar Pradesh              719\n",
              "West Bengal                677\n",
              "Punjab                     630\n",
              "Rajasthan                  493\n",
              "Andhra Pradesh             407\n",
              "Bihar                      358\n",
              "Madhya Pradesh             333\n",
              "Kerala                     289\n",
              "Assam                      273\n",
              "Jharkhand                  160\n",
              "Uttarakhand                114\n",
              "Orissa                     107\n",
              "Goa                         65\n",
              "Chandigarh                  48\n",
              "Chhattisgarh                43\n",
              "Himachal Pradesh            34\n",
              "Jammu & Kashmir             17\n",
              "Dadra and Nagar Haveli      15\n",
              "Pondicherry                 12\n",
              "Nagaland                     5\n",
              "Arunachal Pradesh            4\n",
              "Mizoram                      4\n",
              "Name: sr_state, dtype: int64"
            ]
          },
          "metadata": {},
          "execution_count": 118
        }
      ]
    },
    {
      "cell_type": "markdown",
      "source": [
        "The state with the most order sources is Maharashtra."
      ],
      "metadata": {
        "id": "lLH7COfH3vOv"
      }
    },
    {
      "cell_type": "code",
      "source": [
        "df_t['des_state'].value_counts()  "
      ],
      "metadata": {
        "colab": {
          "base_uri": "https://localhost:8080/"
        },
        "id": "gyPsecQP3ivY",
        "outputId": "887168a4-81d2-42e0-f2c9-dc640d2c5270"
      },
      "execution_count": 119,
      "outputs": [
        {
          "output_type": "execute_result",
          "data": {
            "text/plain": [
              "Maharashtra               2591\n",
              "Karnataka                 2276\n",
              "Haryana                   1664\n",
              "Tamil Nadu                1072\n",
              "Telangana                  843\n",
              "Gujarat                    746\n",
              "Uttar Pradesh              731\n",
              "West Bengal                708\n",
              "Punjab                     693\n",
              "Delhi                      674\n",
              "Rajasthan                  523\n",
              "Andhra Pradesh             408\n",
              "Bihar                      363\n",
              "Madhya Pradesh             329\n",
              "Kerala                     273\n",
              "Assam                      234\n",
              "Jharkhand                  168\n",
              "Orissa                     119\n",
              "Uttarakhand                113\n",
              "Goa                         65\n",
              "Chhattisgarh                43\n",
              "Himachal Pradesh            40\n",
              "Chandigarh                  29\n",
              "Arunachal Pradesh           23\n",
              "Dadra and Nagar Haveli      17\n",
              "Jammu & Kashmir             15\n",
              "Pondicherry                 10\n",
              "Meghalaya                    8\n",
              "Mizoram                      6\n",
              "Nagaland                     1\n",
              "Tripura                      1\n",
              "Daman & Diu                  1\n",
              "Name: des_state, dtype: int64"
            ]
          },
          "metadata": {},
          "execution_count": 119
        }
      ]
    },
    {
      "cell_type": "markdown",
      "source": [
        "The state with the most order destination is Maharashtra."
      ],
      "metadata": {
        "id": "G94ntVKG3714"
      }
    },
    {
      "cell_type": "code",
      "source": [
        "df_t['trip_creation_time'].dt.day_name().value_counts()"
      ],
      "metadata": {
        "colab": {
          "base_uri": "https://localhost:8080/"
        },
        "id": "4aKmUM5f34M9",
        "outputId": "737688fb-afd4-4377-8c24-0119145245ee"
      },
      "execution_count": 120,
      "outputs": [
        {
          "output_type": "execute_result",
          "data": {
            "text/plain": [
              "Wednesday    2731\n",
              "Saturday     2128\n",
              "Thursday     2103\n",
              "Friday       2057\n",
              "Tuesday      2035\n",
              "Monday       1980\n",
              "Sunday       1753\n",
              "Name: trip_creation_time, dtype: int64"
            ]
          },
          "metadata": {},
          "execution_count": 120
        }
      ]
    },
    {
      "cell_type": "markdown",
      "source": [
        "Most trip creation day is on wednesday. "
      ],
      "metadata": {
        "id": "e52AdpFF4U_9"
      }
    },
    {
      "cell_type": "code",
      "source": [],
      "metadata": {
        "id": "lqeEThvW4Pyx"
      },
      "execution_count": null,
      "outputs": []
    }
  ]
}